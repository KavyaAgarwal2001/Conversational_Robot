{
  "nbformat": 4,
  "nbformat_minor": 0,
  "metadata": {
    "colab": {
      "name": "TextToSpeech.ipynb",
      "provenance": []
    },
    "kernelspec": {
      "name": "python3",
      "display_name": "Python 3"
    }
  },
  "cells": [
    {
      "cell_type": "code",
      "metadata": {
        "id": "ckFSJ33t9aAg",
        "colab_type": "code",
        "colab": {
          "base_uri": "https://localhost:8080/",
          "height": 355
        },
        "outputId": "50b5db89-b6e4-4135-ce25-5c490d46ba2d"
      },
      "source": [
        "#reference : https://medium.com/quick-code/lets-learn-about-creating-text-to-speech-with-python-and-gtts-4f012294acd6\n",
        "#install gTTS\n",
        "!pip install gtts"
      ],
      "execution_count": 1,
      "outputs": [
        {
          "output_type": "stream",
          "text": [
            "Collecting gtts\n",
            "  Downloading https://files.pythonhosted.org/packages/a1/0c/4ca77eca3b739a4a08360930643f58d714e302fee0d2f8c654e67d9af8e7/gTTS-2.1.1-py3-none-any.whl\n",
            "Requirement already satisfied: six in /usr/local/lib/python3.6/dist-packages (from gtts) (1.12.0)\n",
            "Requirement already satisfied: requests in /usr/local/lib/python3.6/dist-packages (from gtts) (2.23.0)\n",
            "Requirement already satisfied: beautifulsoup4 in /usr/local/lib/python3.6/dist-packages (from gtts) (4.6.3)\n",
            "Collecting gtts-token>=1.1.3\n",
            "  Downloading https://files.pythonhosted.org/packages/e7/25/ca6e9cd3275bfc3097fe6b06cc31db6d3dfaf32e032e0f73fead9c9a03ce/gTTS-token-1.1.3.tar.gz\n",
            "Requirement already satisfied: click in /usr/local/lib/python3.6/dist-packages (from gtts) (7.1.2)\n",
            "Requirement already satisfied: certifi>=2017.4.17 in /usr/local/lib/python3.6/dist-packages (from requests->gtts) (2020.6.20)\n",
            "Requirement already satisfied: urllib3!=1.25.0,!=1.25.1,<1.26,>=1.21.1 in /usr/local/lib/python3.6/dist-packages (from requests->gtts) (1.24.3)\n",
            "Requirement already satisfied: idna<3,>=2.5 in /usr/local/lib/python3.6/dist-packages (from requests->gtts) (2.9)\n",
            "Requirement already satisfied: chardet<4,>=3.0.2 in /usr/local/lib/python3.6/dist-packages (from requests->gtts) (3.0.4)\n",
            "Building wheels for collected packages: gtts-token\n",
            "  Building wheel for gtts-token (setup.py) ... \u001b[?25l\u001b[?25hdone\n",
            "  Created wheel for gtts-token: filename=gTTS_token-1.1.3-cp36-none-any.whl size=4097 sha256=aad7be28651ae8a0b7de471657ebf11b4b527e8b24f5b6584f39eff5613928ea\n",
            "  Stored in directory: /root/.cache/pip/wheels/dd/11/61/33f7e51bf545e910552b2255eead2a7cd8ef54064b46dceb34\n",
            "Successfully built gtts-token\n",
            "Installing collected packages: gtts-token, gtts\n",
            "Successfully installed gtts-2.1.1 gtts-token-1.1.3\n"
          ],
          "name": "stdout"
        }
      ]
    },
    {
      "cell_type": "code",
      "metadata": {
        "id": "CSOnLzeN-06Y",
        "colab_type": "code",
        "colab": {}
      },
      "source": [
        "import os\n",
        "from gtts import gTTS"
      ],
      "execution_count": null,
      "outputs": []
    },
    {
      "cell_type": "code",
      "metadata": {
        "id": "I1XoRTawBOGh",
        "colab_type": "code",
        "colab": {}
      },
      "source": [
        "# Options\n",
        "text_to_read = \"This is just a test using GTTS, a Python package library\"\n",
        "language = 'en'\n",
        "slow_audio_speed = False\n",
        "filename = 'my_file.mp3'"
      ],
      "execution_count": 6,
      "outputs": []
    },
    {
      "cell_type": "code",
      "metadata": {
        "id": "HvZ7kYafBWWN",
        "colab_type": "code",
        "colab": {}
      },
      "source": [
        "# Reading from a string\n",
        "    \n",
        "def reading_from_string():\n",
        "    \n",
        "    audio_created = gTTS(text=text_to_read, lang=language,slow=slow_audio_speed)\n",
        "                        \n",
        "    audio_created.save(filename)\n",
        "        \n",
        "    os.system(f'start {filename}')\n",
        "\n",
        "\n",
        "#We create a gTTS object with the options we created at the start, \n",
        "#we save it to the filename (that’s it, my_file.mp3). \n",
        "#Now we are done, but we want to play the file we have just created. \n",
        "#So, we use the os library to play the file with the name filename on the current folder.    "
      ],
      "execution_count": 9,
      "outputs": []
    },
    {
      "cell_type": "code",
      "metadata": {
        "id": "OUPcw21BCfnw",
        "colab_type": "code",
        "colab": {}
      },
      "source": [
        "#Reading from the user’s input\n",
        "\n",
        "def reading_from_user():\n",
        "     user_input = input(\"What text should I read for you?\\n\")\n",
        "     audio_created = gTTS(text=user_input, lang=language, slow=slow_audio_speed)\n",
        "     audio_created.save(filename)\n",
        "     os.system(f'start {filename}')\n",
        "#pretty much same as before\n",
        "#asking the user to introduce some text to transform it into an audio file."
      ],
      "execution_count": 11,
      "outputs": []
    },
    {
      "cell_type": "code",
      "metadata": {
        "id": "PlcmvHGYCsiA",
        "colab_type": "code",
        "colab": {}
      },
      "source": [
        "#Reading from a file\n",
        "\n",
        "def reading_from_file():\n",
        "    file_to_read = input(\"Please, insert the name of a file to read:\\n\") + '.txt'\n",
        "    f = open(file_to_read, 'r')\n",
        "    file_text = f.read()\n",
        "    f.close()\n",
        "        \n",
        "    audio_created = gTTS(text=file_text, lang=language, slow=slow_audio_speed)\n",
        "    audio_created.save(filename)\n",
        "        \n",
        "    os.system(f'start {filename}')\n",
        "\n",
        "#ask the user to introduce the name of a file\n",
        "#we add the .txt extension\n",
        "#we open and read the text\n",
        "#and as always we create the mp3.    "
      ],
      "execution_count": 12,
      "outputs": []
    },
    {
      "cell_type": "code",
      "metadata": {
        "id": "5jRSg33IDZyM",
        "colab_type": "code",
        "colab": {
          "base_uri": "https://localhost:8080/",
          "height": 52
        },
        "outputId": "d1db16a2-1c5d-4a7f-fd4e-a15b7f0f7a75"
      },
      "source": [
        "reading_from_user()"
      ],
      "execution_count": 15,
      "outputs": [
        {
          "output_type": "stream",
          "text": [
            "What text should I read for you?\n",
            "I am ConvoBot.I convert speec to text ,create response and then generate output speech response.\n"
          ],
          "name": "stdout"
        }
      ]
    }
  ]
}