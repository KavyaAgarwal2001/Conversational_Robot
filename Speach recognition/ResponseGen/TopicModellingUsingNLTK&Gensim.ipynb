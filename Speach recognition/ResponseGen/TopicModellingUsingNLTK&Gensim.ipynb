{
  "nbformat": 4,
  "nbformat_minor": 0,
  "metadata": {
    "colab": {
      "name": "TopicModellingUsingNLTK&Gensim.ipynb",
      "provenance": []
    },
    "kernelspec": {
      "name": "python3",
      "display_name": "Python 3"
    }
  },
  "cells": [
    {
      "cell_type": "markdown",
      "metadata": {
        "id": "y7YpTz_Q-O4X",
        "colab_type": "text"
      },
      "source": [
        "**Topic Modelling**--"
      ]
    },
    {
      "cell_type": "markdown",
      "metadata": {
        "id": "1PoGCzY8-qTM",
        "colab_type": "text"
      },
      "source": [
        "Latent Dirichlet Allocation (LDA): a widely used topic modelling technique. \n",
        "Have applied LDA to convert set of research papers to a set of topics."
      ]
    },
    {
      "cell_type": "markdown",
      "metadata": {
        "id": "V_gtBL6i-4MY",
        "colab_type": "text"
      },
      "source": [
        "Research paper topic modelling is an unsupervised machine learning method that helps us discover hidden semantic structures in a paper, that allows us to learn topic representations of papers in a corpus. The model can be applied to any kinds of labels on documents, such as tags on posts on the website."
      ]
    },
    {
      "cell_type": "code",
      "metadata": {
        "id": "WYjUg7_S5tPj",
        "colab_type": "code",
        "colab": {
          "base_uri": "https://localhost:8080/",
          "height": 212
        },
        "outputId": "e9992028-0d8b-4941-9305-67730286f371"
      },
      "source": [
        "#research paper text data is just a bunch of unlabeled texts\n",
        "!wget https://github.com/susanli2016/Machine-Learning-with-Python/blob/master/dataset.csv"
      ],
      "execution_count": 1,
      "outputs": [
        {
          "output_type": "stream",
          "text": [
            "--2020-07-01 15:23:19--  https://github.com/susanli2016/Machine-Learning-with-Python/blob/master/dataset.csv\n",
            "Resolving github.com (github.com)... 140.82.113.4\n",
            "Connecting to github.com (github.com)|140.82.113.4|:443... connected.\n",
            "HTTP request sent, awaiting response... 200 OK\n",
            "Length: unspecified [text/html]\n",
            "Saving to: ‘dataset.csv’\n",
            "\n",
            "\rdataset.csv             [<=>                 ]       0  --.-KB/s               \rdataset.csv             [ <=>                ] 672.03K  --.-KB/s    in 0.07s   \n",
            "\n",
            "2020-07-01 15:23:19 (9.68 MB/s) - ‘dataset.csv’ saved [688156]\n",
            "\n"
          ],
          "name": "stdout"
        }
      ]
    },
    {
      "cell_type": "markdown",
      "metadata": {
        "id": "DG19gTid_BTL",
        "colab_type": "text"
      },
      "source": [
        "**Text Cleaning**"
      ]
    },
    {
      "cell_type": "code",
      "metadata": {
        "id": "Ynl3MzOa-lvm",
        "colab_type": "code",
        "colab": {}
      },
      "source": [
        "#function to clean our texts and return a list of tokens:\n",
        "\n",
        "import spacy\n",
        "spacy.load('en')\n",
        "from spacy.lang.en import English\n",
        "parser = English()\n",
        "\n",
        "def tokenize(text):\n",
        "    lda_tokens = []\n",
        "    tokens = parser(text)\n",
        "    for token in tokens:\n",
        "        if token.orth_.isspace():\n",
        "            continue\n",
        "        elif token.like_url:\n",
        "            lda_tokens.append('URL')\n",
        "        elif token.orth_.startswith('@'):\n",
        "            lda_tokens.append('SCREEN_NAME')\n",
        "        else:\n",
        "            lda_tokens.append(token.lower_)\n",
        "    return lda_tokens"
      ],
      "execution_count": 2,
      "outputs": []
    },
    {
      "cell_type": "code",
      "metadata": {
        "id": "RFsytKK8_YVP",
        "colab_type": "code",
        "colab": {
          "base_uri": "https://localhost:8080/",
          "height": 52
        },
        "outputId": "678689a7-a8f8-4291-f5b5-aa3cee973cd2"
      },
      "source": [
        "#use NLTK’s Wordnet to find the meanings of words, synonyms, antonyms, and more.\n",
        "#n addition, we use WordNetLemmatizer to get the root word.\n",
        "\n",
        "import nltk\n",
        "nltk.download('wordnet')\n",
        "\n",
        "from nltk.corpus import wordnet as wn\n",
        "def get_lemma(word):\n",
        "    lemma = wn.morphy(word)\n",
        "    if lemma is None:\n",
        "        return word\n",
        "    else:\n",
        "        return lemma\n",
        "    \n",
        "from nltk.stem.wordnet import WordNetLemmatizer\n",
        "def get_lemma2(word):\n",
        "    return WordNetLemmatizer().lemmatize(word)"
      ],
      "execution_count": 3,
      "outputs": [
        {
          "output_type": "stream",
          "text": [
            "[nltk_data] Downloading package wordnet to /root/nltk_data...\n",
            "[nltk_data]   Unzipping corpora/wordnet.zip.\n"
          ],
          "name": "stdout"
        }
      ]
    },
    {
      "cell_type": "code",
      "metadata": {
        "id": "unASx1VuDdEq",
        "colab_type": "code",
        "colab": {
          "base_uri": "https://localhost:8080/",
          "height": 70
        },
        "outputId": "51145141-aca7-492f-ae31-bc4cadfb92e7"
      },
      "source": [
        "for w in ['dogs', 'ran', 'discouraged']:\n",
        "    print(w, get_lemma(w), get_lemma2(w))"
      ],
      "execution_count": 18,
      "outputs": [
        {
          "output_type": "stream",
          "text": [
            "dogs dog dog\n",
            "ran run ran\n",
            "discouraged discourage discouraged\n"
          ],
          "name": "stdout"
        }
      ]
    },
    {
      "cell_type": "code",
      "metadata": {
        "id": "buXwdxZ6_uAP",
        "colab_type": "code",
        "colab": {
          "base_uri": "https://localhost:8080/",
          "height": 52
        },
        "outputId": "b42649ca-c2cd-4e5b-afee-9ab2cd056820"
      },
      "source": [
        "#Filter out stop words:\n",
        "\n",
        "nltk.download('stopwords')\n",
        "en_stop = set(nltk.corpus.stopwords.words('english'))"
      ],
      "execution_count": 4,
      "outputs": [
        {
          "output_type": "stream",
          "text": [
            "[nltk_data] Downloading package stopwords to /root/nltk_data...\n",
            "[nltk_data]   Unzipping corpora/stopwords.zip.\n"
          ],
          "name": "stdout"
        }
      ]
    },
    {
      "cell_type": "code",
      "metadata": {
        "id": "FJac5565_1P3",
        "colab_type": "code",
        "colab": {}
      },
      "source": [
        "#Now we can define a function to prepare the text for topic modelling:\n",
        "\n",
        "def prepare_text_for_lda(text):\n",
        "    tokens = tokenize(text)\n",
        "    tokens = [token for token in tokens if len(token) > 4]\n",
        "    tokens = [token for token in tokens if token not in en_stop]\n",
        "    tokens = [get_lemma(token) for token in tokens]\n",
        "    return tokens"
      ],
      "execution_count": 5,
      "outputs": []
    },
    {
      "cell_type": "code",
      "metadata": {
        "id": "dzKCXIdK_8UB",
        "colab_type": "code",
        "colab": {
          "base_uri": "https://localhost:8080/",
          "height": 1000
        },
        "outputId": "bb9f6296-f923-4b4f-c103-cbc42638bc11"
      },
      "source": [
        "#Open up our data, read line by line, for each line, prepare text for LDA, then add to a list.\n",
        "#Now we can see how our text data are converted:\n",
        "\n",
        "import random\n",
        "text_data = []\n",
        "with open('dataset.csv') as f:\n",
        "    for line in f:\n",
        "        tokens = prepare_text_for_lda(line)\n",
        "        if random.random() > .99:\n",
        "            print(tokens)\n",
        "            text_data.append(tokens)"
      ],
      "execution_count": 6,
      "outputs": [
        {
          "output_type": "stream",
          "text": [
            "[]\n",
            "['input', 'type=\"hidden', 'csrf=\"true', 'class=\"js', 'suggestion', 'value=\"+hhzknwwv446jnwrdl/7ealjktmvs7', 'gprlio2lw7i2uj+3eqo4oaxyah', 'zsrksqens08kpdvgvjj8fdksq==']\n",
            "['class=\"octicon', 'octicon', 'fork', 'viewbox=\"0', 'version=\"1.1', 'width=\"16', 'height=\"16', 'hidden=\"true\"><path', 'rule=\"evenodd', 'd=\"m5', '3.25a.75.75', '.75.75', '011.5', '2.122a2.25', '0v.878a2.25', '005.75', '8.5h1.5v2.128a2.251', '2.251', '101.5', '0v8.5h1.5a2.25', '002.25', '2.25v-.878a2.25', '0v.878a.75.75', '01-.75.75h-4.5a.75.75', '6.25v-.878zm3.75', '7.378a.75.75', '.75.75', '011.5', '8.75a.75.75', '1.5.75.75', '1.5z\"></path></svg']\n",
            "[]\n",
            "['height=\"16', 'class=\"octicon', 'octicon', 'people', 'text=\"gray', 'viewbox=\"0', 'version=\"1.1', 'width=\"16', 'hidden=\"true\"><path', 'rule=\"evenodd', 'd=\"m5.5', '3.5a2', '5.5a3.5', '115.898', '2.549', '5.507', '5.507', '013.034', '4.084.75.75', '1.482.235', '4.001', '4.001', '.75.75', '1.482-.236a5.507', '5.507', '013.102', '5.5zm11', '4a.75.75', '01.666', '2.844.75.75', '00-.416.672v.352a.75.75', '00.574.73c1.2.289', '2.162', '2.522', '2.372a.75.75', '101.434-.44', '3.012a3', '4z\"></path></svg']\n",
            "[]\n",
            "['id=\"lc44', 'class=\"js']\n",
            "['id=\"lc76', 'class=\"js']\n",
            "[]\n",
            "['id=\"lc175', 'class=\"js']\n",
            "['video', 'sharing', 'propagation', 'social', 'network', 'measurement', 'modeling', 'analysis.</td']\n",
            "[]\n",
            "['id=\"lc245', 'class=\"js']\n",
            "['towards', 'theory', 'model', 'product', 'search.</td']\n",
            "['design', 'concurrent', 'multi', 'match', 'networks.</td']\n",
            "['simulation', 'pearl', 'optical', 'phenomenon', 'cosmetic', 'preproduction.</td']\n",
            "['id=\"l281', 'class=\"blob', 'number', 'number=\"281\"></td']\n",
            "['autonomous', 'lighting', 'agent', 'global', 'illumination.</td']\n",
            "['id=\"l283', 'class=\"blob', 'number', 'number=\"283\"></td']\n",
            "[]\n",
            "['id=\"lc365', 'class=\"js']\n",
            "['id=\"lc421', 'class=\"js']\n",
            "['id=\"lc465', 'class=\"js']\n",
            "['id=\"lc473', 'class=\"js']\n",
            "['id=\"lc501', 'class=\"js']\n",
            "[]\n",
            "['id=\"l519', 'class=\"blob', 'number', 'number=\"519\"></td']\n",
            "['id=\"l522', 'class=\"blob', 'number', 'number=\"522\"></td']\n",
            "['id=\"lc530', 'class=\"js']\n",
            "['id=\"l569', 'class=\"blob', 'number', 'number=\"569\"></td']\n",
            "[]\n",
            "[]\n",
            "['id=\"l639', 'class=\"blob', 'number', 'number=\"639\"></td']\n",
            "[]\n",
            "['improvement', 'proportionate', 'algorithm.</td']\n",
            "['efficient', 'random', 'access', 'invert', 'index', 'information', 'retrieval.</td']\n",
            "[]\n",
            "[]\n",
            "['complexity', 'interpolation', 'architecture', 'decision', 'solomon', 'decoding.</td']\n",
            "['id=\"l778', 'class=\"blob', 'number', 'number=\"778\"></td']\n",
            "['integrate', 'wireless', 'electronic', 'system', 'integrating', 'sensing', 'recognition', 'functions.</td']\n",
            "['id=\"lc840', 'class=\"js']\n",
            "['id=\"lc890', 'class=\"js']\n",
            "['id=\"l893', 'class=\"blob', 'number', 'number=\"893\"></td']\n",
            "['id=\"lc914', 'class=\"js']\n",
            "[]\n",
            "[]\n",
            "['id=\"lc961', 'class=\"js']\n",
            "['id=\"lc985', 'class=\"js']\n",
            "['id=\"l1010', 'class=\"blob', 'number', 'number=\"1010\"></td']\n",
            "['id=\"lc1029', 'class=\"js']\n",
            "['id=\"lc1032', 'class=\"js']\n",
            "[]\n",
            "['id=\"lc1054', 'class=\"js']\n",
            "[]\n",
            "[]\n",
            "[]\n",
            "['id=\"lc1119', 'class=\"js']\n",
            "[]\n",
            "['id=\"lc1125', 'class=\"js']\n",
            "['id=\"lc1134', 'class=\"js']\n",
            "[]\n",
            "['portable', 'biomarker', 'detection', 'magnetic', 'nanotags.</td']\n",
            "[]\n",
            "['id=\"l1279', 'class=\"blob', 'number', 'number=\"1279\"></td']\n",
            "['noise', 'tolerant', 'matchline', 'scheme', 'base', 'conditional', 'keeper', 'energy', 'efficient', 'tcam.</td']\n",
            "['id=\"l1297', 'class=\"blob', 'number', 'number=\"1297\"></td']\n",
            "['td>3d', 'reconstruction', 'planar', 'point', 'candidate', 'method', 'authentication', 'fingerprint', 'image', 'capture', 'mobile', 'devices.</td']\n",
            "['id=\"l1392', 'class=\"blob', 'number', 'number=\"1392\"></td']\n",
            "['id=\"lc1418', 'class=\"js']\n",
            "[]\n",
            "['id=\"lc1472', 'class=\"js']\n",
            "['faceted', 'query', 'engine', 'apply', 'archaeology.</td']\n",
            "['id=\"l1576', 'class=\"blob', 'number', 'number=\"1576\"></td']\n",
            "['id=\"l1591', 'class=\"blob', 'number', 'number=\"1591\"></td']\n",
            "['id=\"lc1594', 'class=\"js']\n",
            "[]\n",
            "[]\n",
            "['encoder', 'architecture', 'throughput', 'quasi', 'cyclic', 'codes.</td']\n",
            "[]\n",
            "['id=\"lc1690', 'class=\"js']\n",
            "['id=\"lc1697', 'class=\"js']\n",
            "[]\n",
            "[]\n",
            "['effective', 'modeling', 'function', 'simulation', 'using', 'matlab', 'simulink', 'vhdlams', 'apply', 'sigma', 'delta', 'architectures.</td']\n",
            "['plasma', 'route', 'paradigm', 'wireless', 'multihop', 'networks.</td']\n",
            "['id=\"l1762', 'class=\"blob', 'number', 'number=\"1762\"></td']\n",
            "['id=\"l1789', 'class=\"blob', 'number', 'number=\"1789\"></td']\n",
            "[]\n",
            "['id=\"lc1836', 'class=\"js']\n",
            "['id=\"l1879', 'class=\"blob', 'number', 'number=\"1879\"></td']\n",
            "['stage', 'design', 'base', 'settling', 'constraints.</td']\n",
            "['architecture', 'abstraction', 'environment', 'traffic', 'aware', 'system', 'level', 'coordination', 'wireless', 'network', 'downlink', 'case.</td']\n",
            "['id=\"lc1992', 'class=\"js']\n",
            "['id=\"lc2037', 'class=\"js']\n",
            "[]\n",
            "['current', 'challenge', 'cloth', 'design', 'modeling', 'animation', 'panel).</td']\n",
            "[]\n",
            "['64-bit', 'adder', 'using', 'logic', '0.18&amp;micro;m', 'cmos.</td']\n",
            "['id=\"l2119', 'class=\"blob', 'number', 'number=\"2119\"></td']\n",
            "[]\n",
            "[]\n",
            "['id=\"lc2221', 'class=\"js']\n",
            "['id=\"lc2242', 'class=\"js']\n",
            "['id=\"lc2249', 'class=\"js']\n",
            "['id=\"l2315', 'class=\"blob', 'number', 'number=\"2315\"></td']\n",
            "['development', 'color', 'image', 'tampering', 'detection.</td']\n",
            "['power', 'speed', 'converter', 'redundant', 'binary', 'multiplier.</td']\n",
            "['id=\"l2355', 'class=\"blob', 'number', 'number=\"2355\"></td']\n",
            "['id=\"lc2379', 'class=\"js']\n",
            "['id=\"l2388', 'class=\"blob', 'number', 'number=\"2388\"></td']\n",
            "['id=\"l2439', 'class=\"blob', 'number', 'number=\"2439\"></td']\n",
            "['id=\"lc2499', 'class=\"js']\n"
          ],
          "name": "stdout"
        }
      ]
    },
    {
      "cell_type": "markdown",
      "metadata": {
        "id": "ucM0WEUXAkZi",
        "colab_type": "text"
      },
      "source": [
        "**LDA with Gensim**"
      ]
    },
    {
      "cell_type": "code",
      "metadata": {
        "id": "aoOkfcLfAjxW",
        "colab_type": "code",
        "colab": {
          "base_uri": "https://localhost:8080/",
          "height": 72
        },
        "outputId": "9f1ceece-3bb2-4117-f4bc-045700859390"
      },
      "source": [
        "#First, we are creating a dictionary from the data,\n",
        "#then convert to bag-of-words corpus and save the dictionary and corpus for future use.\n",
        "\n",
        "from gensim import corpora\n",
        "dictionary = corpora.Dictionary(text_data)\n",
        "\n",
        "corpus = [dictionary.doc2bow(text) for text in text_data]\n",
        "\n",
        "import pickle\n",
        "pickle.dump(corpus, open('corpus.pkl', 'wb'))\n",
        "dictionary.save('dictionary.gensim')"
      ],
      "execution_count": 8,
      "outputs": [
        {
          "output_type": "stream",
          "text": [
            "/usr/local/lib/python3.6/dist-packages/smart_open/smart_open_lib.py:253: UserWarning: This function is deprecated, use smart_open.open instead. See the migration notes for details: https://github.com/RaRe-Technologies/smart_open/blob/master/README.rst#migrating-to-the-new-open-function\n",
            "  'See the migration notes for details: %s' % _MIGRATION_NOTES_URL\n"
          ],
          "name": "stderr"
        }
      ]
    },
    {
      "cell_type": "code",
      "metadata": {
        "id": "NKBuK8pSBPV5",
        "colab_type": "code",
        "colab": {
          "base_uri": "https://localhost:8080/",
          "height": 161
        },
        "outputId": "da400c28-0dac-44a6-f74e-751e8ec93aa9"
      },
      "source": [
        "#We are asking LDA to find 5 topics in the data:\n",
        "\n",
        "import gensim\n",
        "NUM_TOPICS = 5\n",
        "ldamodel = gensim.models.ldamodel.LdaModel(corpus, num_topics = NUM_TOPICS, id2word=dictionary, passes=15)\n",
        "ldamodel.save('model5.gensim')\n",
        "\n",
        "topics = ldamodel.print_topics(num_words=4)\n",
        "for topic in topics:\n",
        "    print(topic)"
      ],
      "execution_count": 9,
      "outputs": [
        {
          "output_type": "stream",
          "text": [
            "(0, '0.120*\"number\" + 0.120*\"class=\"blob\" + 0.007*\"integrating\" + 0.007*\"sharing\"')\n",
            "(1, '0.016*\"architecture\" + 0.016*\"networks.</td\" + 0.016*\"design\" + 0.016*\"encoder\"')\n",
            "(2, '0.015*\"design\" + 0.015*\"base\" + 0.015*\".75.75\" + 0.015*\"011.5\"')\n",
            "(3, '0.026*\"5.507\" + 0.018*\"simulation\" + 0.018*\"4.001\" + 0.010*\"modeling\"')\n",
            "(4, '0.265*\"class=\"js\" + 0.009*\"image\" + 0.009*\"wireless\" + 0.009*\"system\"')\n"
          ],
          "name": "stdout"
        },
        {
          "output_type": "stream",
          "text": [
            "/usr/local/lib/python3.6/dist-packages/smart_open/smart_open_lib.py:253: UserWarning: This function is deprecated, use smart_open.open instead. See the migration notes for details: https://github.com/RaRe-Technologies/smart_open/blob/master/README.rst#migrating-to-the-new-open-function\n",
            "  'See the migration notes for details: %s' % _MIGRATION_NOTES_URL\n"
          ],
          "name": "stderr"
        }
      ]
    },
    {
      "cell_type": "code",
      "metadata": {
        "id": "Mh_1aFs9Bsbv",
        "colab_type": "code",
        "colab": {
          "base_uri": "https://localhost:8080/",
          "height": 52
        },
        "outputId": "554dd90c-83fc-41d4-9ad8-409d9ee2c5b1"
      },
      "source": [
        "#Let’s try a new document:\n",
        "\n",
        "new_doc = 'Practical Bayesian Optimization of Machine Learning Algorithms'\n",
        "new_doc = prepare_text_for_lda(new_doc)\n",
        "new_doc_bow = dictionary.doc2bow(new_doc)\n",
        "print(new_doc_bow)\n",
        "print(ldamodel.get_document_topics(new_doc_bow))"
      ],
      "execution_count": 10,
      "outputs": [
        {
          "output_type": "stream",
          "text": [
            "[]\n",
            "[(0, 0.2), (1, 0.2), (2, 0.2), (3, 0.2), (4, 0.2)]\n"
          ],
          "name": "stdout"
        }
      ]
    },
    {
      "cell_type": "code",
      "metadata": {
        "id": "fZIBP9fHB5-M",
        "colab_type": "code",
        "colab": {
          "base_uri": "https://localhost:8080/",
          "height": 126
        },
        "outputId": "5883851c-79f4-4007-fffb-b32a8025b152"
      },
      "source": [
        "ldamodel = gensim.models.ldamodel.LdaModel(corpus, num_topics = 3, id2word=dictionary, passes=15)\n",
        "ldamodel.save('model3.gensim')\n",
        "topics = ldamodel.print_topics(num_words=4)\n",
        "for topic in topics:\n",
        "    print(topic)"
      ],
      "execution_count": 11,
      "outputs": [
        {
          "output_type": "stream",
          "text": [
            "(0, '0.033*\"number\" + 0.033*\"class=\"blob\" + 0.031*\"class=\"js\" + 0.016*\"architecture\"')\n",
            "(1, '0.046*\"class=\"js\" + 0.014*\".75.75\" + 0.014*\"5.507\" + 0.010*\"efficient\"')\n",
            "(2, '0.087*\"class=\"js\" + 0.073*\"number\" + 0.073*\"class=\"blob\" + 0.006*\"networks.</td\"')\n"
          ],
          "name": "stdout"
        },
        {
          "output_type": "stream",
          "text": [
            "/usr/local/lib/python3.6/dist-packages/smart_open/smart_open_lib.py:253: UserWarning: This function is deprecated, use smart_open.open instead. See the migration notes for details: https://github.com/RaRe-Technologies/smart_open/blob/master/README.rst#migrating-to-the-new-open-function\n",
            "  'See the migration notes for details: %s' % _MIGRATION_NOTES_URL\n"
          ],
          "name": "stderr"
        }
      ]
    },
    {
      "cell_type": "code",
      "metadata": {
        "id": "Zvovpn6fB8Mm",
        "colab_type": "code",
        "colab": {
          "base_uri": "https://localhost:8080/",
          "height": 250
        },
        "outputId": "9f1f216d-9e09-4997-b411-55cd8d13305d"
      },
      "source": [
        "#We can also find 10 topics:\n",
        "\n",
        "ldamodel = gensim.models.ldamodel.LdaModel(corpus, num_topics = 10, id2word=dictionary, passes=15)\n",
        "ldamodel.save('model10.gensim')\n",
        "topics = ldamodel.print_topics(num_words=4)\n",
        "for topic in topics:\n",
        "    print(topic)"
      ],
      "execution_count": 12,
      "outputs": [
        {
          "output_type": "stream",
          "text": [
            "(0, '0.063*\"number\" + 0.063*\"class=\"blob\" + 0.017*\"wireless\" + 0.017*\"system\"')\n",
            "(1, '0.062*\"class=\"js\" + 0.022*\"modeling\" + 0.022*\"network\" + 0.022*\"social\"')\n",
            "(2, '0.037*\"number\" + 0.037*\"class=\"blob\" + 0.019*\"apply\" + 0.019*\"modeling\"')\n",
            "(3, '0.033*\"class=\"blob\" + 0.033*\"number\" + 0.023*\"base\" + 0.023*\"011.5\"')\n",
            "(4, '0.020*\"image\" + 0.020*\"mobile\" + 0.020*\"method\" + 0.020*\"devices.</td\"')\n",
            "(5, '0.081*\"class=\"js\" + 0.035*\"5.507\" + 0.024*\"4.001\" + 0.013*\"id=\"lc985\"')\n",
            "(6, '0.038*\"class=\"blob\" + 0.038*\"number\" + 0.020*\"wireless\" + 0.020*\"networks.</td\"')\n",
            "(7, '0.201*\"class=\"js\" + 0.089*\"number\" + 0.089*\"class=\"blob\" + 0.009*\"recognition\"')\n",
            "(8, '0.029*\"efficient\" + 0.029*\"access\" + 0.029*\"information\" + 0.029*\"index\"')\n",
            "(9, '0.032*\"simulation\" + 0.032*\"pearl\" + 0.032*\"optical\" + 0.032*\"phenomenon\"')\n"
          ],
          "name": "stdout"
        },
        {
          "output_type": "stream",
          "text": [
            "/usr/local/lib/python3.6/dist-packages/smart_open/smart_open_lib.py:253: UserWarning: This function is deprecated, use smart_open.open instead. See the migration notes for details: https://github.com/RaRe-Technologies/smart_open/blob/master/README.rst#migrating-to-the-new-open-function\n",
            "  'See the migration notes for details: %s' % _MIGRATION_NOTES_URL\n"
          ],
          "name": "stderr"
        }
      ]
    },
    {
      "cell_type": "markdown",
      "metadata": {
        "id": "IiHFyyFjCG8z",
        "colab_type": "text"
      },
      "source": [
        "**pyLDAvis**"
      ]
    },
    {
      "cell_type": "code",
      "metadata": {
        "id": "BvvLpB1dCU-o",
        "colab_type": "code",
        "colab": {
          "base_uri": "https://localhost:8080/",
          "height": 639
        },
        "outputId": "0be76606-581e-431b-c6de-c44742a2758c"
      },
      "source": [
        "!pip install pyLDAvis"
      ],
      "execution_count": 14,
      "outputs": [
        {
          "output_type": "stream",
          "text": [
            "Collecting pyLDAvis\n",
            "\u001b[?25l  Downloading https://files.pythonhosted.org/packages/a5/3a/af82e070a8a96e13217c8f362f9a73e82d61ac8fff3a2561946a97f96266/pyLDAvis-2.1.2.tar.gz (1.6MB)\n",
            "\r\u001b[K     |▏                               | 10kB 15.8MB/s eta 0:00:01\r\u001b[K     |▍                               | 20kB 1.4MB/s eta 0:00:02\r\u001b[K     |▋                               | 30kB 1.7MB/s eta 0:00:01\r\u001b[K     |▉                               | 40kB 2.0MB/s eta 0:00:01\r\u001b[K     |█                               | 51kB 1.9MB/s eta 0:00:01\r\u001b[K     |█▏                              | 61kB 2.1MB/s eta 0:00:01\r\u001b[K     |█▍                              | 71kB 2.4MB/s eta 0:00:01\r\u001b[K     |█▋                              | 81kB 2.4MB/s eta 0:00:01\r\u001b[K     |█▉                              | 92kB 2.4MB/s eta 0:00:01\r\u001b[K     |██                              | 102kB 2.6MB/s eta 0:00:01\r\u001b[K     |██▎                             | 112kB 2.6MB/s eta 0:00:01\r\u001b[K     |██▍                             | 122kB 2.6MB/s eta 0:00:01\r\u001b[K     |██▋                             | 133kB 2.6MB/s eta 0:00:01\r\u001b[K     |██▉                             | 143kB 2.6MB/s eta 0:00:01\r\u001b[K     |███                             | 153kB 2.6MB/s eta 0:00:01\r\u001b[K     |███▎                            | 163kB 2.6MB/s eta 0:00:01\r\u001b[K     |███▌                            | 174kB 2.6MB/s eta 0:00:01\r\u001b[K     |███▋                            | 184kB 2.6MB/s eta 0:00:01\r\u001b[K     |███▉                            | 194kB 2.6MB/s eta 0:00:01\r\u001b[K     |████                            | 204kB 2.6MB/s eta 0:00:01\r\u001b[K     |████▎                           | 215kB 2.6MB/s eta 0:00:01\r\u001b[K     |████▌                           | 225kB 2.6MB/s eta 0:00:01\r\u001b[K     |████▊                           | 235kB 2.6MB/s eta 0:00:01\r\u001b[K     |████▉                           | 245kB 2.6MB/s eta 0:00:01\r\u001b[K     |█████                           | 256kB 2.6MB/s eta 0:00:01\r\u001b[K     |█████▎                          | 266kB 2.6MB/s eta 0:00:01\r\u001b[K     |█████▌                          | 276kB 2.6MB/s eta 0:00:01\r\u001b[K     |█████▊                          | 286kB 2.6MB/s eta 0:00:01\r\u001b[K     |█████▉                          | 296kB 2.6MB/s eta 0:00:01\r\u001b[K     |██████                          | 307kB 2.6MB/s eta 0:00:01\r\u001b[K     |██████▎                         | 317kB 2.6MB/s eta 0:00:01\r\u001b[K     |██████▌                         | 327kB 2.6MB/s eta 0:00:01\r\u001b[K     |██████▊                         | 337kB 2.6MB/s eta 0:00:01\r\u001b[K     |███████                         | 348kB 2.6MB/s eta 0:00:01\r\u001b[K     |███████                         | 358kB 2.6MB/s eta 0:00:01\r\u001b[K     |███████▎                        | 368kB 2.6MB/s eta 0:00:01\r\u001b[K     |███████▌                        | 378kB 2.6MB/s eta 0:00:01\r\u001b[K     |███████▊                        | 389kB 2.6MB/s eta 0:00:01\r\u001b[K     |████████                        | 399kB 2.6MB/s eta 0:00:01\r\u001b[K     |████████▏                       | 409kB 2.6MB/s eta 0:00:01\r\u001b[K     |████████▎                       | 419kB 2.6MB/s eta 0:00:01\r\u001b[K     |████████▌                       | 430kB 2.6MB/s eta 0:00:01\r\u001b[K     |████████▊                       | 440kB 2.6MB/s eta 0:00:01\r\u001b[K     |█████████                       | 450kB 2.6MB/s eta 0:00:01\r\u001b[K     |█████████▏                      | 460kB 2.6MB/s eta 0:00:01\r\u001b[K     |█████████▍                      | 471kB 2.6MB/s eta 0:00:01\r\u001b[K     |█████████▌                      | 481kB 2.6MB/s eta 0:00:01\r\u001b[K     |█████████▊                      | 491kB 2.6MB/s eta 0:00:01\r\u001b[K     |██████████                      | 501kB 2.6MB/s eta 0:00:01\r\u001b[K     |██████████▏                     | 512kB 2.6MB/s eta 0:00:01\r\u001b[K     |██████████▍                     | 522kB 2.6MB/s eta 0:00:01\r\u001b[K     |██████████▋                     | 532kB 2.6MB/s eta 0:00:01\r\u001b[K     |██████████▊                     | 542kB 2.6MB/s eta 0:00:01\r\u001b[K     |███████████                     | 552kB 2.6MB/s eta 0:00:01\r\u001b[K     |███████████▏                    | 563kB 2.6MB/s eta 0:00:01\r\u001b[K     |███████████▍                    | 573kB 2.6MB/s eta 0:00:01\r\u001b[K     |███████████▋                    | 583kB 2.6MB/s eta 0:00:01\r\u001b[K     |███████████▊                    | 593kB 2.6MB/s eta 0:00:01\r\u001b[K     |████████████                    | 604kB 2.6MB/s eta 0:00:01\r\u001b[K     |████████████▏                   | 614kB 2.6MB/s eta 0:00:01\r\u001b[K     |████████████▍                   | 624kB 2.6MB/s eta 0:00:01\r\u001b[K     |████████████▋                   | 634kB 2.6MB/s eta 0:00:01\r\u001b[K     |████████████▉                   | 645kB 2.6MB/s eta 0:00:01\r\u001b[K     |█████████████                   | 655kB 2.6MB/s eta 0:00:01\r\u001b[K     |█████████████▏                  | 665kB 2.6MB/s eta 0:00:01\r\u001b[K     |█████████████▍                  | 675kB 2.6MB/s eta 0:00:01\r\u001b[K     |█████████████▋                  | 686kB 2.6MB/s eta 0:00:01\r\u001b[K     |█████████████▉                  | 696kB 2.6MB/s eta 0:00:01\r\u001b[K     |██████████████                  | 706kB 2.6MB/s eta 0:00:01\r\u001b[K     |██████████████▏                 | 716kB 2.6MB/s eta 0:00:01\r\u001b[K     |██████████████▍                 | 727kB 2.6MB/s eta 0:00:01\r\u001b[K     |██████████████▋                 | 737kB 2.6MB/s eta 0:00:01\r\u001b[K     |██████████████▉                 | 747kB 2.6MB/s eta 0:00:01\r\u001b[K     |███████████████                 | 757kB 2.6MB/s eta 0:00:01\r\u001b[K     |███████████████▎                | 768kB 2.6MB/s eta 0:00:01\r\u001b[K     |███████████████▍                | 778kB 2.6MB/s eta 0:00:01\r\u001b[K     |███████████████▋                | 788kB 2.6MB/s eta 0:00:01\r\u001b[K     |███████████████▉                | 798kB 2.6MB/s eta 0:00:01\r\u001b[K     |████████████████                | 808kB 2.6MB/s eta 0:00:01\r\u001b[K     |████████████████▎               | 819kB 2.6MB/s eta 0:00:01\r\u001b[K     |████████████████▌               | 829kB 2.6MB/s eta 0:00:01\r\u001b[K     |████████████████▋               | 839kB 2.6MB/s eta 0:00:01\r\u001b[K     |████████████████▉               | 849kB 2.6MB/s eta 0:00:01\r\u001b[K     |█████████████████               | 860kB 2.6MB/s eta 0:00:01\r\u001b[K     |█████████████████▎              | 870kB 2.6MB/s eta 0:00:01\r\u001b[K     |█████████████████▌              | 880kB 2.6MB/s eta 0:00:01\r\u001b[K     |█████████████████▋              | 890kB 2.6MB/s eta 0:00:01\r\u001b[K     |█████████████████▉              | 901kB 2.6MB/s eta 0:00:01\r\u001b[K     |██████████████████              | 911kB 2.6MB/s eta 0:00:01\r\u001b[K     |██████████████████▎             | 921kB 2.6MB/s eta 0:00:01\r\u001b[K     |██████████████████▌             | 931kB 2.6MB/s eta 0:00:01\r\u001b[K     |██████████████████▊             | 942kB 2.6MB/s eta 0:00:01\r\u001b[K     |██████████████████▉             | 952kB 2.6MB/s eta 0:00:01\r\u001b[K     |███████████████████             | 962kB 2.6MB/s eta 0:00:01\r\u001b[K     |███████████████████▎            | 972kB 2.6MB/s eta 0:00:01\r\u001b[K     |███████████████████▌            | 983kB 2.6MB/s eta 0:00:01\r\u001b[K     |███████████████████▊            | 993kB 2.6MB/s eta 0:00:01\r\u001b[K     |████████████████████            | 1.0MB 2.6MB/s eta 0:00:01\r\u001b[K     |████████████████████            | 1.0MB 2.6MB/s eta 0:00:01\r\u001b[K     |████████████████████▎           | 1.0MB 2.6MB/s eta 0:00:01\r\u001b[K     |████████████████████▌           | 1.0MB 2.6MB/s eta 0:00:01\r\u001b[K     |████████████████████▊           | 1.0MB 2.6MB/s eta 0:00:01\r\u001b[K     |█████████████████████           | 1.1MB 2.6MB/s eta 0:00:01\r\u001b[K     |█████████████████████▏          | 1.1MB 2.6MB/s eta 0:00:01\r\u001b[K     |█████████████████████▎          | 1.1MB 2.6MB/s eta 0:00:01\r\u001b[K     |█████████████████████▌          | 1.1MB 2.6MB/s eta 0:00:01\r\u001b[K     |█████████████████████▊          | 1.1MB 2.6MB/s eta 0:00:01\r\u001b[K     |██████████████████████          | 1.1MB 2.6MB/s eta 0:00:01\r\u001b[K     |██████████████████████▏         | 1.1MB 2.6MB/s eta 0:00:01\r\u001b[K     |██████████████████████▍         | 1.1MB 2.6MB/s eta 0:00:01\r\u001b[K     |██████████████████████▌         | 1.1MB 2.6MB/s eta 0:00:01\r\u001b[K     |██████████████████████▊         | 1.1MB 2.6MB/s eta 0:00:01\r\u001b[K     |███████████████████████         | 1.2MB 2.6MB/s eta 0:00:01\r\u001b[K     |███████████████████████▏        | 1.2MB 2.6MB/s eta 0:00:01\r\u001b[K     |███████████████████████▍        | 1.2MB 2.6MB/s eta 0:00:01\r\u001b[K     |███████████████████████▌        | 1.2MB 2.6MB/s eta 0:00:01\r\u001b[K     |███████████████████████▊        | 1.2MB 2.6MB/s eta 0:00:01\r\u001b[K     |████████████████████████        | 1.2MB 2.6MB/s eta 0:00:01\r\u001b[K     |████████████████████████▏       | 1.2MB 2.6MB/s eta 0:00:01\r\u001b[K     |████████████████████████▍       | 1.2MB 2.6MB/s eta 0:00:01\r\u001b[K     |████████████████████████▋       | 1.2MB 2.6MB/s eta 0:00:01\r\u001b[K     |████████████████████████▊       | 1.2MB 2.6MB/s eta 0:00:01\r\u001b[K     |█████████████████████████       | 1.3MB 2.6MB/s eta 0:00:01\r\u001b[K     |█████████████████████████▏      | 1.3MB 2.6MB/s eta 0:00:01\r\u001b[K     |█████████████████████████▍      | 1.3MB 2.6MB/s eta 0:00:01\r\u001b[K     |█████████████████████████▋      | 1.3MB 2.6MB/s eta 0:00:01\r\u001b[K     |█████████████████████████▉      | 1.3MB 2.6MB/s eta 0:00:01\r\u001b[K     |██████████████████████████      | 1.3MB 2.6MB/s eta 0:00:01\r\u001b[K     |██████████████████████████▏     | 1.3MB 2.6MB/s eta 0:00:01\r\u001b[K     |██████████████████████████▍     | 1.3MB 2.6MB/s eta 0:00:01\r\u001b[K     |██████████████████████████▋     | 1.3MB 2.6MB/s eta 0:00:01\r\u001b[K     |██████████████████████████▉     | 1.4MB 2.6MB/s eta 0:00:01\r\u001b[K     |███████████████████████████     | 1.4MB 2.6MB/s eta 0:00:01\r\u001b[K     |███████████████████████████▏    | 1.4MB 2.6MB/s eta 0:00:01\r\u001b[K     |███████████████████████████▍    | 1.4MB 2.6MB/s eta 0:00:01\r\u001b[K     |███████████████████████████▋    | 1.4MB 2.6MB/s eta 0:00:01\r\u001b[K     |███████████████████████████▉    | 1.4MB 2.6MB/s eta 0:00:01\r\u001b[K     |████████████████████████████    | 1.4MB 2.6MB/s eta 0:00:01\r\u001b[K     |████████████████████████████▏   | 1.4MB 2.6MB/s eta 0:00:01\r\u001b[K     |████████████████████████████▍   | 1.4MB 2.6MB/s eta 0:00:01\r\u001b[K     |████████████████████████████▋   | 1.4MB 2.6MB/s eta 0:00:01\r\u001b[K     |████████████████████████████▉   | 1.5MB 2.6MB/s eta 0:00:01\r\u001b[K     |█████████████████████████████   | 1.5MB 2.6MB/s eta 0:00:01\r\u001b[K     |█████████████████████████████▎  | 1.5MB 2.6MB/s eta 0:00:01\r\u001b[K     |█████████████████████████████▍  | 1.5MB 2.6MB/s eta 0:00:01\r\u001b[K     |█████████████████████████████▋  | 1.5MB 2.6MB/s eta 0:00:01\r\u001b[K     |█████████████████████████████▉  | 1.5MB 2.6MB/s eta 0:00:01\r\u001b[K     |██████████████████████████████  | 1.5MB 2.6MB/s eta 0:00:01\r\u001b[K     |██████████████████████████████▎ | 1.5MB 2.6MB/s eta 0:00:01\r\u001b[K     |██████████████████████████████▌ | 1.5MB 2.6MB/s eta 0:00:01\r\u001b[K     |██████████████████████████████▋ | 1.5MB 2.6MB/s eta 0:00:01\r\u001b[K     |██████████████████████████████▉ | 1.6MB 2.6MB/s eta 0:00:01\r\u001b[K     |███████████████████████████████ | 1.6MB 2.6MB/s eta 0:00:01\r\u001b[K     |███████████████████████████████▎| 1.6MB 2.6MB/s eta 0:00:01\r\u001b[K     |███████████████████████████████▌| 1.6MB 2.6MB/s eta 0:00:01\r\u001b[K     |███████████████████████████████▊| 1.6MB 2.6MB/s eta 0:00:01\r\u001b[K     |███████████████████████████████▉| 1.6MB 2.6MB/s eta 0:00:01\r\u001b[K     |████████████████████████████████| 1.6MB 2.6MB/s \n",
            "\u001b[?25hRequirement already satisfied: wheel>=0.23.0 in /usr/local/lib/python3.6/dist-packages (from pyLDAvis) (0.34.2)\n",
            "Requirement already satisfied: numpy>=1.9.2 in /usr/local/lib/python3.6/dist-packages (from pyLDAvis) (1.18.5)\n",
            "Requirement already satisfied: scipy>=0.18.0 in /usr/local/lib/python3.6/dist-packages (from pyLDAvis) (1.4.1)\n",
            "Requirement already satisfied: pandas>=0.17.0 in /usr/local/lib/python3.6/dist-packages (from pyLDAvis) (1.0.5)\n",
            "Requirement already satisfied: joblib>=0.8.4 in /usr/local/lib/python3.6/dist-packages (from pyLDAvis) (0.15.1)\n",
            "Requirement already satisfied: jinja2>=2.7.2 in /usr/local/lib/python3.6/dist-packages (from pyLDAvis) (2.11.2)\n",
            "Requirement already satisfied: numexpr in /usr/local/lib/python3.6/dist-packages (from pyLDAvis) (2.7.1)\n",
            "Requirement already satisfied: pytest in /usr/local/lib/python3.6/dist-packages (from pyLDAvis) (3.6.4)\n",
            "Requirement already satisfied: future in /usr/local/lib/python3.6/dist-packages (from pyLDAvis) (0.16.0)\n",
            "Collecting funcy\n",
            "\u001b[?25l  Downloading https://files.pythonhosted.org/packages/ce/4b/6ffa76544e46614123de31574ad95758c421aae391a1764921b8a81e1eae/funcy-1.14.tar.gz (548kB)\n",
            "\r\u001b[K     |▋                               | 10kB 14.2MB/s eta 0:00:01\r\u001b[K     |█▏                              | 20kB 20.8MB/s eta 0:00:01\r\u001b[K     |█▉                              | 30kB 25.5MB/s eta 0:00:01\r\u001b[K     |██▍                             | 40kB 28.3MB/s eta 0:00:01\r\u001b[K     |███                             | 51kB 15.0MB/s eta 0:00:01\r\u001b[K     |███▋                            | 61kB 16.9MB/s eta 0:00:01\r\u001b[K     |████▏                           | 71kB 12.9MB/s eta 0:00:01\r\u001b[K     |████▉                           | 81kB 13.9MB/s eta 0:00:01\r\u001b[K     |█████▍                          | 92kB 13.9MB/s eta 0:00:01\r\u001b[K     |██████                          | 102kB 87kB/s eta 0:00:06\r\u001b[K     |██████▋                         | 112kB 87kB/s eta 0:00:05\r\u001b[K     |███████▏                        | 122kB 87kB/s eta 0:00:05\r\u001b[K     |███████▊                        | 133kB 87kB/s eta 0:00:05\r\u001b[K     |████████▍                       | 143kB 87kB/s eta 0:00:05\r\u001b[K     |█████████                       | 153kB 87kB/s eta 0:00:05\r\u001b[K     |█████████▋                      | 163kB 87kB/s eta 0:00:05\r\u001b[K     |██████████▏                     | 174kB 87kB/s eta 0:00:05\r\u001b[K     |██████████▊                     | 184kB 87kB/s eta 0:00:05\r\u001b[K     |███████████▍                    | 194kB 87kB/s eta 0:00:05\r\u001b[K     |████████████                    | 204kB 87kB/s eta 0:00:04\r\u001b[K     |████████████▌                   | 215kB 87kB/s eta 0:00:04\r\u001b[K     |█████████████▏                  | 225kB 87kB/s eta 0:00:04\r\u001b[K     |█████████████▊                  | 235kB 87kB/s eta 0:00:04\r\u001b[K     |██████████████▍                 | 245kB 87kB/s eta 0:00:04\r\u001b[K     |███████████████                 | 256kB 87kB/s eta 0:00:04\r\u001b[K     |███████████████▌                | 266kB 87kB/s eta 0:00:04\r\u001b[K     |████████████████▏               | 276kB 87kB/s eta 0:00:04\r\u001b[K     |████████████████▊               | 286kB 87kB/s eta 0:00:03\r\u001b[K     |█████████████████▎              | 296kB 87kB/s eta 0:00:03\r\u001b[K     |██████████████████              | 307kB 87kB/s eta 0:00:03\r\u001b[K     |██████████████████▌             | 317kB 87kB/s eta 0:00:03\r\u001b[K     |███████████████████▏            | 327kB 87kB/s eta 0:00:03\r\u001b[K     |███████████████████▊            | 337kB 87kB/s eta 0:00:03\r\u001b[K     |████████████████████▎           | 348kB 87kB/s eta 0:00:03\r\u001b[K     |█████████████████████           | 358kB 87kB/s eta 0:00:03\r\u001b[K     |█████████████████████▌          | 368kB 87kB/s eta 0:00:03\r\u001b[K     |██████████████████████          | 378kB 87kB/s eta 0:00:02\r\u001b[K     |██████████████████████▊         | 389kB 87kB/s eta 0:00:02\r\u001b[K     |███████████████████████▎        | 399kB 87kB/s eta 0:00:02\r\u001b[K     |████████████████████████        | 409kB 87kB/s eta 0:00:02\r\u001b[K     |████████████████████████▌       | 419kB 87kB/s eta 0:00:02\r\u001b[K     |█████████████████████████       | 430kB 87kB/s eta 0:00:02\r\u001b[K     |█████████████████████████▊      | 440kB 87kB/s eta 0:00:02\r\u001b[K     |██████████████████████████▎     | 450kB 87kB/s eta 0:00:02\r\u001b[K     |██████████████████████████▉     | 460kB 87kB/s eta 0:00:01\r\u001b[K     |███████████████████████████▌    | 471kB 87kB/s eta 0:00:01\r\u001b[K     |████████████████████████████    | 481kB 87kB/s eta 0:00:01\r\u001b[K     |████████████████████████████▊   | 491kB 87kB/s eta 0:00:01\r\u001b[K     |█████████████████████████████▎  | 501kB 87kB/s eta 0:00:01\r\u001b[K     |█████████████████████████████▉  | 512kB 87kB/s eta 0:00:01\r\u001b[K     |██████████████████████████████▌ | 522kB 87kB/s eta 0:00:01\r\u001b[K     |███████████████████████████████ | 532kB 87kB/s eta 0:00:01\r\u001b[K     |███████████████████████████████▋| 542kB 87kB/s eta 0:00:01\r\u001b[K     |████████████████████████████████| 552kB 87kB/s \n",
            "\u001b[?25hRequirement already satisfied: pytz>=2017.2 in /usr/local/lib/python3.6/dist-packages (from pandas>=0.17.0->pyLDAvis) (2018.9)\n",
            "Requirement already satisfied: python-dateutil>=2.6.1 in /usr/local/lib/python3.6/dist-packages (from pandas>=0.17.0->pyLDAvis) (2.8.1)\n",
            "Requirement already satisfied: MarkupSafe>=0.23 in /usr/local/lib/python3.6/dist-packages (from jinja2>=2.7.2->pyLDAvis) (1.1.1)\n",
            "Requirement already satisfied: py>=1.5.0 in /usr/local/lib/python3.6/dist-packages (from pytest->pyLDAvis) (1.8.2)\n",
            "Requirement already satisfied: six>=1.10.0 in /usr/local/lib/python3.6/dist-packages (from pytest->pyLDAvis) (1.12.0)\n",
            "Requirement already satisfied: atomicwrites>=1.0 in /usr/local/lib/python3.6/dist-packages (from pytest->pyLDAvis) (1.4.0)\n",
            "Requirement already satisfied: attrs>=17.4.0 in /usr/local/lib/python3.6/dist-packages (from pytest->pyLDAvis) (19.3.0)\n",
            "Requirement already satisfied: more-itertools>=4.0.0 in /usr/local/lib/python3.6/dist-packages (from pytest->pyLDAvis) (8.4.0)\n",
            "Requirement already satisfied: pluggy<0.8,>=0.5 in /usr/local/lib/python3.6/dist-packages (from pytest->pyLDAvis) (0.7.1)\n",
            "Requirement already satisfied: setuptools in /usr/local/lib/python3.6/dist-packages (from pytest->pyLDAvis) (47.3.1)\n",
            "Building wheels for collected packages: pyLDAvis, funcy\n",
            "  Building wheel for pyLDAvis (setup.py) ... \u001b[?25l\u001b[?25hdone\n",
            "  Created wheel for pyLDAvis: filename=pyLDAvis-2.1.2-py2.py3-none-any.whl size=97711 sha256=f4454da1be9b5e21d953bc3d67d36dcb1efb6096d378f782a3e96392b6306fc8\n",
            "  Stored in directory: /root/.cache/pip/wheels/98/71/24/513a99e58bb6b8465bae4d2d5e9dba8f0bef8179e3051ac414\n",
            "  Building wheel for funcy (setup.py) ... \u001b[?25l\u001b[?25hdone\n",
            "  Created wheel for funcy: filename=funcy-1.14-py2.py3-none-any.whl size=32042 sha256=89020a729b32e2b6a1abce78c92b8be393d11394553803b18c711bd0430e24b9\n",
            "  Stored in directory: /root/.cache/pip/wheels/20/5a/d8/1d875df03deae6f178dfdf70238cca33f948ef8a6f5209f2eb\n",
            "Successfully built pyLDAvis funcy\n",
            "Installing collected packages: funcy, pyLDAvis\n",
            "Successfully installed funcy-1.14 pyLDAvis-2.1.2\n"
          ],
          "name": "stdout"
        }
      ]
    },
    {
      "cell_type": "code",
      "metadata": {
        "id": "FawNXLJrCFNG",
        "colab_type": "code",
        "colab": {
          "base_uri": "https://localhost:8080/",
          "height": 916
        },
        "outputId": "a9ebb132-dbd6-4aee-f499-0903681b7636"
      },
      "source": [
        "#interpret the topics in a topic model that has been fit to a corpus of text data.\n",
        "\n",
        "#Visualizing 5 topics:\n",
        "\n",
        "dictionary = gensim.corpora.Dictionary.load('dictionary.gensim')\n",
        "corpus = pickle.load(open('corpus.pkl', 'rb'))\n",
        "lda = gensim.models.ldamodel.LdaModel.load('model5.gensim')\n",
        "import pyLDAvis.gensim\n",
        "lda_display = pyLDAvis.gensim.prepare(lda, corpus, dictionary, sort_topics=False)\n",
        "pyLDAvis.display(lda_display)"
      ],
      "execution_count": 15,
      "outputs": [
        {
          "output_type": "stream",
          "text": [
            "/usr/local/lib/python3.6/dist-packages/smart_open/smart_open_lib.py:253: UserWarning: This function is deprecated, use smart_open.open instead. See the migration notes for details: https://github.com/RaRe-Technologies/smart_open/blob/master/README.rst#migrating-to-the-new-open-function\n",
            "  'See the migration notes for details: %s' % _MIGRATION_NOTES_URL\n"
          ],
          "name": "stderr"
        },
        {
          "output_type": "execute_result",
          "data": {
            "text/html": [
              "\n",
              "<link rel=\"stylesheet\" type=\"text/css\" href=\"https://cdn.rawgit.com/bmabey/pyLDAvis/files/ldavis.v1.0.0.css\">\n",
              "\n",
              "\n",
              "<div id=\"ldavis_el1201400562103290565338086865\"></div>\n",
              "<script type=\"text/javascript\">\n",
              "\n",
              "var ldavis_el1201400562103290565338086865_data = {\"mdsDat\": {\"x\": [0.1839593458338332, -0.008988388210847537, -0.09396372160236781, -0.07301126716854137, -0.00799596885207643], \"y\": [-0.04608063710708977, -0.014295102611379071, -0.06093440454215303, -0.055261495826675944, 0.17657164008729775], \"topics\": [1, 2, 3, 4, 5], \"cluster\": [1, 1, 1, 1, 1], \"Freq\": [30.705604553222656, 7.2798752784729, 24.36742401123047, 19.503040313720703, 18.144062042236328]}, \"tinfo\": {\"Term\": [\"class=\\\"js\", \"number\", \"class=\\\"blob\", \"5.507\", \"design\", \"networks.</td\", \"architecture\", \"simulation\", \"4.001\", \"encoder\", \"throughput\", \"codes.</td\", \"cyclic\", \"quasi\", \"autonomous\", \"multi\", \"agent\", \"concurrent\", \"match\", \"illumination.</td\", \"global\", \"lighting\", \"id=\\\"lc1119\", \"id=\\\"lc1992\", \"id=\\\"lc914\", \"base\", \"011.5\", \".75.75\", \"architectures.</td\", \"effective\", \"number\", \"class=\\\"blob\", \"integrating\", \"sharing\", \"electronic\", \"measurement\", \"sensing\", \"analysis.</td\", \"recognition\", \"functions.</td\", \"propagation\", \"social\", \"video\", \"integrate\", \"solomon\", \"complexity\", \"decoding.</td\", \"decision\", \"interpolation\", \"theory\", \"towards\", \"color\", \"development\", \"magnetic\", \"portable\", \"biomarker\", \"tampering\", \"product\", \"model\", \"detection\", \"nanotags.</td\", \"encoder\", \"throughput\", \"codes.</td\", \"cyclic\", \"quasi\", \"autonomous\", \"multi\", \"agent\", \"concurrent\", \"illumination.</td\", \"match\", \"global\", \"lighting\", \"id=\\\"lc1119\", \"id=\\\"lc1992\", \"id=\\\"lc914\", \"networks.</td\", \"architecture\", \"design\", \"id=\\\"lc44\", \"id=\\\"lc465\", \"id=\\\"lc76\", \"id=\\\"lc1697\", \"id=\\\"lc2249\", \"id=\\\"lc175\", \"id=\\\"lc365\", \"id=\\\"lc1472\", \"id=\\\"lc1418\", \"id=\\\"lc840\", \"id=\\\"lc1032\", \"id=\\\"lc890\", \"class=\\\"js\", \"energy\", \"scheme\", \"tcam.</td\", \"tolerant\", \"noise\", \"conditional\", \"matchline\", \"keeper\", \"115.898\", \"00.574.73c1.2.289\", \"5.507\", \"4.001\", \"base\", \"base\", \"011.5\", \"animation\", \"challenge\", \"current\", \"panel).</td\", \"cloth\", \"cmos.</td\", \"64-bit\", \"logic\", \"paradigm\", \"route\", \"0.18&amp;micro;m\", \"multihop\", \"adder\", \"plasma\", \"constraints.</td\", \"engine\", \"archaeology.</td\", \"settling\", \"faceted\", \"stage\", \"query\", \"improvement\", \"algorithm.</td\", \"proportionate\", \"binary\", \"speed\", \"redundant\", \"power\", \"design\", \".75.75\", \"5.507\", \"simulation\", \"4.001\", \"architectures.</td\", \"effective\", \"sigma\", \"delta\", \"matlab\", \"function\", \"simulink\", \"vhdlams\", \"invert\", \"retrieval.</td\", \"random\", \"information\", \"access\", \"index\", \"phenomenon\", \"optical\", \"preproduction.</td\", \"pearl\", \"cosmetic\", \"4z\\\"></path></svg\", \"text=\\\"gray\", \"5.5zm11\", \"3.012a3\", \"00-.416.672v.352a.75.75\", \"2.549\", \"d=\\\"m5.5\", \"4a.75.75\", \"modeling\", \"apply\", \"using\", \"efficient\", \"hidden=\\\"true\\\"><path\", \"rule=\\\"evenodd\", \"viewbox=\\\"0\", \"class=\\\"js\", \"point\", \"mobile\", \"reconstruction\", \"fingerprint\", \"devices.</td\", \"capture\", \"planar\", \"td>3d\", \"method\", \"candidate\", \"authentication\", \"id=\\\"lc365\", \"id=\\\"lc501\", \"id=\\\"lc985\", \"id=\\\"lc1690\", \"id=\\\"lc2221\", \"id=\\\"lc1697\", \"id=\\\"lc1472\", \"id=\\\"lc473\", \"id=\\\"lc2249\", \"id=\\\"lc465\", \"id=\\\"lc175\", \"id=\\\"lc1032\", \"id=\\\"lc76\", \"id=\\\"lc840\", \"id=\\\"lc890\", \"id=\\\"lc44\", \"id=\\\"lc1418\", \"abstraction\", \"image\", \"wireless\", \"system\", \"architecture\", \"network\"], \"Freq\": [19.0, 14.0, 14.0, 2.0, 2.0, 1.0, 2.0, 1.0, 1.0, 0.0, 0.0, 0.0, 0.0, 0.0, 0.0, 0.0, 0.0, 0.0, 0.0, 0.0, 0.0, 0.0, 0.0, 0.0, 0.0, 1.0, 1.0, 2.0, 1.0, 1.0, 14.101726531982422, 14.101675987243652, 0.7646462917327881, 0.7646461129188538, 0.7646459937095642, 0.7646459341049194, 0.7646456956863403, 0.7646456360816956, 0.7646451592445374, 0.7646451592445374, 0.764644980430603, 0.7646447420120239, 0.7646443247795105, 0.7646423578262329, 0.7646380662918091, 0.7646374702453613, 0.7646373510360718, 0.7646371126174927, 0.7646371126174927, 0.7646327018737793, 0.7646327018737793, 0.7646327018737793, 0.7646322250366211, 0.7646321654319763, 0.7646318674087524, 0.7646315097808838, 0.7646313905715942, 0.7646312117576599, 0.7646312117576599, 0.7646305561065674, 0.7646301984786987, 0.4506520926952362, 0.4506515562534332, 0.45065152645111084, 0.4506514072418213, 0.45065104961395264, 0.4506502151489258, 0.45065006613731384, 0.4506499469280243, 0.45064979791641235, 0.45064952969551086, 0.45064952969551086, 0.45064929127693176, 0.4506491720676422, 0.44903481006622314, 0.4490336775779724, 0.4490327835083008, 0.45113542675971985, 0.45150452852249146, 0.4507704973220825, 0.07512550801038742, 0.07512511312961578, 0.07512511312961578, 0.0751250758767128, 0.07512502372264862, 0.07512487471103668, 0.07512477785348892, 0.0751245841383934, 0.075124591588974, 0.07512450218200684, 0.07512447237968445, 0.07512447237968445, 0.0880417600274086, 0.07535506039857864, 0.07533764839172363, 0.07533735036849976, 0.07532733678817749, 0.07531958073377609, 0.07531404495239258, 0.07530417293310165, 0.07525605708360672, 0.075204037129879, 0.07519873976707458, 0.07532460987567902, 0.07528313249349594, 0.07528054714202881, 1.3941679000854492, 1.3938169479370117, 0.7606003880500793, 0.7605996131896973, 0.7605994939804077, 0.7605994939804077, 0.7605990767478943, 0.7605972290039062, 0.7605969309806824, 0.7605966329574585, 0.7605960965156555, 0.7605960965156555, 0.7605955004692078, 0.7605955004692078, 0.7605946660041809, 0.760594367980957, 0.7605920433998108, 0.760591447353363, 0.760591447353363, 0.7605907917022705, 0.7605905532836914, 0.7605903744697571, 0.7605896592140198, 0.7605712413787842, 0.7605694532394409, 0.760568380355835, 0.7604950070381165, 0.7604598999023438, 0.7604551315307617, 0.7604514956474304, 1.3942502737045288, 1.3938175439834595, 1.9548869132995605, 1.3453583717346191, 1.3439425230026245, 0.7338322401046753, 0.7338321208953857, 0.733831524848938, 0.733831524848938, 0.7338313460350037, 0.7338309288024902, 0.733830451965332, 0.733830451965332, 0.7338250875473022, 0.7338253259658813, 0.733824610710144, 0.7338241338729858, 0.7338238954544067, 0.7338238954544067, 0.7338222861289978, 0.7338221669197083, 0.7338219881057739, 0.7338218688964844, 0.7338213324546814, 0.7331960201263428, 0.7331623435020447, 0.7331460118293762, 0.733139157295227, 0.7331360578536987, 0.7331330180168152, 0.7331188321113586, 0.7331188321113586, 0.734637439250946, 0.7344347238540649, 0.7342866063117981, 0.733837902545929, 0.7331962585449219, 0.7331864833831787, 0.7331711053848267, 18.392066955566406, 0.6374453902244568, 0.637445330619812, 0.637445330619812, 0.6374452710151672, 0.6374451518058777, 0.6374452114105225, 0.6374451518058777, 0.6374450922012329, 0.6374450325965881, 0.6374450325965881, 0.6374446749687195, 0.6373984217643738, 0.6373977065086365, 0.6373976469039917, 0.6373974680900574, 0.6373973488807678, 0.6373963356018066, 0.6373962759971619, 0.6373962759971619, 0.6373957991600037, 0.6373957991600037, 0.6373957395553589, 0.6373957991600037, 0.6373955607414246, 0.6373953819274902, 0.6373950839042664, 0.637393593788147, 0.6373937129974365, 0.6373429298400879, 0.638136088848114, 0.6380010843276978, 0.6376579999923706, 0.63765549659729, 0.637613832950592], \"Total\": [19.0, 14.0, 14.0, 2.0, 2.0, 1.0, 2.0, 1.0, 1.0, 0.0, 0.0, 0.0, 0.0, 0.0, 0.0, 0.0, 0.0, 0.0, 0.0, 0.0, 0.0, 0.0, 0.0, 0.0, 0.0, 1.0, 1.0, 2.0, 1.0, 1.0, 14.576457977294922, 14.57646369934082, 1.195092797279358, 1.1950926780700684, 1.1950926780700684, 1.1950926780700684, 1.1950926780700684, 1.1950926780700684, 1.1950925588607788, 1.1950925588607788, 1.1950926780700684, 1.1950925588607788, 1.1950924396514893, 1.1950922012329102, 1.1950911283493042, 1.1950910091400146, 1.1950910091400146, 1.195090889930725, 1.195090889930725, 1.1950900554656982, 1.1950900554656982, 1.1950901746749878, 1.1950899362564087, 1.1950900554656982, 1.1950900554656982, 1.1950898170471191, 1.1950898170471191, 1.1950899362564087, 1.1950899362564087, 1.1950898170471191, 1.1950898170471191, 0.933426558971405, 0.9334267973899841, 0.9334269165992737, 0.9334270358085632, 0.9334271550178528, 0.9334276914596558, 0.9334278702735901, 0.9334278106689453, 0.9334278702735901, 0.9334279894828796, 0.9334280490875244, 0.9334282875061035, 0.9334282279014587, 0.93410325050354, 0.934103786945343, 0.9341044425964355, 1.5669430494308472, 2.101227283477783, 2.2010438442230225, 1.089085340499878, 1.0890852212905884, 1.089085340499878, 1.0890851020812988, 1.0890852212905884, 1.089085340499878, 1.0890849828720093, 1.0890854597091675, 1.0890859365463257, 1.0890856981277466, 1.089085578918457, 1.0890858173370361, 19.202171325683594, 1.1915544271469116, 1.1915664672851562, 1.1915665864944458, 1.1915735006332397, 1.1915788650512695, 1.1915826797485352, 1.19158935546875, 1.1916224956512451, 1.1692986488342285, 1.1693098545074463, 2.392214775085449, 1.780752182006836, 1.825455665588379, 1.825455665588379, 1.8255674839019775, 1.1917200088500977, 1.191719889640808, 1.1917197704315186, 1.191719889640808, 1.1917197704315186, 1.19171941280365, 1.1917192935943604, 1.1917192935943604, 1.1917190551757812, 1.1917191743850708, 1.1917191743850708, 1.1917190551757812, 1.1917188167572021, 1.1917188167572021, 1.1917182207107544, 1.1917182207107544, 1.191718339920044, 1.1917182207107544, 1.1917181015014648, 1.1917181015014648, 1.1917181015014648, 1.1917142868041992, 1.1917142868041992, 1.1917139291763306, 1.1917028427124023, 1.191697120666504, 1.1916964054107666, 1.1916959285736084, 2.2010438442230225, 2.4370269775390625, 2.392214775085449, 1.7809394598007202, 1.780752182006836, 1.1694064140319824, 1.1694064140319824, 1.1694062948226929, 1.1694064140319824, 1.1694064140319824, 1.1694062948226929, 1.1694061756134033, 1.1694062948226929, 1.1694051027297974, 1.1694053411483765, 1.1694049835205078, 1.1694053411483765, 1.1694051027297974, 1.169405221939087, 1.1694048643112183, 1.1694048643112183, 1.1694047451019287, 1.1694048643112183, 1.1694046258926392, 1.169339656829834, 1.1693235635757446, 1.1693196296691895, 1.1693223714828491, 1.1693291664123535, 1.1693267822265625, 1.1693159341812134, 1.1693181991577148, 2.440439224243164, 1.8032288551330566, 1.803235650062561, 1.8031619787216187, 1.8031765222549438, 1.8031692504882812, 1.803166389465332, 19.202171325683594, 1.0890851020812988, 1.0890851020812988, 1.0890851020812988, 1.0890852212905884, 1.0890851020812988, 1.0890852212905884, 1.0890852212905884, 1.0890852212905884, 1.0890852212905884, 1.0890852212905884, 1.0890852212905884, 1.0890849828720093, 1.0890854597091675, 1.089085340499878, 1.0890854597091675, 1.0890854597091675, 1.0890851020812988, 1.0890854597091675, 1.0890856981277466, 1.0890852212905884, 1.0890852212905884, 1.089085340499878, 1.089085578918457, 1.089085340499878, 1.0890856981277466, 1.0890858173370361, 1.089085340499878, 1.0890859365463257, 1.089105486869812, 1.7261645793914795, 2.3600425720214844, 1.7262625694274902, 2.101227283477783, 1.726271390914917], \"Category\": [\"Default\", \"Default\", \"Default\", \"Default\", \"Default\", \"Default\", \"Default\", \"Default\", \"Default\", \"Default\", \"Default\", \"Default\", \"Default\", \"Default\", \"Default\", \"Default\", \"Default\", \"Default\", \"Default\", \"Default\", \"Default\", \"Default\", \"Default\", \"Default\", \"Default\", \"Default\", \"Default\", \"Default\", \"Default\", \"Default\", \"Topic1\", \"Topic1\", \"Topic1\", \"Topic1\", \"Topic1\", \"Topic1\", \"Topic1\", \"Topic1\", \"Topic1\", \"Topic1\", \"Topic1\", \"Topic1\", \"Topic1\", \"Topic1\", \"Topic1\", \"Topic1\", \"Topic1\", \"Topic1\", \"Topic1\", \"Topic1\", \"Topic1\", \"Topic1\", \"Topic1\", \"Topic1\", \"Topic1\", \"Topic1\", \"Topic1\", \"Topic1\", \"Topic1\", \"Topic1\", \"Topic1\", \"Topic2\", \"Topic2\", \"Topic2\", \"Topic2\", \"Topic2\", \"Topic2\", \"Topic2\", \"Topic2\", \"Topic2\", \"Topic2\", \"Topic2\", \"Topic2\", \"Topic2\", \"Topic2\", \"Topic2\", \"Topic2\", \"Topic2\", \"Topic2\", \"Topic2\", \"Topic2\", \"Topic2\", \"Topic2\", \"Topic2\", \"Topic2\", \"Topic2\", \"Topic2\", \"Topic2\", \"Topic2\", \"Topic2\", \"Topic2\", \"Topic2\", \"Topic2\", \"Topic2\", \"Topic2\", \"Topic2\", \"Topic2\", \"Topic2\", \"Topic2\", \"Topic2\", \"Topic2\", \"Topic2\", \"Topic2\", \"Topic2\", \"Topic2\", \"Topic2\", \"Topic3\", \"Topic3\", \"Topic3\", \"Topic3\", \"Topic3\", \"Topic3\", \"Topic3\", \"Topic3\", \"Topic3\", \"Topic3\", \"Topic3\", \"Topic3\", \"Topic3\", \"Topic3\", \"Topic3\", \"Topic3\", \"Topic3\", \"Topic3\", \"Topic3\", \"Topic3\", \"Topic3\", \"Topic3\", \"Topic3\", \"Topic3\", \"Topic3\", \"Topic3\", \"Topic3\", \"Topic3\", \"Topic3\", \"Topic3\", \"Topic3\", \"Topic3\", \"Topic4\", \"Topic4\", \"Topic4\", \"Topic4\", \"Topic4\", \"Topic4\", \"Topic4\", \"Topic4\", \"Topic4\", \"Topic4\", \"Topic4\", \"Topic4\", \"Topic4\", \"Topic4\", \"Topic4\", \"Topic4\", \"Topic4\", \"Topic4\", \"Topic4\", \"Topic4\", \"Topic4\", \"Topic4\", \"Topic4\", \"Topic4\", \"Topic4\", \"Topic4\", \"Topic4\", \"Topic4\", \"Topic4\", \"Topic4\", \"Topic4\", \"Topic4\", \"Topic4\", \"Topic4\", \"Topic4\", \"Topic4\", \"Topic4\", \"Topic5\", \"Topic5\", \"Topic5\", \"Topic5\", \"Topic5\", \"Topic5\", \"Topic5\", \"Topic5\", \"Topic5\", \"Topic5\", \"Topic5\", \"Topic5\", \"Topic5\", \"Topic5\", \"Topic5\", \"Topic5\", \"Topic5\", \"Topic5\", \"Topic5\", \"Topic5\", \"Topic5\", \"Topic5\", \"Topic5\", \"Topic5\", \"Topic5\", \"Topic5\", \"Topic5\", \"Topic5\", \"Topic5\", \"Topic5\", \"Topic5\", \"Topic5\", \"Topic5\", \"Topic5\", \"Topic5\"], \"logprob\": [30.0, 29.0, 28.0, 27.0, 26.0, 25.0, 24.0, 23.0, 22.0, 21.0, 20.0, 19.0, 18.0, 17.0, 16.0, 15.0, 14.0, 13.0, 12.0, 11.0, 10.0, 9.0, 8.0, 7.0, 6.0, 5.0, 4.0, 3.0, 2.0, 1.0, -2.121000051498413, -2.121000051498413, -5.035699844360352, -5.035699844360352, -5.035699844360352, -5.035699844360352, -5.035699844360352, -5.035699844360352, -5.035699844360352, -5.035699844360352, -5.035699844360352, -5.035699844360352, -5.035699844360352, -5.035699844360352, -5.035699844360352, -5.035699844360352, -5.035699844360352, -5.035699844360352, -5.035699844360352, -5.035699844360352, -5.035699844360352, -5.035699844360352, -5.035699844360352, -5.035699844360352, -5.035699844360352, -5.035699844360352, -5.035699844360352, -5.035699844360352, -5.035699844360352, -5.035699844360352, -5.035699844360352, -4.125, -4.125, -4.125, -4.125, -4.125, -4.125, -4.125, -4.125, -4.125, -4.125, -4.125, -4.125, -4.125, -4.128600120544434, -4.128600120544434, -4.128600120544434, -4.124000072479248, -4.1230998039245605, -4.124800205230713, -5.916600227355957, -5.916600227355957, -5.916600227355957, -5.916600227355957, -5.916600227355957, -5.916600227355957, -5.916600227355957, -5.916600227355957, -5.916600227355957, -5.916600227355957, -5.916600227355957, -5.916600227355957, -5.757900238037109, -5.91349983215332, -5.91379976272583, -5.91379976272583, -5.913899898529053, -5.914000034332275, -5.914100170135498, -5.9141998291015625, -5.91480016708374, -5.915500164031982, -5.915599822998047, -5.913899898529053, -5.9145002365112305, -5.9145002365112305, -4.203800201416016, -4.204100131988525, -4.809800148010254, -4.809800148010254, -4.809800148010254, -4.809800148010254, -4.809800148010254, -4.809800148010254, -4.809800148010254, -4.809800148010254, -4.809800148010254, -4.809800148010254, -4.809800148010254, -4.809800148010254, -4.809800148010254, -4.809800148010254, -4.809800148010254, -4.809800148010254, -4.809800148010254, -4.809800148010254, -4.809800148010254, -4.809800148010254, -4.809800148010254, -4.809800148010254, -4.809800148010254, -4.809800148010254, -4.809899806976318, -4.809899806976318, -4.809999942779541, -4.809999942779541, -4.203800201416016, -4.204100131988525, -3.6431000232696533, -4.0167999267578125, -4.0177998542785645, -4.622900009155273, -4.622900009155273, -4.622900009155273, -4.622900009155273, -4.622900009155273, -4.622900009155273, -4.622900009155273, -4.622900009155273, -4.622900009155273, -4.622900009155273, -4.622900009155273, -4.622900009155273, -4.622900009155273, -4.622900009155273, -4.622900009155273, -4.622900009155273, -4.622900009155273, -4.622900009155273, -4.622900009155273, -4.623799800872803, -4.623799800872803, -4.623799800872803, -4.623899936676025, -4.623899936676025, -4.623899936676025, -4.623899936676025, -4.623899936676025, -4.621799945831299, -4.622099876403809, -4.622300148010254, -4.622900009155273, -4.623799800872803, -4.623799800872803, -4.623799800872803, -1.329300045967102, -4.691500186920166, -4.691500186920166, -4.691500186920166, -4.691500186920166, -4.691500186920166, -4.691500186920166, -4.691500186920166, -4.691500186920166, -4.691500186920166, -4.691500186920166, -4.691500186920166, -4.6915998458862305, -4.6915998458862305, -4.6915998458862305, -4.6915998458862305, -4.6915998458862305, -4.6915998458862305, -4.6915998458862305, -4.6915998458862305, -4.6915998458862305, -4.6915998458862305, -4.6915998458862305, -4.6915998458862305, -4.6915998458862305, -4.6915998458862305, -4.6915998458862305, -4.6915998458862305, -4.6915998458862305, -4.691699981689453, -4.690400123596191, -4.6905999183654785, -4.691199779510498, -4.691199779510498, -4.691199779510498], \"loglift\": [30.0, 29.0, 28.0, 27.0, 26.0, 25.0, 24.0, 23.0, 22.0, 21.0, 20.0, 19.0, 18.0, 17.0, 16.0, 15.0, 14.0, 13.0, 12.0, 11.0, 10.0, 9.0, 8.0, 7.0, 6.0, 5.0, 4.0, 3.0, 2.0, 1.0, 1.1476000547409058, 1.1476000547409058, 0.7342000007629395, 0.7342000007629395, 0.7342000007629395, 0.7342000007629395, 0.7342000007629395, 0.7342000007629395, 0.7342000007629395, 0.7342000007629395, 0.7342000007629395, 0.7342000007629395, 0.7342000007629395, 0.7342000007629395, 0.7342000007629395, 0.7340999841690063, 0.7340999841690063, 0.7340999841690063, 0.7340999841690063, 0.7340999841690063, 0.7340999841690063, 0.7340999841690063, 0.7340999841690063, 0.7340999841690063, 0.7340999841690063, 0.7340999841690063, 0.7340999841690063, 0.7340999841690063, 0.7340999841690063, 0.7340999841690063, 0.7340999841690063, 1.8918999433517456, 1.8918999433517456, 1.8918999433517456, 1.8918999433517456, 1.8918999433517456, 1.8918999433517456, 1.8918999433517456, 1.8918999433517456, 1.8918999433517456, 1.8918999433517456, 1.8918999433517456, 1.8918999433517456, 1.8918999433517456, 1.8875999450683594, 1.8875999450683594, 1.8875999450683594, 1.374899983406067, 1.0823999643325806, 1.0342999696731567, -0.05389999970793724, -0.05389999970793724, -0.05389999970793724, -0.05389999970793724, -0.05389999970793724, -0.05389999970793724, -0.05389999970793724, -0.05389999970793724, -0.05389999970793724, -0.05389999970793724, -0.05389999970793724, -0.05389999970793724, -2.764899969100952, -0.14069999754428864, -0.14100000262260437, -0.14100000262260437, -0.14110000431537628, -0.1412000060081482, -0.1412999927997589, -0.14149999618530273, -0.1421000063419342, -0.12389999628067017, -0.12399999797344208, -0.838100016117096, -0.5435000061988831, -0.5683000087738037, 1.1424000263214111, 1.1420999765396118, 0.9628999829292297, 0.9628999829292297, 0.9628999829292297, 0.9628999829292297, 0.9628999829292297, 0.9628999829292297, 0.9628999829292297, 0.9628999829292297, 0.9628999829292297, 0.9628999829292297, 0.9628999829292297, 0.9628999829292297, 0.9628999829292297, 0.9628999829292297, 0.9628999829292297, 0.9628999829292297, 0.9628999829292297, 0.9628999829292297, 0.9628999829292297, 0.9628999829292297, 0.9628999829292297, 0.9628000259399414, 0.9628000259399414, 0.9628000259399414, 0.9628000259399414, 0.9627000093460083, 0.9627000093460083, 0.9627000093460083, 0.955299973487854, 0.8532000184059143, 1.4327000379562378, 1.354099988937378, 1.3531999588012695, 1.1685999631881714, 1.1685999631881714, 1.1685999631881714, 1.1685999631881714, 1.1685999631881714, 1.1685999631881714, 1.1685999631881714, 1.1685999631881714, 1.1685999631881714, 1.1685999631881714, 1.1685999631881714, 1.1685999631881714, 1.1685999631881714, 1.1685999631881714, 1.1685999631881714, 1.1685999631881714, 1.1685999631881714, 1.1685999631881714, 1.1685999631881714, 1.167799949645996, 1.167799949645996, 1.167799949645996, 1.167799949645996, 1.1677000522613525, 1.1677000522613525, 1.1677000522613525, 1.1677000522613525, 0.4339999854564667, 0.7364000082015991, 0.7361999750137329, 0.7355999946594238, 0.7347000241279602, 0.7347000241279602, 0.7347000241279602, 1.663699984550476, 1.1712000370025635, 1.1712000370025635, 1.1712000370025635, 1.1712000370025635, 1.1712000370025635, 1.1712000370025635, 1.1712000370025635, 1.1712000370025635, 1.1712000370025635, 1.1712000370025635, 1.1712000370025635, 1.1711000204086304, 1.1711000204086304, 1.1711000204086304, 1.1711000204086304, 1.1711000204086304, 1.1711000204086304, 1.1711000204086304, 1.1711000204086304, 1.1711000204086304, 1.1711000204086304, 1.1711000204086304, 1.1711000204086304, 1.1711000204086304, 1.1711000204086304, 1.1711000204086304, 1.1711000204086304, 1.1711000204086304, 1.1710000038146973, 0.7117000222206116, 0.3986999988555908, 0.7109000086784363, 0.5142999887466431, 0.7107999920845032]}, \"token.table\": {\"Topic\": [3, 4, 3, 4, 4, 3, 4, 4, 4, 4, 4, 4, 4, 4, 3, 5, 4, 3, 3, 1, 3, 3, 4, 3, 1, 5, 4, 5, 3, 3, 1, 5, 5, 3, 1, 5, 3, 3, 1, 1, 3, 3, 4, 3, 4, 1, 1, 4, 3, 1, 1, 5, 4, 3, 4, 1, 3, 3, 3, 5, 4, 1, 3, 4, 5, 5, 5, 5, 5, 5, 5, 5, 5, 5, 5, 5, 5, 5, 5, 5, 5, 1, 5, 3, 4, 4, 1, 1, 1, 4, 3, 3, 1, 3, 4, 1, 5, 5, 1, 1, 3, 4, 3, 1, 1, 5, 3, 3, 1, 4, 3, 3, 4, 4, 5, 3, 5, 1, 3, 4, 1, 1, 3, 3, 4, 1, 5, 3, 4, 3, 3, 4, 3, 1, 3, 1, 4, 4, 4, 1, 1, 3, 3, 1, 5, 1, 3, 5, 4, 1, 3, 1, 3, 4, 4, 1, 3, 4, 1, 3, 5], \"Freq\": [0.41033604741096497, 0.41033604741096497, 0.8391238451004028, 0.855191171169281, 0.8552052974700928, 0.5477748513221741, 0.8552135229110718, 0.8551929593086243, 0.8551961779594421, 0.5615604519844055, 0.8551992177963257, 0.8551835417747498, 0.8360453248023987, 0.8551981449127197, 0.8391237854957581, 0.9181846976280212, 0.8551356792449951, 0.8391241431236267, 0.8391273021697998, 0.8367552161216736, 0.8391232490539551, 0.5545607805252075, 0.5545607805252075, 0.8391244411468506, 0.47591233253479004, 0.47591233253479004, 0.8551347255706787, 0.9182018041610718, 0.5478084087371826, 0.8391353487968445, 0.8367571830749512, 0.9182018041610718, 0.9182018041610718, 0.8391233682632446, 0.9604524374008179, 0.9373939633369446, 0.8391234278678894, 0.8391237258911133, 0.8367569446563721, 0.8367563486099243, 0.8392199873924255, 0.8391245603561401, 0.855135977268219, 0.8391234278678894, 0.8552008867263794, 0.8367564678192139, 0.8367563486099243, 0.8551347255706787, 0.45432987809181213, 0.8367571830749512, 0.8367571234703064, 0.9182018637657166, 0.8551347255706787, 0.554581344127655, 0.554581344127655, 0.8367552161216736, 0.8392398953437805, 0.8391245603561401, 0.8391246199607849, 0.9182018041610718, 0.8551347851753235, 0.8367552757263184, 0.5545768737792969, 0.5545768737792969, 0.9182015061378479, 0.918201208114624, 0.9182015657424927, 0.9182015657424927, 0.9182018637657166, 0.9182016849517822, 0.9182015657424927, 0.9182018041610718, 0.9182019829750061, 0.9182016849517822, 0.9182018041610718, 0.9182013869285583, 0.9182015657424927, 0.9182016849517822, 0.9182013869285583, 0.9182012677192688, 0.9182016849517822, 0.5793190598487854, 0.5793190598487854, 0.8391273021697998, 0.8551355600357056, 0.8551355004310608, 0.8367555141448975, 0.836755096912384, 0.8367564678192139, 0.8551356792449951, 0.8391919732093811, 0.8391237854957581, 0.8367570042610168, 0.8392152786254883, 0.8551347255706787, 0.8367552161216736, 0.9182018041610718, 0.9182018637657166, 0.8367571234703064, 0.40976229310035706, 0.40976229310035706, 0.40976229310035706, 0.8391239643096924, 0.8367571830749512, 0.5792831778526306, 0.5792831778526306, 0.6381852626800537, 0.8392226696014404, 0.9604527950286865, 0.8551358580589294, 0.8391233682632446, 0.8391239643096924, 0.8551358580589294, 0.8551358580589294, 0.9182018041610718, 0.8391241431236267, 0.9182018637657166, 0.8367570042610168, 0.8391402363777161, 0.8551359176635742, 0.8367571234703064, 0.8367552161216736, 0.8391275405883789, 0.8391246199607849, 0.8551357388496399, 0.8367552757263184, 0.9182018637657166, 0.8391398787498474, 0.8551355004310608, 0.8391238451004028, 0.5545791387557983, 0.5545791387557983, 0.8392314314842224, 0.8367552161216736, 0.8391245603561401, 0.8367552161216736, 0.8551347851753235, 0.5615013837814331, 0.8551348447799683, 0.8367552757263184, 0.8367562890052795, 0.8391394019126892, 0.8391246199607849, 0.5792861580848694, 0.5792861580848694, 0.8367571830749512, 0.8392313122749329, 0.9182018041610718, 0.8551952838897705, 0.8367570042610168, 0.8392264246940613, 0.8367570042610168, 0.5545586943626404, 0.5545586943626404, 0.8551347851753235, 0.8367553353309631, 0.5545799732208252, 0.5545799732208252, 0.42372116446495056, 0.42372116446495056, 0.42372116446495056], \"Term\": [\".75.75\", \".75.75\", \"0.18&amp;micro;m\", \"00-.416.672v.352a.75.75\", \"00.574.73c1.2.289\", \"011.5\", \"115.898\", \"2.549\", \"3.012a3\", \"4.001\", \"4a.75.75\", \"4z\\\"></path></svg\", \"5.507\", \"5.5zm11\", \"64-bit\", \"abstraction\", \"access\", \"adder\", \"algorithm.</td\", \"analysis.</td\", \"animation\", \"apply\", \"apply\", \"archaeology.</td\", \"architecture\", \"architecture\", \"architectures.</td\", \"authentication\", \"base\", \"binary\", \"biomarker\", \"candidate\", \"capture\", \"challenge\", \"class=\\\"blob\", \"class=\\\"js\", \"cloth\", \"cmos.</td\", \"color\", \"complexity\", \"conditional\", \"constraints.</td\", \"cosmetic\", \"current\", \"d=\\\"m5.5\", \"decision\", \"decoding.</td\", \"delta\", \"design\", \"detection\", \"development\", \"devices.</td\", \"effective\", \"efficient\", \"efficient\", \"electronic\", \"energy\", \"engine\", \"faceted\", \"fingerprint\", \"function\", \"functions.</td\", \"hidden=\\\"true\\\"><path\", \"hidden=\\\"true\\\"><path\", \"id=\\\"lc1032\", \"id=\\\"lc1418\", \"id=\\\"lc1472\", \"id=\\\"lc1690\", \"id=\\\"lc1697\", \"id=\\\"lc175\", \"id=\\\"lc2221\", \"id=\\\"lc2249\", \"id=\\\"lc365\", \"id=\\\"lc44\", \"id=\\\"lc465\", \"id=\\\"lc473\", \"id=\\\"lc501\", \"id=\\\"lc76\", \"id=\\\"lc840\", \"id=\\\"lc890\", \"id=\\\"lc985\", \"image\", \"image\", \"improvement\", \"index\", \"information\", \"integrate\", \"integrating\", \"interpolation\", \"invert\", \"keeper\", \"logic\", \"magnetic\", \"matchline\", \"matlab\", \"measurement\", \"method\", \"mobile\", \"model\", \"modeling\", \"modeling\", \"modeling\", \"multihop\", \"nanotags.</td\", \"network\", \"network\", \"networks.</td\", \"noise\", \"number\", \"optical\", \"panel).</td\", \"paradigm\", \"pearl\", \"phenomenon\", \"planar\", \"plasma\", \"point\", \"portable\", \"power\", \"preproduction.</td\", \"product\", \"propagation\", \"proportionate\", \"query\", \"random\", \"recognition\", \"reconstruction\", \"redundant\", \"retrieval.</td\", \"route\", \"rule=\\\"evenodd\", \"rule=\\\"evenodd\", \"scheme\", \"sensing\", \"settling\", \"sharing\", \"sigma\", \"simulation\", \"simulink\", \"social\", \"solomon\", \"speed\", \"stage\", \"system\", \"system\", \"tampering\", \"tcam.</td\", \"td>3d\", \"text=\\\"gray\", \"theory\", \"tolerant\", \"towards\", \"using\", \"using\", \"vhdlams\", \"video\", \"viewbox=\\\"0\", \"viewbox=\\\"0\", \"wireless\", \"wireless\", \"wireless\"]}, \"R\": 30, \"lambda.step\": 0.01, \"plot.opts\": {\"xlab\": \"PC1\", \"ylab\": \"PC2\"}, \"topic.order\": [1, 2, 3, 4, 5]};\n",
              "\n",
              "function LDAvis_load_lib(url, callback){\n",
              "  var s = document.createElement('script');\n",
              "  s.src = url;\n",
              "  s.async = true;\n",
              "  s.onreadystatechange = s.onload = callback;\n",
              "  s.onerror = function(){console.warn(\"failed to load library \" + url);};\n",
              "  document.getElementsByTagName(\"head\")[0].appendChild(s);\n",
              "}\n",
              "\n",
              "if(typeof(LDAvis) !== \"undefined\"){\n",
              "   // already loaded: just create the visualization\n",
              "   !function(LDAvis){\n",
              "       new LDAvis(\"#\" + \"ldavis_el1201400562103290565338086865\", ldavis_el1201400562103290565338086865_data);\n",
              "   }(LDAvis);\n",
              "}else if(typeof define === \"function\" && define.amd){\n",
              "   // require.js is available: use it to load d3/LDAvis\n",
              "   require.config({paths: {d3: \"https://cdnjs.cloudflare.com/ajax/libs/d3/3.5.5/d3.min\"}});\n",
              "   require([\"d3\"], function(d3){\n",
              "      window.d3 = d3;\n",
              "      LDAvis_load_lib(\"https://cdn.rawgit.com/bmabey/pyLDAvis/files/ldavis.v1.0.0.js\", function(){\n",
              "        new LDAvis(\"#\" + \"ldavis_el1201400562103290565338086865\", ldavis_el1201400562103290565338086865_data);\n",
              "      });\n",
              "    });\n",
              "}else{\n",
              "    // require.js not available: dynamically load d3 & LDAvis\n",
              "    LDAvis_load_lib(\"https://cdnjs.cloudflare.com/ajax/libs/d3/3.5.5/d3.min.js\", function(){\n",
              "         LDAvis_load_lib(\"https://cdn.rawgit.com/bmabey/pyLDAvis/files/ldavis.v1.0.0.js\", function(){\n",
              "                 new LDAvis(\"#\" + \"ldavis_el1201400562103290565338086865\", ldavis_el1201400562103290565338086865_data);\n",
              "            })\n",
              "         });\n",
              "}\n",
              "</script>"
            ],
            "text/plain": [
              "<IPython.core.display.HTML object>"
            ]
          },
          "metadata": {
            "tags": []
          },
          "execution_count": 15
        }
      ]
    },
    {
      "cell_type": "code",
      "metadata": {
        "id": "fWGsnd8ZCk6y",
        "colab_type": "code",
        "colab": {
          "base_uri": "https://localhost:8080/",
          "height": 916
        },
        "outputId": "deaa0a7c-0ec4-49dc-f166-ddbfa24fad29"
      },
      "source": [
        "#Visualizing 3 topics:\n",
        "\n",
        "lda3 = gensim.models.ldamodel.LdaModel.load('model3.gensim')\n",
        "lda_display3 = pyLDAvis.gensim.prepare(lda3, corpus, dictionary, sort_topics=False)\n",
        "pyLDAvis.display(lda_display3)"
      ],
      "execution_count": 16,
      "outputs": [
        {
          "output_type": "stream",
          "text": [
            "/usr/local/lib/python3.6/dist-packages/smart_open/smart_open_lib.py:253: UserWarning: This function is deprecated, use smart_open.open instead. See the migration notes for details: https://github.com/RaRe-Technologies/smart_open/blob/master/README.rst#migrating-to-the-new-open-function\n",
            "  'See the migration notes for details: %s' % _MIGRATION_NOTES_URL\n"
          ],
          "name": "stderr"
        },
        {
          "output_type": "execute_result",
          "data": {
            "text/html": [
              "\n",
              "<link rel=\"stylesheet\" type=\"text/css\" href=\"https://cdn.rawgit.com/bmabey/pyLDAvis/files/ldavis.v1.0.0.css\">\n",
              "\n",
              "\n",
              "<div id=\"ldavis_el1201400561903110644901031971\"></div>\n",
              "<script type=\"text/javascript\">\n",
              "\n",
              "var ldavis_el1201400561903110644901031971_data = {\"mdsDat\": {\"x\": [0.04277821013529735, -0.11558814504599269, 0.07280993491069536], \"y\": [0.07559104715673606, -0.01204964256651195, -0.06354140459022421], \"topics\": [1, 2, 3], \"cluster\": [1, 1, 1], \"Freq\": [31.066730499267578, 38.05464553833008, 30.878623962402344]}, \"tinfo\": {\"Term\": [\"number\", \"class=\\\"blob\", \"class=\\\"js\", \"architecture\", \".75.75\", \"5.507\", \"image\", \"design\", \"efficient\", \"base\", \"rule=\\\"evenodd\", \"hidden=\\\"true\\\"><path\", \"version=\\\"1.1\", \"class=\\\"octicon\", \"width=\\\"16\", \"octicon\", \"4.001\", \"height=\\\"16\", \"viewbox=\\\"0\", \"modeling\", \"011.5\", \"simulink\", \"delta\", \"sigma\", \"effective\", \"function\", \"matlab\", \"architectures.</td\", \"vhdlams\", \"suggestion\", \"architecture\", \"image\", \"simulink\", \"delta\", \"sigma\", \"effective\", \"function\", \"matlab\", \"architectures.</td\", \"vhdlams\", \"suggestion\", \"gprlio2lw7i2uj+3eqo4oaxyah\", \"zsrksqens08kpdvgvjj8fdksq==\", \"type=\\\"hidden\", \"csrf=\\\"true\", \"input\", \"value=\\\"+hhzknwwv446jnwrdl/7ealjktmvs7\", \"cloth\", \"panel).</td\", \"current\", \"challenge\", \"animation\", \"quasi\", \"decoding.</td\", \"throughput\", \"interpolation\", \"decision\", \"solomon\", \"cyclic\", \"complexity\", \"codes.</td\", \"design\", \"modeling\", \"number\", \"class=\\\"blob\", \"class=\\\"js\", \"apply\", \"using\", \"simulation\", \"wireless\", \"network\", \"system\", \"networks.</td\", \".75.75\", \"5.507\", \"efficient\", \"base\", \"rule=\\\"evenodd\", \"hidden=\\\"true\\\"><path\", \"version=\\\"1.1\", \"class=\\\"octicon\", \"width=\\\"16\", \"octicon\", \"4.001\", \"height=\\\"16\", \"viewbox=\\\"0\", \"011.5\", \"tolerant\", \"scheme\", \"tcam.</td\", \"matchline\", \"keeper\", \"conditional\", \"noise\", \"energy\", \"4z\\\"></path></svg\", \"2.162\", \"2.372a.75.75\", \"2.522\", \"101.434-.44\", \"2.122a2.25\", \"00-.416.672v.352a.75.75\", \"3.012a3\", \"class=\\\"js\", \"number\", \"class=\\\"blob\", \"phenomenon\", \"optical\", \"preproduction.</td\", \"pearl\", \"cosmetic\", \"nanotags.</td\", \"detection\", \"magnetic\", \"portable\", \"biomarker\", \"archaeology.</td\", \"engine\", \"query\", \"faceted\", \"theory\", \"multihop\", \"number=\\\"281\\\"></td\", \"id=\\\"l281\", \"number=\\\"2119\\\"></td\", \"id=\\\"l2315\", \"id=\\\"l2119\", \"id=\\\"l1591\", \"number=\\\"522\\\"></td\", \"plasma\", \"id=\\\"l778\", \"id=\\\"l2355\", \"id=\\\"l519\", \"id=\\\"l2388\", \"class=\\\"js\", \"networks.</td\"], \"Freq\": [12.0, 12.0, 20.0, 2.0, 2.0, 2.0, 1.0, 2.0, 1.0, 1.0, 1.0, 1.0, 1.0, 1.0, 1.0, 1.0, 1.0, 1.0, 1.0, 2.0, 1.0, 1.0, 1.0, 1.0, 1.0, 1.0, 1.0, 1.0, 1.0, 1.0, 1.8958877325057983, 1.326931357383728, 0.7584676742553711, 0.7584673762321472, 0.7584666609764099, 0.7584660649299622, 0.7584647536277771, 0.7584646940231323, 0.7584632635116577, 0.7584602236747742, 0.7583293914794922, 0.7583284974098206, 0.7583263516426086, 0.7583262324333191, 0.7583245038986206, 0.7583210468292236, 0.7583197951316833, 0.7583156228065491, 0.7583134770393372, 0.7583099007606506, 0.7583089470863342, 0.7583081126213074, 0.7582662105560303, 0.7582624554634094, 0.7582623958587646, 0.7582606673240662, 0.7582598924636841, 0.7582593560218811, 0.7582573890686035, 0.7582563757896423, 0.7582561373710632, 1.3400298357009888, 1.3347383737564087, 3.881655693054199, 3.88159441947937, 3.6595723628997803, 0.7623749375343323, 0.7619551420211792, 0.7612354755401611, 0.7635800242424011, 0.7603773474693298, 0.7600662112236023, 0.7585699558258057, 2.085508346557617, 2.085336923599243, 1.4602315425872803, 1.4600516557693481, 1.4599074125289917, 1.4599051475524902, 1.4598181247711182, 1.4597655534744263, 1.4597623348236084, 1.4597359895706177, 1.4596813917160034, 1.4596673250198364, 1.4596445560455322, 1.45956289768219, 0.8343151807785034, 0.8343145251274109, 0.8343141078948975, 0.8343119621276855, 0.834311306476593, 0.8343091607093811, 0.8343052864074707, 0.8343019485473633, 0.8342735767364502, 0.8342656493186951, 0.8342233896255493, 0.8342209458351135, 0.8342153429985046, 0.8341983556747437, 0.8342019319534302, 0.8341990113258362, 6.66336727142334, 8.628324508666992, 8.628026008605957, 0.726009726524353, 0.7260085940361023, 0.7260081768035889, 0.7260060906410217, 0.7259902358055115, 0.7259529232978821, 0.7259518504142761, 0.7259511947631836, 0.725948691368103, 0.7259408235549927, 0.7259184718132019, 0.7259178161621094, 0.7259118556976318, 0.7259096503257751, 0.7258029580116272, 0.725791335105896, 0.7257899045944214, 0.7257867455482483, 0.725785493850708, 0.7257837057113647, 0.7257819771766663, 0.7257814407348633, 0.7257808446884155, 0.7257706522941589, 0.7257751226425171, 0.7257751226425171, 0.7257738709449768, 0.7257733941078186, 10.310699462890625, 0.7261147499084473], \"Total\": [12.0, 12.0, 20.0, 2.0, 2.0, 2.0, 1.0, 2.0, 1.0, 1.0, 1.0, 1.0, 1.0, 1.0, 1.0, 1.0, 1.0, 1.0, 1.0, 2.0, 1.0, 1.0, 1.0, 1.0, 1.0, 1.0, 1.0, 1.0, 1.0, 1.0, 2.2870640754699707, 1.717982292175293, 1.148974895477295, 1.148974895477295, 1.1489747762680054, 1.148974895477295, 1.148974895477295, 1.1489750146865845, 1.1489747762680054, 1.148974895477295, 1.148977279663086, 1.1489773988723755, 1.148977279663086, 1.1489776372909546, 1.1489778757095337, 1.1489776372909546, 1.1489781141281128, 1.1489795446395874, 1.148979663848877, 1.1489800214767456, 1.1489801406860352, 1.1489801406860352, 1.1489801406860352, 1.1489803791046143, 1.1489803791046143, 1.1489806175231934, 1.1489803791046143, 1.148980975151062, 1.1489803791046143, 1.1489810943603516, 1.1489806175231934, 2.3426578044891357, 2.343216896057129, 12.72416877746582, 12.72421932220459, 20.63364028930664, 1.6940274238586426, 1.774570345878601, 1.6939716339111328, 2.319805145263672, 1.7747383117675781, 1.774721384048462, 1.6938825845718384, 2.457765579223633, 2.4577739238739014, 1.8318692445755005, 1.831850290298462, 1.8318334817886353, 1.8318322896957397, 1.831822395324707, 1.8318184614181519, 1.8318175077438354, 1.8318133354187012, 1.8318227529525757, 1.8318047523498535, 1.8318043947219849, 1.8317769765853882, 1.2058950662612915, 1.205895185470581, 1.2058950662612915, 1.2058947086334229, 1.2058945894241333, 1.2058944702148438, 1.205894112586975, 1.2058935165405273, 1.2058954238891602, 1.2058942317962646, 1.205890417098999, 1.2058902978897095, 1.2058899402618408, 1.2058757543563843, 1.2058887481689453, 1.2058886289596558, 20.63364028930664, 12.72416877746582, 12.72421932220459, 1.124840497970581, 1.1248407363891602, 1.1248412132263184, 1.1248409748077393, 1.124842882156372, 1.1248472929000854, 1.124847173690796, 1.1248475313186646, 1.124847650527954, 1.124848484992981, 1.1248490810394287, 1.1248492002487183, 1.124849796295166, 1.1248494386672974, 1.1248688697814941, 1.1248518228530884, 1.1248605251312256, 1.124860405921936, 1.1248610019683838, 1.1248610019683838, 1.1248613595962524, 1.124861240386963, 1.124861478805542, 1.1248525381088257, 1.1248620748519897, 1.1248621940612793, 1.1248619556427002, 1.124861717224121, 20.63364028930664, 1.6938825845718384], \"Category\": [\"Default\", \"Default\", \"Default\", \"Default\", \"Default\", \"Default\", \"Default\", \"Default\", \"Default\", \"Default\", \"Default\", \"Default\", \"Default\", \"Default\", \"Default\", \"Default\", \"Default\", \"Default\", \"Default\", \"Default\", \"Default\", \"Default\", \"Default\", \"Default\", \"Default\", \"Default\", \"Default\", \"Default\", \"Default\", \"Default\", \"Topic1\", \"Topic1\", \"Topic1\", \"Topic1\", \"Topic1\", \"Topic1\", \"Topic1\", \"Topic1\", \"Topic1\", \"Topic1\", \"Topic1\", \"Topic1\", \"Topic1\", \"Topic1\", \"Topic1\", \"Topic1\", \"Topic1\", \"Topic1\", \"Topic1\", \"Topic1\", \"Topic1\", \"Topic1\", \"Topic1\", \"Topic1\", \"Topic1\", \"Topic1\", \"Topic1\", \"Topic1\", \"Topic1\", \"Topic1\", \"Topic1\", \"Topic1\", \"Topic1\", \"Topic1\", \"Topic1\", \"Topic1\", \"Topic1\", \"Topic1\", \"Topic1\", \"Topic1\", \"Topic1\", \"Topic1\", \"Topic1\", \"Topic2\", \"Topic2\", \"Topic2\", \"Topic2\", \"Topic2\", \"Topic2\", \"Topic2\", \"Topic2\", \"Topic2\", \"Topic2\", \"Topic2\", \"Topic2\", \"Topic2\", \"Topic2\", \"Topic2\", \"Topic2\", \"Topic2\", \"Topic2\", \"Topic2\", \"Topic2\", \"Topic2\", \"Topic2\", \"Topic2\", \"Topic2\", \"Topic2\", \"Topic2\", \"Topic2\", \"Topic2\", \"Topic2\", \"Topic2\", \"Topic2\", \"Topic3\", \"Topic3\", \"Topic3\", \"Topic3\", \"Topic3\", \"Topic3\", \"Topic3\", \"Topic3\", \"Topic3\", \"Topic3\", \"Topic3\", \"Topic3\", \"Topic3\", \"Topic3\", \"Topic3\", \"Topic3\", \"Topic3\", \"Topic3\", \"Topic3\", \"Topic3\", \"Topic3\", \"Topic3\", \"Topic3\", \"Topic3\", \"Topic3\", \"Topic3\", \"Topic3\", \"Topic3\", \"Topic3\", \"Topic3\", \"Topic3\", \"Topic3\"], \"logprob\": [30.0, 29.0, 28.0, 27.0, 26.0, 25.0, 24.0, 23.0, 22.0, 21.0, 20.0, 19.0, 18.0, 17.0, 16.0, 15.0, 14.0, 13.0, 12.0, 11.0, 10.0, 9.0, 8.0, 7.0, 6.0, 5.0, 4.0, 3.0, 2.0, 1.0, -4.1392998695373535, -4.496099948883057, -5.055500030517578, -5.055500030517578, -5.055500030517578, -5.055500030517578, -5.055500030517578, -5.055500030517578, -5.055500030517578, -5.055500030517578, -5.055600166320801, -5.055600166320801, -5.055600166320801, -5.055600166320801, -5.055600166320801, -5.055699825286865, -5.055699825286865, -5.055699825286865, -5.055699825286865, -5.055699825286865, -5.055699825286865, -5.055699825286865, -5.055699825286865, -5.055699825286865, -5.055699825286865, -5.055699825286865, -5.055699825286865, -5.055699825286865, -5.055699825286865, -5.055699825286865, -5.055699825286865, -4.486299991607666, -4.490300178527832, -3.4226999282836914, -3.422800064086914, -3.4816999435424805, -5.050300121307373, -5.050899982452393, -5.051799774169922, -5.048699855804443, -5.0528998374938965, -5.053400039672852, -5.055300235748291, -4.2469000816345215, -4.247000217437744, -4.603300094604492, -4.603400230407715, -4.603499889373779, -4.603499889373779, -4.603600025177002, -4.603600025177002, -4.603600025177002, -4.603600025177002, -4.603700160980225, -4.603700160980225, -4.603700160980225, -4.603799819946289, -5.163000106811523, -5.163000106811523, -5.163000106811523, -5.163000106811523, -5.163000106811523, -5.163000106811523, -5.163000106811523, -5.163000106811523, -5.163099765777588, -5.163099765777588, -5.163099765777588, -5.163099765777588, -5.1631999015808105, -5.1631999015808105, -5.1631999015808105, -5.1631999015808105, -3.0852999687194824, -2.6178998947143555, -2.6178998947143555, -5.093100070953369, -5.093100070953369, -5.093100070953369, -5.093100070953369, -5.093100070953369, -5.093200206756592, -5.093200206756592, -5.093200206756592, -5.093200206756592, -5.093200206756592, -5.093200206756592, -5.093200206756592, -5.093299865722656, -5.093299865722656, -5.093400001525879, -5.093400001525879, -5.093400001525879, -5.093400001525879, -5.093400001525879, -5.093400001525879, -5.093400001525879, -5.093400001525879, -5.093400001525879, -5.093400001525879, -5.093400001525879, -5.093400001525879, -5.093400001525879, -5.093400001525879, -2.43969988822937, -5.0929999351501465], \"loglift\": [30.0, 29.0, 28.0, 27.0, 26.0, 25.0, 24.0, 23.0, 22.0, 21.0, 20.0, 19.0, 18.0, 17.0, 16.0, 15.0, 14.0, 13.0, 12.0, 11.0, 10.0, 9.0, 8.0, 7.0, 6.0, 5.0, 4.0, 3.0, 2.0, 1.0, 0.9815000295639038, 0.9107999801635742, 0.7537000179290771, 0.7537000179290771, 0.7537000179290771, 0.7537000179290771, 0.7537000179290771, 0.7537000179290771, 0.7537000179290771, 0.7537000179290771, 0.7534999847412109, 0.7534999847412109, 0.7534999847412109, 0.7534999847412109, 0.7534999847412109, 0.7534999847412109, 0.7534999847412109, 0.7534999847412109, 0.7534999847412109, 0.7534999847412109, 0.7534999847412109, 0.7534999847412109, 0.7534000277519226, 0.7534000277519226, 0.7534000277519226, 0.7534000277519226, 0.7534000277519226, 0.7534000277519226, 0.7534000277519226, 0.7534000277519226, 0.7534000277519226, 0.6104000210762024, 0.6061999797821045, -0.018200000748038292, -0.018200000748038292, -0.5605000257492065, 0.37059998512268066, 0.32359999418258667, 0.36910000443458557, 0.05779999867081642, 0.321399986743927, 0.32100000977516174, 0.36570000648498535, 0.8019000291824341, 0.801800012588501, 0.7394000291824341, 0.739300012588501, 0.7391999959945679, 0.7391999959945679, 0.7390999794006348, 0.7390999794006348, 0.7390999794006348, 0.7390999794006348, 0.7390999794006348, 0.7390999794006348, 0.7390000224113464, 0.7390000224113464, 0.5978000164031982, 0.5978000164031982, 0.5978000164031982, 0.5978000164031982, 0.5978000164031982, 0.5978000164031982, 0.5978000164031982, 0.5978000164031982, 0.5976999998092651, 0.5976999998092651, 0.5976999998092651, 0.5976999998092651, 0.5976999998092651, 0.5976999998092651, 0.5976999998092651, 0.597599983215332, -0.16419999301433563, 0.7867000102996826, 0.7865999937057495, 0.7372999787330627, 0.7372999787330627, 0.7372999787330627, 0.7372999787330627, 0.7372000217437744, 0.7372000217437744, 0.7372000217437744, 0.7372000217437744, 0.7372000217437744, 0.7372000217437744, 0.7371000051498413, 0.7371000051498413, 0.7371000051498413, 0.7371000051498413, 0.7369999885559082, 0.7369999885559082, 0.7369999885559082, 0.7368999719619751, 0.7368999719619751, 0.7368999719619751, 0.7368999719619751, 0.7368999719619751, 0.7368999719619751, 0.7368999719619751, 0.7368999719619751, 0.7368999719619751, 0.7368999719619751, 0.7368999719619751, 0.4814000129699707, 0.328000009059906]}, \"token.table\": {\"Topic\": [2, 2, 2, 2, 2, 2, 2, 2, 2, 2, 2, 2, 1, 1, 3, 3, 1, 1, 2, 3, 1, 1, 3, 1, 2, 3, 2, 1, 1, 1, 2, 3, 1, 1, 1, 1, 1, 1, 1, 2, 3, 1, 2, 2, 3, 3, 1, 1, 2, 2, 3, 3, 3, 3, 3, 3, 3, 3, 1, 1, 1, 2, 3, 2, 1, 1, 2, 3, 3, 1, 2, 1, 3, 2, 1, 3, 3, 3, 3, 2, 3, 1, 3, 3, 3, 3, 3, 1, 3, 2, 2, 1, 1, 3, 1, 1, 1, 1, 2, 2, 3, 1, 2, 1, 1, 2, 1, 2, 1, 2, 2, 1, 2, 3, 1], \"Freq\": [0.8137472867965698, 0.8292638659477234, 0.5459179878234863, 0.8292630910873413, 0.8292728066444397, 0.8292601108551025, 0.8292627334594727, 0.8292628526687622, 0.8292639851570129, 0.5459043383598328, 0.8292592763900757, 0.8137444853782654, 0.8703370690345764, 0.590309202671051, 0.590309202671051, 0.8890081644058228, 0.874483585357666, 0.8703411221504211, 0.5458961129188538, 0.889008641242981, 0.8703370690345764, 0.3143611252307892, 0.7073125243186951, 0.19385817646980286, 0.3392518162727356, 0.48464545607566833, 0.5459056496620178, 0.8703374862670898, 0.8703367114067078, 0.8703363537788391, 0.8292599320411682, 0.8890130519866943, 0.8703387975692749, 0.8703371286392212, 0.8703368902206421, 0.8703368902206421, 0.8703368902206421, 0.8703410625457764, 0.4268655776977539, 0.4268655776977539, 0.8890096545219421, 0.8703410625457764, 0.5458905100822449, 0.8292605876922607, 0.8890080451965332, 0.8890078663825989, 0.8703410625457764, 0.8703391551971436, 0.5459097027778625, 0.5459014773368835, 0.8889985680580139, 0.8889984488487244, 0.8889987468719482, 0.8889977931976318, 0.8889981508255005, 0.8889992237091064, 0.8889979720115662, 0.8889978528022766, 0.5820781588554382, 0.8703389763832092, 0.8703367114067078, 0.8292598724365234, 0.8890093564987183, 0.8292598128318787, 0.8703409433364868, 0.42676374316215515, 0.42676374316215515, 0.8890059590339661, 0.8890095353126526, 0.5634633302688599, 0.5634633302688599, 0.5903596878051758, 0.5903596878051758, 0.8292602300643921, 0.31436237692832947, 0.7073153853416443, 0.8889987468719482, 0.8889991044998169, 0.8889983296394348, 0.5459071397781372, 0.889014720916748, 0.8703374266624451, 0.8890145421028137, 0.8890149593353271, 0.8890054225921631, 0.8890092968940735, 0.8890143632888794, 0.8703370690345764, 0.889007568359375, 0.5459011197090149, 0.82925945520401, 0.8703411221504211, 0.5903286337852478, 0.5903286337852478, 0.8703410625457764, 0.8703364133834839, 0.8703392148017883, 0.5634687542915344, 0.5634687542915344, 0.8292595744132996, 0.8889924883842468, 0.8703368902206421, 0.8292595744132996, 0.8703389763832092, 0.5635166764259338, 0.5635166764259338, 0.8703386187553406, 0.5459044575691223, 0.8703410625457764, 0.5459098219871521, 0.5459058880805969, 0.4310706853866577, 0.4310706853866577, 0.4310706853866577, 0.8703392148017883], \"Term\": [\".75.75\", \"00-.416.672v.352a.75.75\", \"011.5\", \"101.434-.44\", \"2.122a2.25\", \"2.162\", \"2.372a.75.75\", \"2.522\", \"3.012a3\", \"4.001\", \"4z\\\"></path></svg\", \"5.507\", \"animation\", \"apply\", \"apply\", \"archaeology.</td\", \"architecture\", \"architectures.</td\", \"base\", \"biomarker\", \"challenge\", \"class=\\\"blob\", \"class=\\\"blob\", \"class=\\\"js\", \"class=\\\"js\", \"class=\\\"js\", \"class=\\\"octicon\", \"cloth\", \"codes.</td\", \"complexity\", \"conditional\", \"cosmetic\", \"csrf=\\\"true\", \"current\", \"cyclic\", \"decision\", \"decoding.</td\", \"delta\", \"design\", \"design\", \"detection\", \"effective\", \"efficient\", \"energy\", \"engine\", \"faceted\", \"function\", \"gprlio2lw7i2uj+3eqo4oaxyah\", \"height=\\\"16\", \"hidden=\\\"true\\\"><path\", \"id=\\\"l1591\", \"id=\\\"l2119\", \"id=\\\"l2315\", \"id=\\\"l2355\", \"id=\\\"l2388\", \"id=\\\"l281\", \"id=\\\"l519\", \"id=\\\"l778\", \"image\", \"input\", \"interpolation\", \"keeper\", \"magnetic\", \"matchline\", \"matlab\", \"modeling\", \"modeling\", \"multihop\", \"nanotags.</td\", \"network\", \"network\", \"networks.</td\", \"networks.</td\", \"noise\", \"number\", \"number\", \"number=\\\"2119\\\"></td\", \"number=\\\"281\\\"></td\", \"number=\\\"522\\\"></td\", \"octicon\", \"optical\", \"panel).</td\", \"pearl\", \"phenomenon\", \"plasma\", \"portable\", \"preproduction.</td\", \"quasi\", \"query\", \"rule=\\\"evenodd\", \"scheme\", \"sigma\", \"simulation\", \"simulation\", \"simulink\", \"solomon\", \"suggestion\", \"system\", \"system\", \"tcam.</td\", \"theory\", \"throughput\", \"tolerant\", \"type=\\\"hidden\", \"using\", \"using\", \"value=\\\"+hhzknwwv446jnwrdl/7ealjktmvs7\", \"version=\\\"1.1\", \"vhdlams\", \"viewbox=\\\"0\", \"width=\\\"16\", \"wireless\", \"wireless\", \"wireless\", \"zsrksqens08kpdvgvjj8fdksq==\"]}, \"R\": 30, \"lambda.step\": 0.01, \"plot.opts\": {\"xlab\": \"PC1\", \"ylab\": \"PC2\"}, \"topic.order\": [1, 2, 3]};\n",
              "\n",
              "function LDAvis_load_lib(url, callback){\n",
              "  var s = document.createElement('script');\n",
              "  s.src = url;\n",
              "  s.async = true;\n",
              "  s.onreadystatechange = s.onload = callback;\n",
              "  s.onerror = function(){console.warn(\"failed to load library \" + url);};\n",
              "  document.getElementsByTagName(\"head\")[0].appendChild(s);\n",
              "}\n",
              "\n",
              "if(typeof(LDAvis) !== \"undefined\"){\n",
              "   // already loaded: just create the visualization\n",
              "   !function(LDAvis){\n",
              "       new LDAvis(\"#\" + \"ldavis_el1201400561903110644901031971\", ldavis_el1201400561903110644901031971_data);\n",
              "   }(LDAvis);\n",
              "}else if(typeof define === \"function\" && define.amd){\n",
              "   // require.js is available: use it to load d3/LDAvis\n",
              "   require.config({paths: {d3: \"https://cdnjs.cloudflare.com/ajax/libs/d3/3.5.5/d3.min\"}});\n",
              "   require([\"d3\"], function(d3){\n",
              "      window.d3 = d3;\n",
              "      LDAvis_load_lib(\"https://cdn.rawgit.com/bmabey/pyLDAvis/files/ldavis.v1.0.0.js\", function(){\n",
              "        new LDAvis(\"#\" + \"ldavis_el1201400561903110644901031971\", ldavis_el1201400561903110644901031971_data);\n",
              "      });\n",
              "    });\n",
              "}else{\n",
              "    // require.js not available: dynamically load d3 & LDAvis\n",
              "    LDAvis_load_lib(\"https://cdnjs.cloudflare.com/ajax/libs/d3/3.5.5/d3.min.js\", function(){\n",
              "         LDAvis_load_lib(\"https://cdn.rawgit.com/bmabey/pyLDAvis/files/ldavis.v1.0.0.js\", function(){\n",
              "                 new LDAvis(\"#\" + \"ldavis_el1201400561903110644901031971\", ldavis_el1201400561903110644901031971_data);\n",
              "            })\n",
              "         });\n",
              "}\n",
              "</script>"
            ],
            "text/plain": [
              "<IPython.core.display.HTML object>"
            ]
          },
          "metadata": {
            "tags": []
          },
          "execution_count": 16
        }
      ]
    },
    {
      "cell_type": "code",
      "metadata": {
        "id": "iVnhg5GXCwSg",
        "colab_type": "code",
        "colab": {
          "base_uri": "https://localhost:8080/",
          "height": 916
        },
        "outputId": "7ea00b5b-9979-4599-a954-03a3a49076fb"
      },
      "source": [
        "#Visualizing 10 topics:\n",
        "\n",
        "lda10 = gensim.models.ldamodel.LdaModel.load('model10.gensim')\n",
        "lda_display10 = pyLDAvis.gensim.prepare(lda10, corpus, dictionary, sort_topics=False)\n",
        "pyLDAvis.display(lda_display10)"
      ],
      "execution_count": 17,
      "outputs": [
        {
          "output_type": "stream",
          "text": [
            "/usr/local/lib/python3.6/dist-packages/smart_open/smart_open_lib.py:253: UserWarning: This function is deprecated, use smart_open.open instead. See the migration notes for details: https://github.com/RaRe-Technologies/smart_open/blob/master/README.rst#migrating-to-the-new-open-function\n",
            "  'See the migration notes for details: %s' % _MIGRATION_NOTES_URL\n"
          ],
          "name": "stderr"
        },
        {
          "output_type": "execute_result",
          "data": {
            "text/html": [
              "\n",
              "<link rel=\"stylesheet\" type=\"text/css\" href=\"https://cdn.rawgit.com/bmabey/pyLDAvis/files/ldavis.v1.0.0.css\">\n",
              "\n",
              "\n",
              "<div id=\"ldavis_el1201400561907901763207588070\"></div>\n",
              "<script type=\"text/javascript\">\n",
              "\n",
              "var ldavis_el1201400561907901763207588070_data = {\"mdsDat\": {\"x\": [-0.050533025477438764, 0.0002752340804178142, 0.004516226113998331, 0.05103162841379565, 0.11030156351627658, 0.024346961585901047, -0.01640231075330093, -0.22360689293087072, 0.053637993373666606, 0.04643262207755456], \"y\": [0.10298980033922232, -0.0578710552064618, 0.06414307282231664, 0.03858178293536084, 0.019975269137022474, -0.19367477353837736, 0.06879422471820913, -0.031961532481814, -0.004847262052434143, -0.006129526673044231], \"topics\": [1, 2, 3, 4, 5, 6, 7, 8, 9, 10], \"cluster\": [1, 1, 1, 1, 1, 1, 1, 1, 1, 1], \"Freq\": [10.029638290405273, 6.2811994552612305, 8.113019943237305, 16.86467170715332, 8.030345916748047, 15.650065422058105, 7.494587421417236, 20.58937644958496, 3.810652732849121, 3.1364526748657227]}, \"tinfo\": {\"Term\": [\"class=\\\"js\", \"number\", \"class=\\\"blob\", \"simulation\", \"5.507\", \"efficient\", \"modeling\", \"architecture\", \"using\", \"preproduction.</td\", \"cosmetic\", \"optical\", \"pearl\", \"phenomenon\", \"id=\\\"lc2379\", \"network\", \"apply\", \"access\", \"invert\", \"index\", \"information\", \"random\", \"retrieval.</td\", \"number=\\\"639\\\"></td\", \"id=\\\"l639\", \"id=\\\"lc1032\", \"design\", \"networks.</td\", \"wireless\", \"4.001\", \"level\", \"abstraction\", \"aware\", \"case.</td\", \"coordination\", \"downlink\", \"environment\", \"traffic\", \"concurrent\", \"number=\\\"2119\\\"></td\", \"number=\\\"1879\\\"></td\", \"biomarker\", \"id=\\\"l2119\", \"number=\\\"893\\\"></td\", \"id=\\\"l893\", \"magnetic\", \"multi\", \"detection\", \"id=\\\"l1879\", \"nanotags.</td\", \"match\", \"number=\\\"2388\\\"></td\", \"id=\\\"l2388\", \"portable\", \"network\", \"networks.</td\", \"system\", \"architecture\", \"wireless\", \"design\", \"class=\\\"blob\", \"number\", \"video\", \"social\", \"adder\", \"64-bit\", \"0.18&amp;micro;m\", \"id=\\\"lc1690\", \"id=\\\"lc1594\", \"logic\", \"cmos.</td\", \"sharing\", \"propagation\", \"measurement\", \"analysis.</td\", \"id=\\\"lc2499\", \"id=\\\"l1762\", \"number=\\\"1762\\\"></td\", \"using\", \"network\", \"modeling\", \"class=\\\"js\", \"cosmetic\", \"optical\", \"phenomenon\", \"pearl\", \"preproduction.</td\", \"id=\\\"lc2379\", \"random\", \"information\", \"index\", \"retrieval.</td\", \"access\", \"invert\", \"id=\\\"l639\", \"number=\\\"639\\\"></td\", \"text=\\\"gray\", \"013.102\", \"d=\\\"m5.5\", \"1.482.235\", \"4a.75.75\", \"5.5zm11\", \"3.5a2\", \"people\", \"00-.416.672v.352a.75.75\", \"5.507\", \"hidden=\\\"true\\\"><path\", \"4.001\", \"version=\\\"1.1\", \"class=\\\"octicon\", \"rule=\\\"evenodd\", \"width=\\\"16\", \"class=\\\"blob\", \"number\", \".75.75\", \"function\", \"vhdlams\", \"simulink\", \"sigma\", \"matlab\", \"architectures.</td\", \"delta\", \"effective\", \"id=\\\"l1789\", \"encoder\", \"quasi\", \"throughput\", \"number=\\\"1789\\\"></td\", \"algorithm.</td\", \"codes.</td\", \"improvement\", \"proportionate\", \"number=\\\"778\\\"></td\", \"id=\\\"l778\", \"cyclic\", \"simulation\", \"using\", \"apply\", \"modeling\", \"architecture\", \"number\", \"class=\\\"blob\", \"phenomenon\", \"cosmetic\", \"optical\", \"pearl\", \"preproduction.</td\", \"id=\\\"lc2379\", \"class=\\\"js\", \"id=\\\"lc961\", \"lighting\", \"base\", \"011.5\", \"tolerant\", \"matchline\", \"conditional\", \"keeper\", \"energy\", \"noise\", \"scheme\", \"tcam.</td\", \"constraints.</td\", \"color\", \"id=\\\"l569\", \"number=\\\"519\\\"></td\", \"id=\\\"l519\", \"number=\\\"569\\\"></td\", \"detection.</td\", \"settling\", \"development\", \"tampering\", \"id=\\\"l522\", \"stage\", \"number=\\\"522\\\"></td\", \"id=\\\"lc2037\", \"id=\\\"lc1836\", \"2.122a2.25\", \"d=\\\"m5\", \"1.5.75.75\", \"1.5z\\\"></path></svg\", \"2.25v-.878a2.25\", \".75.75\", \"class=\\\"blob\", \"number\", \"efficient\", \"image\", \"design\", \"query\", \"decoding.</td\", \"search.</td\", \"theory\", \"towards\", \"faceted\", \"engine\", \"archaeology.</td\", \"reconstruction\", \"capture\", \"model\", \"solomon\", \"interpolation\", \"product\", \"decision\", \"complexity\", \"candidate\", \"td>3d\", \"point\", \"planar\", \"mobile\", \"fingerprint\", \"devices.</td\", \"method\", \"authentication\", \"apply\", \"image\", \"architecture\", \"cosmetic\", \"optical\", \"pearl\", \"phenomenon\", \"preproduction.</td\", \"id=\\\"lc2379\", \"animation\", \"current\", \"modeling\", \"5.507\", \"4.001\", \"id=\\\"lc501\", \"id=\\\"lc530\", \"id=\\\"lc421\", \"id=\\\"lc1472\", \"id=\\\"lc1029\", \"id=\\\"lc985\", \"input\", \"zsrksqens08kpdvgvjj8fdksq==\", \"gprlio2lw7i2uj+3eqo4oaxyah\", \"type=\\\"hidden\", \"value=\\\"+hhzknwwv446jnwrdl/7ealjktmvs7\", \"suggestion\", \"csrf=\\\"true\", \"number=\\\"2439\\\"></td\", \"id=\\\"l2439\", \"115.898\", \"5.5a3.5\", \"4.084.75.75\", \"00.574.73c1.2.289\", \"2.522\", \"2.162\", \"101.434-.44\", \"01.666\", \"4z\\\"></path></svg\", \"3.012a3\", \"2.844.75.75\", \"2.372a.75.75\", \"2.549\", \"class=\\\"js\", \"height=\\\"16\", \"viewbox=\\\"0\", \".75.75\", \"route\", \"id=\\\"l1392\", \"id=\\\"l2315\", \"number=\\\"2315\\\"></td\", \"agent\", \"autonomous\", \"global\", \"illumination.</td\", \"lighting\", \"number=\\\"1392\\\"></td\", \"multihop\", \"paradigm\", \"plasma\", \"id=\\\"lc1418\", \"panel).</td\", \"cloth\", \"challenge\", \"current\", \"animation\", \"networks.</td\", \"modeling\", \"wireless\", \"design\", \"class=\\\"blob\", \"number\", \"phenomenon\", \"pearl\", \"optical\", \"cosmetic\", \"preproduction.</td\", \"class=\\\"js\", \"video\", \"invert\", \"decoding.</td\", \"decision\", \"class=\\\"js\", \"id=\\\"l1010\", \"number=\\\"1591\\\"></td\", \"id=\\\"l1591\", \"number=\\\"1576\\\"></td\", \"id=\\\"l1576\", \"number=\\\"1297\\\"></td\", \"id=\\\"l1297\", \"number=\\\"1279\\\"></td\", \"id=\\\"l1279\", \"id=\\\"lc1125\", \"id=\\\"lc1119\", \"number=\\\"1010\\\"></td\", \"id=\\\"lc914\", \"id=\\\"lc1992\", \"id=\\\"lc890\", \"sensing\", \"recognition\", \"integrate\", \"functions.</td\", \"electronic\", \"number=\\\"283\\\"></td\", \"id=\\\"l283\", \"number=\\\"281\\\"></td\", \"id=\\\"l281\", \"id=\\\"lc245\", \"id=\\\"lc1697\", \"integrating\", \"id=\\\"lc2242\", \"multiplier.</td\", \"power\", \"number=\\\"2355\\\"></td\", \"id=\\\"l2355\", \"speed\", \"redundant\", \"number\", \"class=\\\"blob\", \"binary\", \"converter\", \"retrieval.</td\", \"random\", \"invert\", \"access\", \"information\", \"index\", \"id=\\\"l639\", \"number=\\\"639\\\"></td\", \"id=\\\"lc1032\", \"efficient\", \"cosmetic\", \"optical\", \"pearl\", \"phenomenon\", \"preproduction.</td\", \"id=\\\"lc2379\", \"id=\\\"lc2499\", \"id=\\\"lc1690\", \"id=\\\"lc1594\", \"video\", \"cmos.</td\", \"measurement\", \"propagation\", \"analysis.</td\", \"0.18&amp;micro;m\", \"adder\", \"64-bit\", \"logic\", \"sharing\", \"social\", \"number=\\\"1762\\\"></td\", \"id=\\\"l1762\", \"class=\\\"blob\", \"number\", \"class=\\\"js\", \"csrf=\\\"true\", \"suggestion\", \"value=\\\"+hhzknwwv446jnwrdl/7ealjktmvs7\", \"type=\\\"hidden\", \"gprlio2lw7i2uj+3eqo4oaxyah\", \"zsrksqens08kpdvgvjj8fdksq==\", \"input\", \"id=\\\"lc245\", \"id=\\\"l893\", \"id=\\\"lc961\", \"id=\\\"lc985\", \"id=\\\"lc1029\", \"id=\\\"lc1054\", \"id=\\\"lc1119\", \"id=\\\"lc1125\", \"id=\\\"lc1134\", \"number=\\\"1279\\\"></td\", \"optical\", \"cosmetic\", \"preproduction.</td\", \"phenomenon\", \"pearl\", \"id=\\\"lc2379\", \"simulation\", \"access\", \"index\", \"information\", \"random\", \"retrieval.</td\", \"invert\", \"id=\\\"lc1032\", \"number=\\\"639\\\"></td\", \"id=\\\"l639\", \"id=\\\"lc1690\", \"id=\\\"lc1594\", \"id=\\\"lc2499\", \"0.18&amp;micro;m\", \"measurement\", \"video\", \"social\", \"analysis.</td\", \"sharing\", \"logic\", \"cmos.</td\", \"adder\", \"64-bit\", \"propagation\", \"number=\\\"1762\\\"></td\", \"id=\\\"l1762\", \"class=\\\"js\", \"class=\\\"blob\", \"number\", \"wireless\", \"id=\\\"lc840\", \"number=\\\"1010\\\"></td\", \"id=\\\"l1010\", \"id=\\\"lc985\", \"id=\\\"lc961\", \"interpolation\", \"id=\\\"l778\", \"number=\\\"778\\\"></td\", \"number=\\\"2439\\\"></td\", \"system\", \"id=\\\"lc914\", \"id=\\\"l893\", \"id=\\\"lc890\", \"id=\\\"lc1029\", \"biomarker\", \"id=\\\"lc1054\", \"base\", \"id=\\\"lc1472\"], \"Freq\": [22.0, 14.0, 14.0, 1.0, 2.0, 1.0, 2.0, 2.0, 1.0, 0.0, 0.0, 0.0, 0.0, 0.0, 0.0, 1.0, 1.0, 0.0, 0.0, 0.0, 0.0, 0.0, 0.0, 0.0, 0.0, 0.0, 2.0, 1.0, 2.0, 1.0, 0.6441271305084229, 0.6441271305084229, 0.6441271305084229, 0.6441271305084229, 0.6441271305084229, 0.6441271305084229, 0.6441271305084229, 0.6441271305084229, 0.6441270709037781, 0.6441270709037781, 0.6441270709037781, 0.6441270709037781, 0.6441270709037781, 0.6441270709037781, 0.6441270709037781, 0.6441270709037781, 0.6441270709037781, 0.6441270709037781, 0.6441270709037781, 0.6441270709037781, 0.6441270709037781, 0.6441270709037781, 0.6441270709037781, 0.6441270709037781, 0.6441270112991333, 0.6441251039505005, 0.6441307067871094, 0.6441288590431213, 0.6441314816474915, 0.6441274881362915, 2.400888442993164, 2.400888442993164, 0.5329524874687195, 0.5329524874687195, 0.5329524874687195, 0.5329524874687195, 0.5329524874687195, 0.5329524278640747, 0.5329524278640747, 0.5329524874687195, 0.5329524874687195, 0.5329524874687195, 0.5329524874687195, 0.5329524874687195, 0.5329524874687195, 0.5329523086547852, 0.5329437255859375, 0.5329436659812927, 0.5329516530036926, 0.5329526662826538, 0.5329529643058777, 1.5019328594207764, 0.04845023527741432, 0.04845023527741432, 0.04845023527741432, 0.04845023527741432, 0.04845023527741432, 0.04845024645328522, 0.04845023527741432, 0.04845023527741432, 0.04845023527741432, 0.04845023527741432, 0.04845023527741432, 0.04845023527741432, 0.04845023527741432, 0.04845023527741432, 0.048952456563711166, 0.048946868628263474, 0.04894480109214783, 0.048922933638095856, 0.04892222210764885, 0.04891321435570717, 0.04890415444970131, 0.04890267550945282, 0.04890187457203865, 0.04963381588459015, 0.04925220459699631, 0.04919170215725899, 0.049179986119270325, 0.04917198419570923, 0.04915669560432434, 0.049155183136463165, 0.049763575196266174, 0.0497635118663311, 0.04925719276070595, 0.6038898229598999, 0.6038898229598999, 0.6038898229598999, 0.6038898229598999, 0.6038898229598999, 0.6038898229598999, 0.6038898229598999, 0.6038898229598999, 0.6038896441459656, 0.6038896441459656, 0.6038896441459656, 0.6038896441459656, 0.6038896441459656, 0.6038896441459656, 0.6038896441459656, 0.6038896441459656, 0.6038896441459656, 0.6038896441459656, 0.6038896441459656, 0.6038896441459656, 0.6038891673088074, 0.6038907766342163, 0.6038917899131775, 0.6038910150527954, 0.6038886904716492, 1.1528725624084473, 1.1528724431991577, 0.05489908158779144, 0.05489908158779144, 0.05489908158779144, 0.05489908158779144, 0.05489908531308174, 0.05489909276366234, 0.054899461567401886, 0.05489909648895264, 0.05489908158779144, 1.4649826288223267, 1.4644525051116943, 0.7673718929290771, 0.7673718929290771, 0.7673718929290771, 0.7673718929290771, 0.7673718929290771, 0.7673718929290771, 0.7673718929290771, 0.7673718929290771, 0.7673718333244324, 0.7673718333244324, 0.7673718333244324, 0.7673718333244324, 0.7673718333244324, 0.7673718333244324, 0.7673718333244324, 0.7673718333244324, 0.7673718333244324, 0.7673718333244324, 0.7673718333244324, 0.7673718333244324, 0.7673718333244324, 0.7673481702804565, 0.7673481702804565, 0.7671465873718262, 0.767105221748352, 0.76710045337677, 0.7670999765396118, 0.7670771479606628, 1.4643791913986206, 2.16253399848938, 2.16253399848938, 0.7673678994178772, 0.7673654556274414, 0.7673628926277161, 0.6084375381469727, 0.6084375381469727, 0.6084375381469727, 0.6084375381469727, 0.6084375381469727, 0.6084375381469727, 0.6084375381469727, 0.6084375381469727, 0.6084375977516174, 0.6084375977516174, 0.6084375381469727, 0.6084375381469727, 0.6084375381469727, 0.6084375381469727, 0.6084375381469727, 0.6084375381469727, 0.6084375977516174, 0.6084375977516174, 0.6084375977516174, 0.6084375977516174, 0.6084375977516174, 0.6084375977516174, 0.6084375977516174, 0.6084375977516174, 0.6084375977516174, 0.6084355115890503, 0.6084427237510681, 0.6084368824958801, 0.055312518030405045, 0.055312518030405045, 0.055312518030405045, 0.055312518030405045, 0.055312518030405045, 0.05531253293156624, 0.055736422538757324, 0.05568378418684006, 0.055769581347703934, 2.1201558113098145, 1.4363199472427368, 0.7529065012931824, 0.7529065012931824, 0.7529066205024719, 0.7529065012931824, 0.7529065012931824, 0.7529066205024719, 0.752891480922699, 0.7528836131095886, 0.752880871295929, 0.7528801560401917, 0.7528797388076782, 0.7528789043426514, 0.7528784871101379, 0.7528848648071289, 0.7528848648071289, 0.7524921298027039, 0.7524515390396118, 0.7524099946022034, 0.7523995041847229, 0.7523921132087708, 0.7523527145385742, 0.7523483037948608, 0.7523417472839355, 0.7523407340049744, 0.7523323893547058, 0.7523159980773926, 0.7523138523101807, 0.7523078322410583, 4.859598636627197, 0.7524687051773071, 0.7523969411849976, 0.7523588538169861, 0.5783148407936096, 0.5783147811889648, 0.5783147811889648, 0.5783147811889648, 0.5783147811889648, 0.5783147811889648, 0.5783147811889648, 0.5783147811889648, 0.5783148407936096, 0.5783147811889648, 0.5783148407936096, 0.5783147811889648, 0.5783148407936096, 0.5783043503761292, 0.5780957937240601, 0.5780466794967651, 0.5780007839202881, 0.5779619216918945, 0.577911913394928, 0.5783166885375977, 0.5778787136077881, 0.5783176422119141, 0.5779737234115601, 1.104053020477295, 1.104053020477295, 0.05257408693432808, 0.05257408693432808, 0.05257408693432808, 0.05257408693432808, 0.05257408693432808, 0.05373762547969818, 0.05257408693432808, 0.05257408693432808, 0.05257408693432808, 0.05257408693432808, 15.884624481201172, 0.6964765191078186, 0.6964765191078186, 0.6964765191078186, 0.6964765191078186, 0.6964765191078186, 0.6964765191078186, 0.6964765191078186, 0.6964765191078186, 0.6964765191078186, 0.696476399898529, 0.696476399898529, 0.6964765191078186, 0.6964765191078186, 0.696476399898529, 0.6964765191078186, 0.6964765191078186, 0.6964765787124634, 0.6964765191078186, 0.6964765191078186, 0.6964765191078186, 0.6964765191078186, 0.6964765191078186, 0.6964765191078186, 0.6964765191078186, 0.6964765191078186, 0.696476399898529, 0.6964765787124634, 0.6964765191078186, 0.6964765191078186, 0.6964765787124634, 0.6964765191078186, 0.6964765191078186, 0.6964765191078186, 0.6964765191078186, 7.014618396759033, 7.014617919921875, 0.6964765191078186, 0.6964765191078186, 0.42658326029777527, 0.42658326029777527, 0.42658326029777527, 0.42658326029777527, 0.42658326029777527, 0.42658326029777527, 0.4265780746936798, 0.4265780746936798, 0.42657792568206787, 0.42658546566963196, 0.03878030925989151, 0.03878030925989151, 0.03878030925989151, 0.03878030925989151, 0.03878030925989151, 0.03878031298518181, 0.038780320435762405, 0.03878031298518181, 0.03878030925989151, 0.03878030925989151, 0.03878030925989151, 0.03878030925989151, 0.03878030925989151, 0.03878030925989151, 0.03878030925989151, 0.03878030925989151, 0.03878030925989151, 0.03878030925989151, 0.03878030925989151, 0.03878030925989151, 0.03878030925989151, 0.03878030925989151, 0.04497043788433075, 0.044970352202653885, 0.039720457047224045, 0.03879624232649803, 0.03879599645733833, 0.03879551216959953, 0.038795359432697296, 0.03879489004611969, 0.03879337012767792, 0.03878893330693245, 0.03878031298518181, 0.03878030925989151, 0.03878031671047211, 0.03878031671047211, 0.03878031671047211, 0.03878031298518181, 0.03878031298518181, 0.03878031671047211, 0.03878031671047211, 0.03878030925989151, 0.38187646865844727, 0.38187646865844727, 0.38187646865844727, 0.38187646865844727, 0.38187646865844727, 0.38187211751937866, 0.3818768262863159, 0.034716058522462845, 0.034716054797172546, 0.034716054797172546, 0.034716054797172546, 0.034716054797172546, 0.034716054797172546, 0.03471606224775314, 0.034716058522462845, 0.034716054797172546, 0.03471606224775314, 0.03471606224775314, 0.03471606224775314, 0.034716054797172546, 0.034716054797172546, 0.034716054797172546, 0.034716054797172546, 0.034716054797172546, 0.034716054797172546, 0.034716054797172546, 0.034716054797172546, 0.034716054797172546, 0.034716054797172546, 0.034716054797172546, 0.034716058522462845, 0.034716054797172546, 0.035577137023210526, 0.0347161591053009, 0.034716151654720306, 0.034716058522462845, 0.03471606224775314, 0.034716058522462845, 0.034716058522462845, 0.03471606224775314, 0.03471606224775314, 0.034716058522462845, 0.034716058522462845, 0.034716058522462845, 0.034716058522462845, 0.034716058522462845, 0.034716058522462845, 0.034716058522462845, 0.03471606224775314, 0.03471606224775314, 0.034716058522462845, 0.03471606224775314, 0.034716058522462845, 0.03471606224775314], \"Total\": [22.0, 14.0, 14.0, 1.0, 2.0, 1.0, 2.0, 2.0, 1.0, 0.0, 0.0, 0.0, 0.0, 0.0, 0.0, 1.0, 1.0, 0.0, 0.0, 0.0, 0.0, 0.0, 0.0, 0.0, 0.0, 0.0, 2.0, 1.0, 2.0, 1.0, 1.1303826570510864, 1.1303826570510864, 1.1303826570510864, 1.1303826570510864, 1.1303826570510864, 1.1303826570510864, 1.1303826570510864, 1.1303826570510864, 1.1303826570510864, 1.1303826570510864, 1.1303826570510864, 1.1303826570510864, 1.1303826570510864, 1.1303826570510864, 1.1303826570510864, 1.1303826570510864, 1.1303826570510864, 1.1303826570510864, 1.1303826570510864, 1.1303826570510864, 1.1303826570510864, 1.1303826570510864, 1.1303826570510864, 1.1303826570510864, 1.6148849725723267, 1.6561232805252075, 1.763542890548706, 2.2324986457824707, 2.289283037185669, 2.353749990463257, 14.089960098266602, 14.089960098266602, 1.0293148756027222, 1.0293148756027222, 1.0293148756027222, 1.0293148756027222, 1.0293148756027222, 1.0293147563934326, 1.0293147563934326, 1.0293148756027222, 1.0293148756027222, 1.0293148756027222, 1.0293148756027222, 1.0293148756027222, 1.0293148756027222, 1.0293147563934326, 1.0293176174163818, 1.0293174982070923, 1.5783056020736694, 1.6148849725723267, 2.1040687561035156, 22.61735725402832, 0.8919729590415955, 0.8919729590415955, 0.8919729590415955, 0.8919729590415955, 0.8919730186462402, 0.8919766545295715, 0.9326154589653015, 0.9326154589653015, 0.9326154589653015, 0.9326154589653015, 0.9326155781745911, 0.9326155781745911, 0.9326187968254089, 0.9326187968254089, 1.2290658950805664, 1.2290681600570679, 1.2290689945220947, 1.2290780544281006, 1.2290784120559692, 1.2290819883346558, 1.2290858030319214, 1.2290863990783691, 1.2290867567062378, 2.5977060794830322, 1.9265447854995728, 1.9134279489517212, 1.9265748262405396, 1.9265788793563843, 1.9265846014022827, 1.9265867471694946, 14.089960098266602, 14.089960098266602, 2.624150514602661, 1.0938032865524292, 1.0938032865524292, 1.0938032865524292, 1.0938032865524292, 1.0938032865524292, 1.0938032865524292, 1.0938032865524292, 1.0938032865524292, 1.0938031673431396, 1.0938031673431396, 1.0938031673431396, 1.0938031673431396, 1.0938031673431396, 1.0938031673431396, 1.0938031673431396, 1.0938031673431396, 1.0938031673431396, 1.0938031673431396, 1.0938031673431396, 1.0938031673431396, 1.4409635066986084, 1.5783056020736694, 1.6469281911849976, 2.1040687561035156, 2.2324986457824707, 14.089960098266602, 14.089960098266602, 0.8919729590415955, 0.8919729590415955, 0.8919729590415955, 0.8919729590415955, 0.8919730186462402, 0.8919766545295715, 22.61735725402832, 1.1779730319976807, 1.070553183555603, 1.940034031867981, 1.939872145652771, 1.2424232959747314, 1.2424232959747314, 1.2424232959747314, 1.2424232959747314, 1.2424232959747314, 1.2424232959747314, 1.2424232959747314, 1.2424232959747314, 1.2424232959747314, 1.242423176765442, 1.2424232959747314, 1.2424232959747314, 1.2424232959747314, 1.2424232959747314, 1.2424232959747314, 1.2424232959747314, 1.2424232959747314, 1.2424232959747314, 1.2424232959747314, 1.242423176765442, 1.2424232959747314, 1.24242103099823, 1.24242103099823, 1.2423545122146606, 1.2423418760299683, 1.242340326309204, 1.2423402070999146, 1.242333173751831, 2.624150514602661, 14.089960098266602, 14.089960098266602, 1.6302244663238525, 1.7955470085144043, 2.353749990463257, 1.0979375839233398, 1.0979375839233398, 1.0979375839233398, 1.0979375839233398, 1.0979375839233398, 1.0979375839233398, 1.0979375839233398, 1.0979375839233398, 1.0979375839233398, 1.0979375839233398, 1.0979375839233398, 1.0979375839233398, 1.0979375839233398, 1.0979375839233398, 1.0979375839233398, 1.0979375839233398, 1.0979377031326294, 1.0979377031326294, 1.0979377031326294, 1.0979377031326294, 1.0979377031326294, 1.0979377031326294, 1.0979377031326294, 1.0979377031326294, 1.0979377031326294, 1.6469281911849976, 1.7955470085144043, 2.2324986457824707, 0.8919729590415955, 0.8919729590415955, 0.8919729590415955, 0.8919729590415955, 0.8919730186462402, 0.8919766545295715, 1.070574164390564, 1.0705715417861938, 2.1040687561035156, 2.5977060794830322, 1.9134279489517212, 1.2292730808258057, 1.2292730808258057, 1.2292732000350952, 1.2292730808258057, 1.2292730808258057, 1.2292733192443848, 1.2292665243148804, 1.2292630672454834, 1.229261875152588, 1.2292616367340088, 1.2292613983154297, 1.2292609214782715, 1.229260802268982, 1.229271411895752, 1.229271411895752, 1.2291520833969116, 1.2291401624679565, 1.2291280031204224, 1.229124903678894, 1.2291228771209717, 1.2291113138198853, 1.2291100025177002, 1.2291080951690674, 1.2291077375411987, 1.2291053533554077, 1.2291005849838257, 1.229099988937378, 1.2290982007980347, 22.61735725402832, 1.9266682863235474, 1.9266318082809448, 2.624150514602661, 1.070553183555603, 1.070553183555603, 1.070553183555603, 1.070553183555603, 1.070553183555603, 1.070553183555603, 1.070553183555603, 1.070553183555603, 1.070553183555603, 1.070553183555603, 1.070553183555603, 1.070553183555603, 1.070553183555603, 1.070555329322815, 1.0705646276474, 1.0705671310424805, 1.0705695152282715, 1.0705715417861938, 1.070574164390564, 1.6561232805252075, 2.1040687561035156, 2.289283037185669, 2.353749990463257, 14.089960098266602, 14.089960098266602, 0.8919729590415955, 0.8919729590415955, 0.8919729590415955, 0.8919729590415955, 0.8919730186462402, 22.61735725402832, 1.0293148756027222, 0.9326155781745911, 1.0979375839233398, 1.0979375839233398, 22.61735725402832, 1.1779730319976807, 1.1779730319976807, 1.1779730319976807, 1.1779730319976807, 1.1779730319976807, 1.1779730319976807, 1.1779730319976807, 1.1779730319976807, 1.1779730319976807, 1.1779729127883911, 1.1779729127883911, 1.1779730319976807, 1.1779730319976807, 1.1779729127883911, 1.1779730319976807, 1.1779730319976807, 1.1779730319976807, 1.1779730319976807, 1.1779730319976807, 1.1779730319976807, 1.1779730319976807, 1.1779730319976807, 1.1779730319976807, 1.1779730319976807, 1.1779730319976807, 1.1779729127883911, 1.1779730319976807, 1.1779730319976807, 1.1779730319976807, 1.1779730319976807, 1.1779730319976807, 1.1779730319976807, 1.1779730319976807, 1.1779730319976807, 14.089960098266602, 14.089960098266602, 1.1779730319976807, 1.1779730319976807, 0.9326154589653015, 0.9326154589653015, 0.9326155781745911, 0.9326155781745911, 0.9326154589653015, 0.9326154589653015, 0.9326187968254089, 0.9326187968254089, 0.9326189160346985, 1.6302244663238525, 0.8919729590415955, 0.8919729590415955, 0.8919729590415955, 0.8919729590415955, 0.8919730186462402, 0.8919766545295715, 1.0293147563934326, 1.0293147563934326, 1.0293147563934326, 1.0293148756027222, 1.0293148756027222, 1.0293148756027222, 1.0293148756027222, 1.0293148756027222, 1.0293148756027222, 1.0293148756027222, 1.0293148756027222, 1.0293148756027222, 1.0293148756027222, 1.0293148756027222, 1.0293174982070923, 1.0293176174163818, 14.089960098266602, 14.089960098266602, 22.61735725402832, 1.229260802268982, 1.2292609214782715, 1.2292613983154297, 1.2292616367340088, 1.229261875152588, 1.2292630672454834, 1.2292665243148804, 1.1779730319976807, 1.1303826570510864, 1.1779730319976807, 1.2292733192443848, 1.2292730808258057, 1.1779730319976807, 1.1779729127883911, 1.1779729127883911, 1.1779730319976807, 1.1779730319976807, 0.8919729590415955, 0.8919729590415955, 0.8919730186462402, 0.8919729590415955, 0.8919729590415955, 0.8919766545295715, 1.4409635066986084, 0.9326155781745911, 0.9326154589653015, 0.9326154589653015, 0.9326154589653015, 0.9326154589653015, 0.9326155781745911, 0.9326189160346985, 0.9326187968254089, 0.9326187968254089, 1.0293147563934326, 1.0293147563934326, 1.0293147563934326, 1.0293148756027222, 1.0293148756027222, 1.0293148756027222, 1.0293148756027222, 1.0293148756027222, 1.0293148756027222, 1.0293148756027222, 1.0293148756027222, 1.0293148756027222, 1.0293148756027222, 1.0293148756027222, 1.0293174982070923, 1.0293176174163818, 22.61735725402832, 14.089960098266602, 14.089960098266602, 2.289283037185669, 1.1779730319976807, 1.1779730319976807, 1.1779730319976807, 1.2292733192443848, 1.1779730319976807, 1.0979375839233398, 1.0938031673431396, 1.0938031673431396, 1.229271411895752, 1.763542890548706, 1.1779730319976807, 1.1303826570510864, 1.1779730319976807, 1.2292730808258057, 1.1303826570510864, 1.1779730319976807, 1.940034031867981, 1.2292730808258057], \"Category\": [\"Default\", \"Default\", \"Default\", \"Default\", \"Default\", \"Default\", \"Default\", \"Default\", \"Default\", \"Default\", \"Default\", \"Default\", \"Default\", \"Default\", \"Default\", \"Default\", \"Default\", \"Default\", \"Default\", \"Default\", \"Default\", \"Default\", \"Default\", \"Default\", \"Default\", \"Default\", \"Default\", \"Default\", \"Default\", \"Default\", \"Topic1\", \"Topic1\", \"Topic1\", \"Topic1\", \"Topic1\", \"Topic1\", \"Topic1\", \"Topic1\", \"Topic1\", \"Topic1\", \"Topic1\", \"Topic1\", \"Topic1\", \"Topic1\", \"Topic1\", \"Topic1\", \"Topic1\", \"Topic1\", \"Topic1\", \"Topic1\", \"Topic1\", \"Topic1\", \"Topic1\", \"Topic1\", \"Topic1\", \"Topic1\", \"Topic1\", \"Topic1\", \"Topic1\", \"Topic1\", \"Topic1\", \"Topic1\", \"Topic2\", \"Topic2\", \"Topic2\", \"Topic2\", \"Topic2\", \"Topic2\", \"Topic2\", \"Topic2\", \"Topic2\", \"Topic2\", \"Topic2\", \"Topic2\", \"Topic2\", \"Topic2\", \"Topic2\", \"Topic2\", \"Topic2\", \"Topic2\", \"Topic2\", \"Topic2\", \"Topic2\", \"Topic2\", \"Topic2\", \"Topic2\", \"Topic2\", \"Topic2\", \"Topic2\", \"Topic2\", \"Topic2\", \"Topic2\", \"Topic2\", \"Topic2\", \"Topic2\", \"Topic2\", \"Topic2\", \"Topic2\", \"Topic2\", \"Topic2\", \"Topic2\", \"Topic2\", \"Topic2\", \"Topic2\", \"Topic2\", \"Topic2\", \"Topic2\", \"Topic2\", \"Topic2\", \"Topic2\", \"Topic2\", \"Topic2\", \"Topic2\", \"Topic2\", \"Topic2\", \"Topic3\", \"Topic3\", \"Topic3\", \"Topic3\", \"Topic3\", \"Topic3\", \"Topic3\", \"Topic3\", \"Topic3\", \"Topic3\", \"Topic3\", \"Topic3\", \"Topic3\", \"Topic3\", \"Topic3\", \"Topic3\", \"Topic3\", \"Topic3\", \"Topic3\", \"Topic3\", \"Topic3\", \"Topic3\", \"Topic3\", \"Topic3\", \"Topic3\", \"Topic3\", \"Topic3\", \"Topic3\", \"Topic3\", \"Topic3\", \"Topic3\", \"Topic3\", \"Topic3\", \"Topic3\", \"Topic3\", \"Topic3\", \"Topic4\", \"Topic4\", \"Topic4\", \"Topic4\", \"Topic4\", \"Topic4\", \"Topic4\", \"Topic4\", \"Topic4\", \"Topic4\", \"Topic4\", \"Topic4\", \"Topic4\", \"Topic4\", \"Topic4\", \"Topic4\", \"Topic4\", \"Topic4\", \"Topic4\", \"Topic4\", \"Topic4\", \"Topic4\", \"Topic4\", \"Topic4\", \"Topic4\", \"Topic4\", \"Topic4\", \"Topic4\", \"Topic4\", \"Topic4\", \"Topic4\", \"Topic4\", \"Topic4\", \"Topic4\", \"Topic4\", \"Topic4\", \"Topic5\", \"Topic5\", \"Topic5\", \"Topic5\", \"Topic5\", \"Topic5\", \"Topic5\", \"Topic5\", \"Topic5\", \"Topic5\", \"Topic5\", \"Topic5\", \"Topic5\", \"Topic5\", \"Topic5\", \"Topic5\", \"Topic5\", \"Topic5\", \"Topic5\", \"Topic5\", \"Topic5\", \"Topic5\", \"Topic5\", \"Topic5\", \"Topic5\", \"Topic5\", \"Topic5\", \"Topic5\", \"Topic5\", \"Topic5\", \"Topic5\", \"Topic5\", \"Topic5\", \"Topic5\", \"Topic5\", \"Topic5\", \"Topic5\", \"Topic6\", \"Topic6\", \"Topic6\", \"Topic6\", \"Topic6\", \"Topic6\", \"Topic6\", \"Topic6\", \"Topic6\", \"Topic6\", \"Topic6\", \"Topic6\", \"Topic6\", \"Topic6\", \"Topic6\", \"Topic6\", \"Topic6\", \"Topic6\", \"Topic6\", \"Topic6\", \"Topic6\", \"Topic6\", \"Topic6\", \"Topic6\", \"Topic6\", \"Topic6\", \"Topic6\", \"Topic6\", \"Topic6\", \"Topic6\", \"Topic6\", \"Topic6\", \"Topic6\", \"Topic6\", \"Topic7\", \"Topic7\", \"Topic7\", \"Topic7\", \"Topic7\", \"Topic7\", \"Topic7\", \"Topic7\", \"Topic7\", \"Topic7\", \"Topic7\", \"Topic7\", \"Topic7\", \"Topic7\", \"Topic7\", \"Topic7\", \"Topic7\", \"Topic7\", \"Topic7\", \"Topic7\", \"Topic7\", \"Topic7\", \"Topic7\", \"Topic7\", \"Topic7\", \"Topic7\", \"Topic7\", \"Topic7\", \"Topic7\", \"Topic7\", \"Topic7\", \"Topic7\", \"Topic7\", \"Topic7\", \"Topic7\", \"Topic8\", \"Topic8\", \"Topic8\", \"Topic8\", \"Topic8\", \"Topic8\", \"Topic8\", \"Topic8\", \"Topic8\", \"Topic8\", \"Topic8\", \"Topic8\", \"Topic8\", \"Topic8\", \"Topic8\", \"Topic8\", \"Topic8\", \"Topic8\", \"Topic8\", \"Topic8\", \"Topic8\", \"Topic8\", \"Topic8\", \"Topic8\", \"Topic8\", \"Topic8\", \"Topic8\", \"Topic8\", \"Topic8\", \"Topic8\", \"Topic8\", \"Topic8\", \"Topic8\", \"Topic8\", \"Topic8\", \"Topic8\", \"Topic8\", \"Topic8\", \"Topic8\", \"Topic9\", \"Topic9\", \"Topic9\", \"Topic9\", \"Topic9\", \"Topic9\", \"Topic9\", \"Topic9\", \"Topic9\", \"Topic9\", \"Topic9\", \"Topic9\", \"Topic9\", \"Topic9\", \"Topic9\", \"Topic9\", \"Topic9\", \"Topic9\", \"Topic9\", \"Topic9\", \"Topic9\", \"Topic9\", \"Topic9\", \"Topic9\", \"Topic9\", \"Topic9\", \"Topic9\", \"Topic9\", \"Topic9\", \"Topic9\", \"Topic9\", \"Topic9\", \"Topic9\", \"Topic9\", \"Topic9\", \"Topic9\", \"Topic9\", \"Topic9\", \"Topic9\", \"Topic9\", \"Topic9\", \"Topic9\", \"Topic9\", \"Topic9\", \"Topic9\", \"Topic9\", \"Topic9\", \"Topic9\", \"Topic9\", \"Topic9\", \"Topic9\", \"Topic9\", \"Topic10\", \"Topic10\", \"Topic10\", \"Topic10\", \"Topic10\", \"Topic10\", \"Topic10\", \"Topic10\", \"Topic10\", \"Topic10\", \"Topic10\", \"Topic10\", \"Topic10\", \"Topic10\", \"Topic10\", \"Topic10\", \"Topic10\", \"Topic10\", \"Topic10\", \"Topic10\", \"Topic10\", \"Topic10\", \"Topic10\", \"Topic10\", \"Topic10\", \"Topic10\", \"Topic10\", \"Topic10\", \"Topic10\", \"Topic10\", \"Topic10\", \"Topic10\", \"Topic10\", \"Topic10\", \"Topic10\", \"Topic10\", \"Topic10\", \"Topic10\", \"Topic10\", \"Topic10\", \"Topic10\", \"Topic10\", \"Topic10\", \"Topic10\", \"Topic10\", \"Topic10\", \"Topic10\", \"Topic10\", \"Topic10\", \"Topic10\", \"Topic10\", \"Topic10\", \"Topic10\", \"Topic10\"], \"logprob\": [30.0, 29.0, 28.0, 27.0, 26.0, 25.0, 24.0, 23.0, 22.0, 21.0, 20.0, 19.0, 18.0, 17.0, 16.0, 15.0, 14.0, 13.0, 12.0, 11.0, 10.0, 9.0, 8.0, 7.0, 6.0, 5.0, 4.0, 3.0, 2.0, 1.0, -4.0883002281188965, -4.0883002281188965, -4.0883002281188965, -4.0883002281188965, -4.0883002281188965, -4.0883002281188965, -4.0883002281188965, -4.0883002281188965, -4.0883002281188965, -4.0883002281188965, -4.0883002281188965, -4.0883002281188965, -4.0883002281188965, -4.0883002281188965, -4.0883002281188965, -4.0883002281188965, -4.0883002281188965, -4.0883002281188965, -4.0883002281188965, -4.0883002281188965, -4.0883002281188965, -4.0883002281188965, -4.0883002281188965, -4.0883002281188965, -4.0883002281188965, -4.0883002281188965, -4.0883002281188965, -4.0883002281188965, -4.0883002281188965, -4.0883002281188965, -2.772599935531616, -2.772599935531616, -3.8097000122070312, -3.8097000122070312, -3.8097000122070312, -3.8097000122070312, -3.8097000122070312, -3.8097000122070312, -3.8097000122070312, -3.8097000122070312, -3.8097000122070312, -3.8097000122070312, -3.8097000122070312, -3.8097000122070312, -3.8097000122070312, -3.8097000122070312, -3.809799909591675, -3.809799909591675, -3.809799909591675, -3.8097000122070312, -3.8097000122070312, -2.773699998855591, -6.207600116729736, -6.207600116729736, -6.207600116729736, -6.207600116729736, -6.207600116729736, -6.207600116729736, -6.207600116729736, -6.207600116729736, -6.207600116729736, -6.207600116729736, -6.207600116729736, -6.207600116729736, -6.207600116729736, -6.207600116729736, -6.197299957275391, -6.197400093078613, -6.197500228881836, -6.19789981842041, -6.19789981842041, -6.1981000900268555, -6.198299884796143, -6.198299884796143, -6.198400020599365, -6.183499813079834, -6.191199779510498, -6.192500114440918, -6.192699909210205, -6.19290018081665, -6.19320011138916, -6.19320011138916, -6.1809000968933105, -6.1809000968933105, -6.191100120544434, -3.940700054168701, -3.940700054168701, -3.940700054168701, -3.940700054168701, -3.940700054168701, -3.940700054168701, -3.940700054168701, -3.940700054168701, -3.940700054168701, -3.940700054168701, -3.940700054168701, -3.940700054168701, -3.940700054168701, -3.940700054168701, -3.940700054168701, -3.940700054168701, -3.940700054168701, -3.940700054168701, -3.940700054168701, -3.940700054168701, -3.940700054168701, -3.940700054168701, -3.940700054168701, -3.940700054168701, -3.940700054168701, -3.294100046157837, -3.294100046157837, -6.338600158691406, -6.338600158691406, -6.338600158691406, -6.338600158691406, -6.338600158691406, -6.338600158691406, -6.338600158691406, -6.338600158691406, -6.338600158691406, -3.7862000465393066, -3.786600112915039, -4.4328999519348145, -4.4328999519348145, -4.4328999519348145, -4.4328999519348145, -4.4328999519348145, -4.4328999519348145, -4.4328999519348145, -4.4328999519348145, -4.4328999519348145, -4.4328999519348145, -4.4328999519348145, -4.4328999519348145, -4.4328999519348145, -4.4328999519348145, -4.4328999519348145, -4.4328999519348145, -4.4328999519348145, -4.4328999519348145, -4.4328999519348145, -4.4328999519348145, -4.4328999519348145, -4.4328999519348145, -4.4328999519348145, -4.433199882507324, -4.433199882507324, -4.433199882507324, -4.433199882507324, -4.433300018310547, -3.7867000102996826, -3.3968000411987305, -3.3968000411987305, -4.4328999519348145, -4.4328999519348145, -4.4328999519348145, -3.9230000972747803, -3.9230000972747803, -3.9230000972747803, -3.9230000972747803, -3.9230000972747803, -3.9230000972747803, -3.9230000972747803, -3.9230000972747803, -3.9230000972747803, -3.9230000972747803, -3.9230000972747803, -3.9230000972747803, -3.9230000972747803, -3.9230000972747803, -3.9230000972747803, -3.9230000972747803, -3.9230000972747803, -3.9230000972747803, -3.9230000972747803, -3.9230000972747803, -3.9230000972747803, -3.9230000972747803, -3.9230000972747803, -3.9230000972747803, -3.9230000972747803, -3.9230000972747803, -3.9228999614715576, -3.9230000972747803, -6.320799827575684, -6.320799827575684, -6.320799827575684, -6.320799827575684, -6.320799827575684, -6.320799827575684, -6.313199996948242, -6.314199924468994, -6.312600135803223, -3.341900110244751, -3.731300115585327, -4.377200126647949, -4.377200126647949, -4.377200126647949, -4.377200126647949, -4.377200126647949, -4.377200126647949, -4.377200126647949, -4.377200126647949, -4.377200126647949, -4.377200126647949, -4.377200126647949, -4.377200126647949, -4.377200126647949, -4.377200126647949, -4.377200126647949, -4.377699851989746, -4.377799987792969, -4.377799987792969, -4.377799987792969, -4.377799987792969, -4.377900123596191, -4.377900123596191, -4.377900123596191, -4.377900123596191, -4.377900123596191, -4.377900123596191, -4.377900123596191, -4.377900123596191, -2.512399911880493, -4.377699851989746, -4.377799987792969, -4.377900123596191, -3.9047000408172607, -3.9047000408172607, -3.9047000408172607, -3.9047000408172607, -3.9047000408172607, -3.9047000408172607, -3.9047000408172607, -3.9047000408172607, -3.9047000408172607, -3.9047000408172607, -3.9047000408172607, -3.9047000408172607, -3.9047000408172607, -3.9047000408172607, -3.905100107192993, -3.905100107192993, -3.9052000045776367, -3.9052999019622803, -3.905400037765503, -3.9047000408172607, -3.905400037765503, -3.9047000408172607, -3.9052999019622803, -3.2581000328063965, -3.2581000328063965, -6.302599906921387, -6.302599906921387, -6.302599906921387, -6.302599906921387, -6.302599906921387, -6.280700206756592, -6.302599906921387, -6.302599906921387, -6.302599906921387, -6.302599906921387, -1.6023000478744507, -4.729400157928467, -4.729400157928467, -4.729400157928467, -4.729400157928467, -4.729400157928467, -4.729400157928467, -4.729400157928467, -4.729400157928467, -4.729400157928467, -4.729400157928467, -4.729400157928467, -4.729400157928467, -4.729400157928467, -4.729400157928467, -4.729400157928467, -4.729400157928467, -4.729400157928467, -4.729400157928467, -4.729400157928467, -4.729400157928467, -4.729400157928467, -4.729400157928467, -4.729400157928467, -4.729400157928467, -4.729400157928467, -4.729400157928467, -4.729400157928467, -4.729400157928467, -4.729400157928467, -4.729400157928467, -4.729400157928467, -4.729400157928467, -4.729400157928467, -4.729400157928467, -2.419600009918213, -2.419600009918213, -4.729400157928467, -4.729400157928467, -3.532599925994873, -3.532599925994873, -3.532599925994873, -3.532599925994873, -3.532599925994873, -3.532599925994873, -3.532599925994873, -3.532599925994873, -3.532599925994873, -3.532599925994873, -5.930500030517578, -5.930500030517578, -5.930500030517578, -5.930500030517578, -5.930500030517578, -5.930500030517578, -5.930500030517578, -5.930500030517578, -5.930500030517578, -5.930500030517578, -5.930500030517578, -5.930500030517578, -5.930500030517578, -5.930500030517578, -5.930500030517578, -5.930500030517578, -5.930500030517578, -5.930500030517578, -5.930500030517578, -5.930500030517578, -5.930500030517578, -5.930500030517578, -5.782400131225586, -5.782400131225586, -5.906599998474121, -5.930099964141846, -5.930099964141846, -5.930099964141846, -5.930099964141846, -5.930099964141846, -5.930200099945068, -5.930300235748291, -5.930500030517578, -5.930500030517578, -5.930500030517578, -5.930500030517578, -5.930500030517578, -5.930500030517578, -5.930500030517578, -5.930500030517578, -5.930500030517578, -5.930500030517578, -3.4486000537872314, -3.4486000537872314, -3.4486000537872314, -3.4486000537872314, -3.4486000537872314, -3.4486000537872314, -3.4486000537872314, -5.846499919891357, -5.846499919891357, -5.846499919891357, -5.846499919891357, -5.846499919891357, -5.846499919891357, -5.846499919891357, -5.846499919891357, -5.846499919891357, -5.846499919891357, -5.846499919891357, -5.846499919891357, -5.846499919891357, -5.846499919891357, -5.846499919891357, -5.846499919891357, -5.846499919891357, -5.846499919891357, -5.846499919891357, -5.846499919891357, -5.846499919891357, -5.846499919891357, -5.846499919891357, -5.846499919891357, -5.846499919891357, -5.822000026702881, -5.846499919891357, -5.846499919891357, -5.846499919891357, -5.846499919891357, -5.846499919891357, -5.846499919891357, -5.846499919891357, -5.846499919891357, -5.846499919891357, -5.846499919891357, -5.846499919891357, -5.846499919891357, -5.846499919891357, -5.846499919891357, -5.846499919891357, -5.846499919891357, -5.846499919891357, -5.846499919891357, -5.846499919891357, -5.846499919891357, -5.846499919891357], \"loglift\": [30.0, 29.0, 28.0, 27.0, 26.0, 25.0, 24.0, 23.0, 22.0, 21.0, 20.0, 19.0, 18.0, 17.0, 16.0, 15.0, 14.0, 13.0, 12.0, 11.0, 10.0, 9.0, 8.0, 7.0, 6.0, 5.0, 4.0, 3.0, 2.0, 1.0, 1.7372000217437744, 1.7372000217437744, 1.7372000217437744, 1.7372000217437744, 1.7372000217437744, 1.7372000217437744, 1.7372000217437744, 1.7372000217437744, 1.7372000217437744, 1.7372000217437744, 1.7372000217437744, 1.7372000217437744, 1.7372000217437744, 1.7372000217437744, 1.7372000217437744, 1.7372000217437744, 1.7372000217437744, 1.7372000217437744, 1.7372000217437744, 1.7372000217437744, 1.7372000217437744, 1.7372000217437744, 1.7372000217437744, 1.7372000217437744, 1.3804999589920044, 1.355299949645996, 1.2924000024795532, 1.0565999746322632, 1.031499981880188, 1.0038000345230103, 0.5299999713897705, 0.5299999713897705, 2.1094000339508057, 2.1094000339508057, 2.1094000339508057, 2.1094000339508057, 2.1094000339508057, 2.1094000339508057, 2.1094000339508057, 2.1094000339508057, 2.1094000339508057, 2.1094000339508057, 2.1094000339508057, 2.1094000339508057, 2.1094000339508057, 2.1094000339508057, 2.1094000339508057, 2.1094000339508057, 1.6819000244140625, 1.659000039100647, 1.3944000005722046, 0.05559999868273735, -0.1453000009059906, -0.1453000009059906, -0.1453000009059906, -0.1453000009059906, -0.1453000009059906, -0.1453000009059906, -0.18979999423027039, -0.18979999423027039, -0.18979999423027039, -0.18979999423027039, -0.18979999423027039, -0.18979999423027039, -0.18979999423027039, -0.18979999423027039, -0.45559999346733093, -0.45570001006126404, -0.45570001006126404, -0.4562000036239624, -0.4562000036239624, -0.4564000070095062, -0.45660001039505005, -0.45660001039505005, -0.45660001039505005, -1.1900999546051025, -0.8988999724388123, -0.8932999968528748, -0.9003999829292297, -0.900600016117096, -0.9009000062942505, -0.9009000062942505, -2.8782999515533447, -2.8782999515533447, -1.207800030708313, 1.9177000522613525, 1.9177000522613525, 1.9177000522613525, 1.9177000522613525, 1.9177000522613525, 1.9177000522613525, 1.9177000522613525, 1.9177000522613525, 1.9177000522613525, 1.9177000522613525, 1.9177000522613525, 1.9177000522613525, 1.9177000522613525, 1.9177000522613525, 1.9177000522613525, 1.9177000522613525, 1.9177000522613525, 1.9177000522613525, 1.9177000522613525, 1.9177000522613525, 1.6419999599456787, 1.5509999990463257, 1.5083999633789062, 1.2634999752044678, 1.204200029373169, 0.008500000461935997, 0.008500000461935997, -0.27619999647140503, -0.27619999647140503, -0.27619999647140503, -0.27619999647140503, -0.27619999647140503, -0.27619999647140503, -3.5092999935150146, -0.5544000267982483, -0.4587000012397766, 1.4990999698638916, 1.4988000392913818, 1.2980999946594238, 1.2980999946594238, 1.2980999946594238, 1.2980999946594238, 1.2980999946594238, 1.2980999946594238, 1.2980999946594238, 1.2980999946594238, 1.2980999946594238, 1.2980999946594238, 1.2980999946594238, 1.2980999946594238, 1.2980999946594238, 1.2980999946594238, 1.2980999946594238, 1.2980999946594238, 1.2980999946594238, 1.2980999946594238, 1.2980999946594238, 1.2980999946594238, 1.2980999946594238, 1.2980999946594238, 1.2980999946594238, 1.2978999614715576, 1.2977999448776245, 1.2977999448776245, 1.2977999448776245, 1.2977999448776245, 1.1965999603271484, -0.094200000166893, -0.094200000166893, 1.0263999700546265, 0.9297999739646912, 0.6590999960899353, 1.9315999746322632, 1.9315999746322632, 1.9315999746322632, 1.9315999746322632, 1.9315999746322632, 1.9315999746322632, 1.9315999746322632, 1.9315999746322632, 1.9315999746322632, 1.9315999746322632, 1.9315999746322632, 1.9315999746322632, 1.9315999746322632, 1.9315999746322632, 1.9315999746322632, 1.9315999746322632, 1.9315999746322632, 1.9315999746322632, 1.9315999746322632, 1.9315999746322632, 1.9315999746322632, 1.9315999746322632, 1.9315999746322632, 1.9315999746322632, 1.9315999746322632, 1.5262000560760498, 1.4398000240325928, 1.222000002861023, -0.25850000977516174, -0.25850000977516174, -0.25850000977516174, -0.25850000977516174, -0.25850000977516174, -0.25850000977516174, -0.4334000051021576, -0.4343000054359436, -1.1085000038146973, 1.6516000032424927, 1.5678999423980713, 1.3645000457763672, 1.3645000457763672, 1.3645000457763672, 1.3645000457763672, 1.3645000457763672, 1.3645000457763672, 1.364400029182434, 1.364400029182434, 1.364400029182434, 1.364400029182434, 1.364400029182434, 1.364400029182434, 1.364400029182434, 1.364400029182434, 1.364400029182434, 1.3639999628067017, 1.3639999628067017, 1.3638999462127686, 1.3638999462127686, 1.3638999462127686, 1.3638999462127686, 1.363800048828125, 1.363800048828125, 1.363800048828125, 1.363800048828125, 1.363800048828125, 1.363800048828125, 1.363800048828125, 0.31690001487731934, 0.9144999980926514, 0.9143999814987183, 0.605400025844574, 1.9752000570297241, 1.9752000570297241, 1.9752000570297241, 1.9752000570297241, 1.9752000570297241, 1.9752000570297241, 1.9752000570297241, 1.9752000570297241, 1.9752000570297241, 1.9752000570297241, 1.9752000570297241, 1.9752000570297241, 1.9752000570297241, 1.9752000570297241, 1.9747999906539917, 1.9746999740600586, 1.9745999574661255, 1.9744999408721924, 1.9744999408721924, 1.5389000177383423, 1.298699975013733, 1.2151000499725342, 1.1868000030517578, 0.04450000077486038, 0.04450000077486038, -0.2401999980211258, -0.2401999980211258, -0.2401999980211258, -0.2401999980211258, -0.2401999980211258, -3.4514000415802, -0.38339999318122864, -0.2847999930381775, -0.4480000138282776, -0.4480000138282776, 1.2269999980926514, 1.054900050163269, 1.054900050163269, 1.054900050163269, 1.054900050163269, 1.054900050163269, 1.054900050163269, 1.054900050163269, 1.054900050163269, 1.054900050163269, 1.054900050163269, 1.054900050163269, 1.054900050163269, 1.054900050163269, 1.054900050163269, 1.054900050163269, 1.054900050163269, 1.054900050163269, 1.054900050163269, 1.054900050163269, 1.054900050163269, 1.054900050163269, 1.054900050163269, 1.054900050163269, 1.054900050163269, 1.054900050163269, 1.054900050163269, 1.054900050163269, 1.054900050163269, 1.054900050163269, 1.054900050163269, 1.054900050163269, 1.054900050163269, 1.054900050163269, 1.054900050163269, 0.8828999996185303, 0.8828999996185303, 1.054900050163269, 1.054900050163269, 2.4851999282836914, 2.4851999282836914, 2.4851999282836914, 2.4851999282836914, 2.4851999282836914, 2.4851999282836914, 2.4851999282836914, 2.4851999282836914, 2.4851999282836914, 1.9266999959945679, 0.13179999589920044, 0.13179999589920044, 0.13179999589920044, 0.13179999589920044, 0.13179999589920044, 0.13179999589920044, -0.01140000019222498, -0.01140000019222498, -0.01140000019222498, -0.01140000019222498, -0.01140000019222498, -0.01140000019222498, -0.01140000019222498, -0.01140000019222498, -0.01140000019222498, -0.01140000019222498, -0.01140000019222498, -0.01140000019222498, -0.01140000019222498, -0.01140000019222498, -0.01140000019222498, -0.01140000019222498, -2.47979998588562, -2.47979998588562, -3.077199935913086, -0.18850000202655792, -0.18850000202655792, -0.18850000202655792, -0.18850000202655792, -0.18850000202655792, -0.18860000371932983, -0.18870000541210175, -0.14630000293254852, -0.10499999672174454, -0.14630000293254852, -0.18889999389648438, -0.18889999389648438, -0.14630000293254852, -0.14630000293254852, -0.14630000293254852, -0.14630000293254852, -0.14630000293254852, 2.6136999130249023, 2.6136999130249023, 2.6136999130249023, 2.6136999130249023, 2.6136999130249023, 2.6136999130249023, 2.1340999603271484, 0.1712999939918518, 0.1712999939918518, 0.1712999939918518, 0.1712999939918518, 0.1712999939918518, 0.1712999939918518, 0.1712999939918518, 0.1712999939918518, 0.1712999939918518, 0.07259999960660934, 0.07259999960660934, 0.07259999960660934, 0.07259999960660934, 0.07259999960660934, 0.07259999960660934, 0.07259999960660934, 0.07259999960660934, 0.07259999960660934, 0.07259999960660934, 0.07259999960660934, 0.07259999960660934, 0.07259999960660934, 0.07259999960660934, 0.07259999960660934, 0.07259999960660934, -2.9927000999450684, -2.5439000129699707, -2.5439000129699707, -0.7267000079154968, -0.062300000339746475, -0.062300000339746475, -0.062300000339746475, -0.10490000247955322, -0.062300000339746475, 0.008100000210106373, 0.011900000274181366, 0.011900000274181366, -0.10490000247955322, -0.4657999873161316, -0.062300000339746475, -0.020999999716877937, -0.062300000339746475, -0.10490000247955322, -0.020999999716877937, -0.062300000339746475, -0.5612000226974487, -0.10490000247955322]}, \"token.table\": {\"Topic\": [4, 6, 2, 6, 6, 6, 4, 6, 6, 4, 4, 6, 6, 4, 6, 4, 6, 6, 6, 6, 6, 6, 6, 6, 6, 6, 6, 6, 6, 2, 1, 2, 7, 3, 2, 7, 3, 5, 5, 1, 3, 5, 3, 5, 7, 1, 4, 8, 1, 5, 5, 1, 7, 1, 3, 4, 7, 8, 2, 6, 8, 4, 6, 7, 2, 3, 4, 5, 1, 4, 4, 8, 1, 6, 7, 3, 4, 6, 5, 5, 3, 1, 4, 7, 1, 4, 4, 5, 1, 3, 4, 8, 3, 4, 5, 1, 5, 5, 3, 8, 7, 6, 4, 6, 4, 6, 8, 8, 8, 7, 8, 8, 2, 3, 1, 1, 7, 8, 1, 6, 8, 8, 4, 4, 4, 3, 1, 6, 8, 8, 8, 8, 7, 6, 2, 2, 8, 4, 8, 4, 8, 8, 2, 6, 6, 6, 8, 8, 8, 8, 6, 7, 4, 5, 3, 6, 8, 8, 5, 4, 1, 7, 2, 1, 1, 4, 3, 2, 5, 5, 5, 2, 3, 7, 1, 7, 8, 1, 1, 2, 1, 7, 4, 1, 3, 4, 7, 8, 8, 8, 8, 7, 8, 8, 2, 3, 1, 1, 7, 8, 1, 6, 8, 8, 4, 4, 4, 3, 1, 7, 7, 6, 5, 7, 5, 1, 8, 5, 2, 3, 3, 5, 8, 5, 8, 7, 4, 6, 4, 5, 8, 4, 2, 3, 3, 3, 2, 5, 8, 4, 6, 1, 8, 4, 4, 5, 6, 5, 3, 4, 5, 1, 6, 2, 3, 6, 4, 6, 3, 2, 4, 6, 4, 6, 1, 7, 8, 6], \"Freq\": [0.3810757100582123, 0.3810757100582123, 0.9715200066566467, 0.8136122226715088, 0.813586950302124, 0.813598096370697, 0.5154978632926941, 0.8136245012283325, 0.813618004322052, 0.8049324154853821, 0.8049324750900269, 0.8135968446731567, 0.8135689496994019, 0.8049232363700867, 0.8135959506034851, 0.8049370646476746, 0.8136034607887268, 0.8135883212089539, 0.8136046528816223, 0.8136030435562134, 0.8135998845100403, 0.8136128187179565, 0.5226222276687622, 0.8135849237442017, 0.8136177659034729, 0.8135983347892761, 0.7699100375175476, 0.813576877117157, 0.8136153817176819, 0.9715200066566467, 0.8846561908721924, 0.9715200066566467, 0.9340965151786804, 0.9142412543296814, 0.9715200066566467, 0.9340782165527344, 0.6071910262107849, 0.6071910262107849, 0.9107986092567444, 0.44792860746383667, 0.44792860746383667, 0.44792860746383667, 0.9142411947250366, 0.9107984900474548, 0.9340965151786804, 0.8846561908721924, 0.515454888343811, 0.8489158749580383, 0.8846561908721924, 0.9107984900474548, 0.9107986092567444, 0.8846561908721924, 0.9340822696685791, 0.14194504916667938, 0.07097252458333969, 0.14194504916667938, 0.07097252458333969, 0.49680766463279724, 0.08842766284942627, 0.22106915712356567, 0.7074213027954102, 0.5190547704696655, 0.5190547704696655, 0.9340843558311462, 0.9715200066566467, 0.9142412543296814, 0.8048787117004395, 0.9107986092567444, 0.8846561908721924, 0.8048786520957947, 0.8048786520957947, 0.8489158749580383, 0.8846561908721924, 0.813497006893158, 0.9340804815292358, 0.9142412543296814, 0.8049314022064209, 0.8136239647865295, 0.9107986092567444, 0.9107986092567444, 0.9142411947250366, 0.42485395073890686, 0.42485395073890686, 0.42485395073890686, 0.8846561908721924, 0.8048786520957947, 0.8048786520957947, 0.9107984900474548, 0.8846561908721924, 0.9142411947250366, 0.6134124398231506, 0.8489158749580383, 0.9142412543296814, 0.8048786520957947, 0.9107986092567444, 0.8846561908721924, 0.9107986092567444, 0.9107984900474548, 0.9142411947250366, 0.8489158749580383, 0.9340965151786804, 0.8134962916374207, 0.5190306901931763, 0.5190306901931763, 0.5190639495849609, 0.5190639495849609, 0.8489158749580383, 0.8489158749580383, 0.8489158749580383, 0.9340965151786804, 0.8489158749580383, 0.8489158749580383, 0.9715174436569214, 0.9142412543296814, 0.8846561908721924, 0.8846561908721924, 0.9340965151786804, 0.8489158749580383, 0.8846561908721924, 0.8134899735450745, 0.8489158749580383, 0.8489158749580383, 0.8048786520957947, 0.8048786520957947, 0.8048786520957947, 0.9142412543296814, 0.8846561908721924, 0.8134889006614685, 0.8489158749580383, 0.8489159345626831, 0.8489159345626831, 0.8489158749580383, 0.9340946674346924, 0.8134889006614685, 0.9715201258659363, 0.9715201258659363, 0.8489159345626831, 0.8048801422119141, 0.8489159345626831, 0.8048801422119141, 0.8489158749580383, 0.8489158749580383, 0.9715201258659363, 0.8134888410568237, 0.8134889006614685, 0.8134889006614685, 0.8489158749580383, 0.8489158749580383, 0.8489158749580383, 0.8489158749580383, 0.8134887218475342, 0.9340965151786804, 0.5569333434104919, 0.5569333434104919, 0.9142412543296814, 0.8134932518005371, 0.8489158749580383, 0.8489158749580383, 0.9107986092567444, 0.8048786520957947, 0.8846561908721924, 0.9340965151786804, 0.9715200066566467, 0.8846561908721924, 0.8846561908721924, 0.8048786520957947, 0.9142411947250366, 0.9715200066566467, 0.9107984900474548, 0.9107984900474548, 0.9107986092567444, 0.4752696454524994, 0.4752696454524994, 0.4752696454524994, 0.8846561908721924, 0.9340965151786804, 0.8489158749580383, 0.8846561908721924, 0.6192391514778137, 0.6192391514778137, 0.6038197875022888, 0.6038197875022888, 0.8048786520957947, 0.14194504916667938, 0.07097252458333969, 0.14194504916667938, 0.07097252458333969, 0.49680766463279724, 0.8489158749580383, 0.8489158749580383, 0.8489158749580383, 0.9340965151786804, 0.8489158749580383, 0.8489158749580383, 0.9715175628662109, 0.9142412543296814, 0.8846561908721924, 0.8846561908721924, 0.9340965151786804, 0.8489158749580383, 0.8846561908721924, 0.8134899735450745, 0.8489158749580383, 0.8489158749580383, 0.8048786520957947, 0.8048786520957947, 0.8048786520957947, 0.9142412543296814, 0.8846561908721924, 0.9340865612030029, 0.9340965151786804, 0.8136124610900879, 0.9107984900474548, 0.9340965151786804, 0.9107984900474548, 0.8846561908721924, 0.8489158749580383, 0.9107986092567444, 0.9715200066566467, 0.9142412543296814, 0.9142412543296814, 0.9107986092567444, 0.8489158749580383, 0.9107986092567444, 0.8489158749580383, 0.9340965151786804, 0.5190532803535461, 0.5190532803535461, 0.8048786520957947, 0.9107986092567444, 0.8489158749580383, 0.8048786520957947, 0.9715200066566467, 0.9142411947250366, 0.6939800977706909, 0.9142411947250366, 0.9715200066566467, 0.9107986092567444, 0.8489158749580383, 0.8048787117004395, 0.8134969472885132, 0.5670403838157654, 0.5670403838157654, 0.8048786520957947, 0.8048786520957947, 0.9107984900474548, 0.8136260509490967, 0.9107986092567444, 0.9142412543296814, 0.8048786520957947, 0.9107986092567444, 0.8846561908721924, 0.813496470451355, 0.6335908770561218, 0.6335908770561218, 0.8134966492652893, 0.5190559029579163, 0.5190559029579163, 0.9142411947250366, 0.9715200066566467, 0.5190405249595642, 0.5190405249595642, 0.5190526843070984, 0.5190526843070984, 0.4368179738521576, 0.4368179738521576, 0.4368179738521576, 0.8134955167770386], \"Term\": [\".75.75\", \".75.75\", \"0.18&amp;micro;m\", \"00-.416.672v.352a.75.75\", \"00.574.73c1.2.289\", \"01.666\", \"011.5\", \"013.102\", \"1.482.235\", \"1.5.75.75\", \"1.5z\\\"></path></svg\", \"101.434-.44\", \"115.898\", \"2.122a2.25\", \"2.162\", \"2.25v-.878a2.25\", \"2.372a.75.75\", \"2.522\", \"2.549\", \"2.844.75.75\", \"3.012a3\", \"3.5a2\", \"4.001\", \"4.084.75.75\", \"4a.75.75\", \"4z\\\"></path></svg\", \"5.507\", \"5.5a3.5\", \"5.5zm11\", \"64-bit\", \"abstraction\", \"adder\", \"agent\", \"algorithm.</td\", \"analysis.</td\", \"animation\", \"apply\", \"apply\", \"archaeology.</td\", \"architecture\", \"architecture\", \"architecture\", \"architectures.</td\", \"authentication\", \"autonomous\", \"aware\", \"base\", \"binary\", \"biomarker\", \"candidate\", \"capture\", \"case.</td\", \"challenge\", \"class=\\\"blob\", \"class=\\\"blob\", \"class=\\\"blob\", \"class=\\\"blob\", \"class=\\\"blob\", \"class=\\\"js\", \"class=\\\"js\", \"class=\\\"js\", \"class=\\\"octicon\", \"class=\\\"octicon\", \"cloth\", \"cmos.</td\", \"codes.</td\", \"color\", \"complexity\", \"concurrent\", \"conditional\", \"constraints.</td\", \"converter\", \"coordination\", \"csrf=\\\"true\", \"current\", \"cyclic\", \"d=\\\"m5\", \"d=\\\"m5.5\", \"decision\", \"decoding.</td\", \"delta\", \"design\", \"design\", \"design\", \"detection\", \"detection.</td\", \"development\", \"devices.</td\", \"downlink\", \"effective\", \"efficient\", \"electronic\", \"encoder\", \"energy\", \"engine\", \"environment\", \"faceted\", \"fingerprint\", \"function\", \"functions.</td\", \"global\", \"gprlio2lw7i2uj+3eqo4oaxyah\", \"height=\\\"16\", \"height=\\\"16\", \"hidden=\\\"true\\\"><path\", \"hidden=\\\"true\\\"><path\", \"id=\\\"l1010\", \"id=\\\"l1279\", \"id=\\\"l1297\", \"id=\\\"l1392\", \"id=\\\"l1576\", \"id=\\\"l1591\", \"id=\\\"l1762\", \"id=\\\"l1789\", \"id=\\\"l1879\", \"id=\\\"l2119\", \"id=\\\"l2315\", \"id=\\\"l2355\", \"id=\\\"l2388\", \"id=\\\"l2439\", \"id=\\\"l281\", \"id=\\\"l283\", \"id=\\\"l519\", \"id=\\\"l522\", \"id=\\\"l569\", \"id=\\\"l778\", \"id=\\\"l893\", \"id=\\\"lc1029\", \"id=\\\"lc1054\", \"id=\\\"lc1119\", \"id=\\\"lc1125\", \"id=\\\"lc1134\", \"id=\\\"lc1418\", \"id=\\\"lc1472\", \"id=\\\"lc1594\", \"id=\\\"lc1690\", \"id=\\\"lc1697\", \"id=\\\"lc1836\", \"id=\\\"lc1992\", \"id=\\\"lc2037\", \"id=\\\"lc2242\", \"id=\\\"lc245\", \"id=\\\"lc2499\", \"id=\\\"lc421\", \"id=\\\"lc501\", \"id=\\\"lc530\", \"id=\\\"lc840\", \"id=\\\"lc890\", \"id=\\\"lc914\", \"id=\\\"lc961\", \"id=\\\"lc985\", \"illumination.</td\", \"image\", \"image\", \"improvement\", \"input\", \"integrate\", \"integrating\", \"interpolation\", \"keeper\", \"level\", \"lighting\", \"logic\", \"magnetic\", \"match\", \"matchline\", \"matlab\", \"measurement\", \"method\", \"mobile\", \"model\", \"modeling\", \"modeling\", \"modeling\", \"multi\", \"multihop\", \"multiplier.</td\", \"nanotags.</td\", \"network\", \"network\", \"networks.</td\", \"networks.</td\", \"noise\", \"number\", \"number\", \"number\", \"number\", \"number\", \"number=\\\"1010\\\"></td\", \"number=\\\"1279\\\"></td\", \"number=\\\"1297\\\"></td\", \"number=\\\"1392\\\"></td\", \"number=\\\"1576\\\"></td\", \"number=\\\"1591\\\"></td\", \"number=\\\"1762\\\"></td\", \"number=\\\"1789\\\"></td\", \"number=\\\"1879\\\"></td\", \"number=\\\"2119\\\"></td\", \"number=\\\"2315\\\"></td\", \"number=\\\"2355\\\"></td\", \"number=\\\"2388\\\"></td\", \"number=\\\"2439\\\"></td\", \"number=\\\"281\\\"></td\", \"number=\\\"283\\\"></td\", \"number=\\\"519\\\"></td\", \"number=\\\"522\\\"></td\", \"number=\\\"569\\\"></td\", \"number=\\\"778\\\"></td\", \"number=\\\"893\\\"></td\", \"panel).</td\", \"paradigm\", \"people\", \"planar\", \"plasma\", \"point\", \"portable\", \"power\", \"product\", \"propagation\", \"proportionate\", \"quasi\", \"query\", \"recognition\", \"reconstruction\", \"redundant\", \"route\", \"rule=\\\"evenodd\", \"rule=\\\"evenodd\", \"scheme\", \"search.</td\", \"sensing\", \"settling\", \"sharing\", \"sigma\", \"simulation\", \"simulink\", \"social\", \"solomon\", \"speed\", \"stage\", \"suggestion\", \"system\", \"system\", \"tampering\", \"tcam.</td\", \"td>3d\", \"text=\\\"gray\", \"theory\", \"throughput\", \"tolerant\", \"towards\", \"traffic\", \"type=\\\"hidden\", \"using\", \"using\", \"value=\\\"+hhzknwwv446jnwrdl/7ealjktmvs7\", \"version=\\\"1.1\", \"version=\\\"1.1\", \"vhdlams\", \"video\", \"viewbox=\\\"0\", \"viewbox=\\\"0\", \"width=\\\"16\", \"width=\\\"16\", \"wireless\", \"wireless\", \"wireless\", \"zsrksqens08kpdvgvjj8fdksq==\"]}, \"R\": 30, \"lambda.step\": 0.01, \"plot.opts\": {\"xlab\": \"PC1\", \"ylab\": \"PC2\"}, \"topic.order\": [1, 2, 3, 4, 5, 6, 7, 8, 9, 10]};\n",
              "\n",
              "function LDAvis_load_lib(url, callback){\n",
              "  var s = document.createElement('script');\n",
              "  s.src = url;\n",
              "  s.async = true;\n",
              "  s.onreadystatechange = s.onload = callback;\n",
              "  s.onerror = function(){console.warn(\"failed to load library \" + url);};\n",
              "  document.getElementsByTagName(\"head\")[0].appendChild(s);\n",
              "}\n",
              "\n",
              "if(typeof(LDAvis) !== \"undefined\"){\n",
              "   // already loaded: just create the visualization\n",
              "   !function(LDAvis){\n",
              "       new LDAvis(\"#\" + \"ldavis_el1201400561907901763207588070\", ldavis_el1201400561907901763207588070_data);\n",
              "   }(LDAvis);\n",
              "}else if(typeof define === \"function\" && define.amd){\n",
              "   // require.js is available: use it to load d3/LDAvis\n",
              "   require.config({paths: {d3: \"https://cdnjs.cloudflare.com/ajax/libs/d3/3.5.5/d3.min\"}});\n",
              "   require([\"d3\"], function(d3){\n",
              "      window.d3 = d3;\n",
              "      LDAvis_load_lib(\"https://cdn.rawgit.com/bmabey/pyLDAvis/files/ldavis.v1.0.0.js\", function(){\n",
              "        new LDAvis(\"#\" + \"ldavis_el1201400561907901763207588070\", ldavis_el1201400561907901763207588070_data);\n",
              "      });\n",
              "    });\n",
              "}else{\n",
              "    // require.js not available: dynamically load d3 & LDAvis\n",
              "    LDAvis_load_lib(\"https://cdnjs.cloudflare.com/ajax/libs/d3/3.5.5/d3.min.js\", function(){\n",
              "         LDAvis_load_lib(\"https://cdn.rawgit.com/bmabey/pyLDAvis/files/ldavis.v1.0.0.js\", function(){\n",
              "                 new LDAvis(\"#\" + \"ldavis_el1201400561907901763207588070\", ldavis_el1201400561907901763207588070_data);\n",
              "            })\n",
              "         });\n",
              "}\n",
              "</script>"
            ],
            "text/plain": [
              "<IPython.core.display.HTML object>"
            ]
          },
          "metadata": {
            "tags": []
          },
          "execution_count": 17
        }
      ]
    }
  ]
}