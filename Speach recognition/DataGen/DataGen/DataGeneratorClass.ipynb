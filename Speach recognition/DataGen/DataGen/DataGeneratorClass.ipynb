{
  "nbformat": 4,
  "nbformat_minor": 0,
  "metadata": {
    "colab": {
      "name": "DataGeneratorClass.ipynb",
      "provenance": []
    },
    "kernelspec": {
      "name": "python3",
      "display_name": "Python 3"
    }
  },
  "cells": [
    {
      "cell_type": "markdown",
      "metadata": {
        "id": "2x7fOkoAAbG9",
        "colab_type": "text"
      },
      "source": [
        "Reference:\n",
        "https://stanford.edu/~shervine/blog/keras-how-to-generate-data-on-the-fly"
      ]
    },
    {
      "cell_type": "code",
      "metadata": {
        "id": "hoCHlZfzNUfp",
        "colab_type": "code",
        "colab": {
          "base_uri": "https://localhost:8080/",
          "height": 126
        },
        "outputId": "9e5e4802-3723-4c8e-dd5b-0e81f6e82be3"
      },
      "source": [
        "from google.colab import drive\n",
        "drive.mount(\"/content/gdrive\")"
      ],
      "execution_count": null,
      "outputs": [
        {
          "output_type": "stream",
          "text": [
            "Go to this URL in a browser: https://accounts.google.com/o/oauth2/auth?client_id=947318989803-6bn6qk8qdgf4n4g3pfee6491hc0brc4i.apps.googleusercontent.com&redirect_uri=urn%3aietf%3awg%3aoauth%3a2.0%3aoob&response_type=code&scope=email%20https%3a%2f%2fwww.googleapis.com%2fauth%2fdocs.test%20https%3a%2f%2fwww.googleapis.com%2fauth%2fdrive%20https%3a%2f%2fwww.googleapis.com%2fauth%2fdrive.photos.readonly%20https%3a%2f%2fwww.googleapis.com%2fauth%2fpeopleapi.readonly\n",
            "\n",
            "Enter your authorization code:\n",
            "··········\n",
            "Mounted at /content/gdrive\n"
          ],
          "name": "stdout"
        }
      ]
    },
    {
      "cell_type": "code",
      "metadata": {
        "id": "AVnVQgIcJjui",
        "colab_type": "code",
        "colab": {
          "base_uri": "https://localhost:8080/",
          "height": 346
        },
        "outputId": "b93e3790-35de-4b7a-816c-452b54e9bdd8"
      },
      "source": [
        "from scipy.io import wavfile #for audio processing\n",
        "import warnings\n",
        "warnings.filterwarnings(\"ignore\")\n",
        "import os\n",
        "import librosa   #for audio processing\n",
        "import IPython.display as ipd\n",
        "import matplotlib.pyplot as plt\n",
        "import numpy as np\n",
        "from scipy.io import wavfile #for audio processing\n",
        "import tensorflow as tf \n",
        "import augmentation as aug"
      ],
      "execution_count": null,
      "outputs": [
        {
          "output_type": "error",
          "ename": "ModuleNotFoundError",
          "evalue": "ignored",
          "traceback": [
            "\u001b[0;31m---------------------------------------------------------------------------\u001b[0m",
            "\u001b[0;31mModuleNotFoundError\u001b[0m                       Traceback (most recent call last)",
            "\u001b[0;32m<ipython-input-6-ab5b195fcdd8>\u001b[0m in \u001b[0;36m<module>\u001b[0;34m()\u001b[0m\n\u001b[1;32m      9\u001b[0m \u001b[0;32mfrom\u001b[0m \u001b[0mscipy\u001b[0m\u001b[0;34m.\u001b[0m\u001b[0mio\u001b[0m \u001b[0;32mimport\u001b[0m \u001b[0mwavfile\u001b[0m \u001b[0;31m#for audio processing\u001b[0m\u001b[0;34m\u001b[0m\u001b[0;34m\u001b[0m\u001b[0m\n\u001b[1;32m     10\u001b[0m \u001b[0;32mimport\u001b[0m \u001b[0mtensorflow\u001b[0m \u001b[0;32mas\u001b[0m \u001b[0mtf\u001b[0m\u001b[0;34m\u001b[0m\u001b[0;34m\u001b[0m\u001b[0m\n\u001b[0;32m---> 11\u001b[0;31m \u001b[0;32mimport\u001b[0m \u001b[0maugmentation\u001b[0m \u001b[0;32mas\u001b[0m \u001b[0maug\u001b[0m\u001b[0;34m\u001b[0m\u001b[0;34m\u001b[0m\u001b[0m\n\u001b[0m",
            "\u001b[0;31mModuleNotFoundError\u001b[0m: No module named 'augmentation'",
            "",
            "\u001b[0;31m---------------------------------------------------------------------------\u001b[0;32m\nNOTE: If your import is failing due to a missing package, you can\nmanually install dependencies using either !pip or !apt.\n\nTo view examples of installing some common dependencies, click the\n\"Open Examples\" button below.\n\u001b[0;31m---------------------------------------------------------------------------\u001b[0m\n"
          ]
        }
      ]
    },
    {
      "cell_type": "code",
      "metadata": {
        "id": "4a-utqP8xWv2",
        "colab_type": "code",
        "colab": {}
      },
      "source": [
        ""
      ],
      "execution_count": null,
      "outputs": []
    },
    {
      "cell_type": "code",
      "metadata": {
        "id": "6TFO1XhILG-j",
        "colab_type": "code",
        "colab": {}
      },
      "source": [
        ""
      ],
      "execution_count": null,
      "outputs": []
    },
    {
      "cell_type": "code",
      "metadata": {
        "id": "285xxImPLfSx",
        "colab_type": "code",
        "colab": {}
      },
      "source": [
        "filepath = r\"/content/gdrive/My Drive/test_data/\"\n",
        "sound_path = filepath + '0a7c2a8d_nohash_0.wav'"
      ],
      "execution_count": null,
      "outputs": []
    },
    {
      "cell_type": "code",
      "metadata": {
        "id": "gc9InejqLtVr",
        "colab_type": "code",
        "colab": {}
      },
      "source": [
        "os.getcwd()"
      ],
      "execution_count": null,
      "outputs": []
    },
    {
      "cell_type": "code",
      "metadata": {
        "id": "IOrO35y48B6a",
        "colab_type": "code",
        "colab": {}
      },
      "source": [
        "import matplotlib.pyplot as plt\n",
        "from scipy.io import wavfile\n",
        "import os\n",
        "from pydub import AudioSegment\n",
        "\n",
        "# Calculate and plot spectrogram for a wav audio file\n",
        "def graph_spectrogram(wav_file):\n",
        "    rate, data = get_wav_info(wav_file)\n",
        "    nfft = 200 # Length of each window segment\n",
        "    fs = 8000 # Sampling frequencies\n",
        "    noverlap = 120 # Overlap between windows\n",
        "    nchannels = data.ndim\n",
        "    if nchannels == 1:\n",
        "        pxx, freqs, bins, im = plt.specgram(data, nfft, fs, noverlap = noverlap)\n",
        "    elif nchannels == 2:\n",
        "        pxx, freqs, bins, im = plt.specgram(data[:,0], nfft, fs, noverlap = noverlap)\n",
        "    return pxx\n",
        "\n",
        "# Load a wav file\n",
        "def get_wav_info(wav_file):\n",
        "    rate, data = wavfile.read(wav_file)\n",
        "    return rate, data"
      ],
      "execution_count": null,
      "outputs": []
    },
    {
      "cell_type": "code",
      "metadata": {
        "id": "7--7LXxRARa6",
        "colab_type": "code",
        "colab": {}
      },
      "source": [
        "import numpy as np\n",
        "import keras\n",
        "\n",
        "class DataGenerator(keras.utils.Sequence):\n",
        "    'Generates data for Keras'\n",
        "    def __init__(self, list_IDs, labels, batch_size=32, dim=(32,32,32), n_channels=1,\n",
        "                 n_classes=10, shuffle=True):\n",
        "        'Initialization'\n",
        "        self.dim = dim\n",
        "        self.batch_size = batch_size\n",
        "        self.labels = labels\n",
        "        self.list_IDs = list_IDs\n",
        "        self.n_channels = n_channels\n",
        "        self.n_classes = n_classes\n",
        "        self.shuffle = shuffle\n",
        "        self.on_epoch_end()\n",
        "\n",
        "    def __len__(self):\n",
        "        'Denotes the number of batches per epoch'\n",
        "        return int(np.floor(len(self.list_IDs) / self.batch_size))\n",
        "\n",
        "    def __getitem__(self, index):\n",
        "        'Generate one batch of data'\n",
        "        # Generate indexes of the batch\n",
        "        indexes = self.indexes[index*self.batch_size:(index+1)*self.batch_size]\n",
        "\n",
        "        # Find list of IDs\n",
        "        list_IDs_temp = [self.list_IDs[k] for k in indexes]\n",
        "\n",
        "        # Generate data\n",
        "        X, y = self.__data_generation(list_IDs_temp)\n",
        "\n",
        "        return X, y\n",
        "\n",
        "    def on_epoch_end(self):\n",
        "        'Updates indexes after each epoch'\n",
        "        self.indexes = np.arange(len(self.list_IDs))\n",
        "        if self.shuffle == True:\n",
        "            np.random.shuffle(self.indexes)\n",
        "  #  def __data_generation(self, list_IDs_temp):\n",
        "  #      'Generates data containing batch_size samples' # X : (n_samples, *dim, n_channels)\n",
        "  #      # Initialization\n",
        "  #      X = np.empty((self.batch_size, *self.dim, self.n_channels))\n",
        "  #      y = np.empty((self.batch_size), dtype=int)\n",
        "\n",
        "        # Generate data\n",
        " #       for i, ID in enumerate(list_IDs_temp):\n",
        " #           # Store sample\n",
        " #           X[i,] = graph_spectrogram(filepath + ID )#\n",
        "\n",
        "            # Store class\n",
        " #           y[i] = self.labels[ID]\n",
        "\n",
        " #       return X, keras.utils.to_categorical(y, num_classes=self.n_classes)\n",
        "   def __data_generation (self, list_IDs_temp):\n",
        "    # Generates data containing batch_size samples\n",
        "    X = np.empty((self.batch_size, *self.dim))\n",
        "    Y = np.empty((self.batch_size), dtype =list)\n",
        "    for i, ID in enumerate(list_IDs_temp):\n",
        "\n",
        "      audiofilepath, transcript = data[i]\n",
        "      audio, samplerate = sf.read(audiofilepath)\n",
        "      linetoidx = label_feature(transcript, token_to_index)\n",
        "      \n",
        "      if len(audio)>300000:\n",
        "            audio = audio[:300000]\n",
        "      else:\n",
        "            audio = np.pad(audio, (0, max(0, 300000 - len(audio))), \"constant\")\n",
        "      x = spectrogram_features(audio, samplerate, stridems=10.0,\n",
        "                                windowms=20.0, freqmax=None, eps=1e-14)\n",
        "      if len(linetoidx) > 500:\n",
        "        linetoidx = linetoidx[:500]\n",
        "      else:\n",
        "        linetoidx = np.pad(linetoidx, (0, max(0, 500 - len(linetoidx))), \"constant\")\n",
        "  \n",
        "      X[i,]=x\n",
        "      Y[i]=list(linetoidx)\n",
        "    return X, Y\n",
        "        "
      ],
      "execution_count": null,
      "outputs": []
    }
  ]
}